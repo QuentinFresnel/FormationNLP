{
 "cells": [
  {
   "cell_type": "markdown",
   "metadata": {},
   "source": [
    "Les données sont dispo à cette url :\n",
    "\n",
    "http://alt.qcri.org/semeval2016/task5/index.php?id=data-and-tools"
   ]
  },
  {
   "cell_type": "code",
   "execution_count": 58,
   "metadata": {
    "scrolled": true
   },
   "outputs": [
    {
     "name": "stdout",
     "output_type": "stream",
     "text": [
      "Collecting pandas_read_xml\n",
      "  Downloading pandas_read_xml-0.0.5-py3-none-any.whl (6.2 kB)\n",
      "Requirement already satisfied: pandas==1.0.3 in /Users/quentinfresnel/opt/anaconda3/lib/python3.7/site-packages (from pandas_read_xml) (1.0.3)\n",
      "Requirement already satisfied: xmltodict==0.12.0 in /Users/quentinfresnel/opt/anaconda3/lib/python3.7/site-packages (from pandas_read_xml) (0.12.0)\n",
      "Collecting numpy==1.18.4\n",
      "  Downloading numpy-1.18.4-cp37-cp37m-macosx_10_9_x86_64.whl (15.1 MB)\n",
      "\u001b[K     |████████████████████████████████| 15.1 MB 7.8 MB/s eta 0:00:01\n",
      "\u001b[?25hCollecting pytz==2020.1\n",
      "  Downloading pytz-2020.1-py2.py3-none-any.whl (510 kB)\n",
      "\u001b[K     |████████████████████████████████| 510 kB 5.3 MB/s eta 0:00:01\n",
      "\u001b[?25hCollecting pyarrow==0.17.0\n",
      "  Downloading pyarrow-0.17.0-cp37-cp37m-macosx_10_9_intel.whl (42.0 MB)\n",
      "\u001b[K     |████████████████████████████████| 42.0 MB 10.8 MB/s eta 0:00:01\n",
      "\u001b[?25hRequirement already satisfied: requests==2.23.0 in /Users/quentinfresnel/opt/anaconda3/lib/python3.7/site-packages (from pandas_read_xml) (2.23.0)\n",
      "Requirement already satisfied: chardet==3.0.4 in /Users/quentinfresnel/opt/anaconda3/lib/python3.7/site-packages (from pandas_read_xml) (3.0.4)\n",
      "Requirement already satisfied: idna==2.9 in /Users/quentinfresnel/opt/anaconda3/lib/python3.7/site-packages (from pandas_read_xml) (2.9)\n",
      "Requirement already satisfied: python-dateutil==2.8.1 in /Users/quentinfresnel/opt/anaconda3/lib/python3.7/site-packages (from pandas_read_xml) (2.8.1)\n",
      "Collecting urllib3==1.25.9\n",
      "  Downloading urllib3-1.25.9-py2.py3-none-any.whl (126 kB)\n",
      "\u001b[K     |████████████████████████████████| 126 kB 7.2 MB/s eta 0:00:01\n",
      "\u001b[?25hRequirement already satisfied: certifi==2020.4.5.1 in /Users/quentinfresnel/opt/anaconda3/lib/python3.7/site-packages (from pandas_read_xml) (2020.4.5.1)\n",
      "Requirement already satisfied: six==1.14.0 in /Users/quentinfresnel/opt/anaconda3/lib/python3.7/site-packages (from pandas_read_xml) (1.14.0)\n",
      "Installing collected packages: numpy, pytz, pyarrow, urllib3, pandas-read-xml\n",
      "  Attempting uninstall: numpy\n",
      "    Found existing installation: numpy 1.18.1\n",
      "    Uninstalling numpy-1.18.1:\n",
      "      Successfully uninstalled numpy-1.18.1\n",
      "  Attempting uninstall: pytz\n",
      "    Found existing installation: pytz 2019.3\n",
      "    Uninstalling pytz-2019.3:\n",
      "      Successfully uninstalled pytz-2019.3\n",
      "  Attempting uninstall: urllib3\n",
      "    Found existing installation: urllib3 1.25.8\n",
      "    Uninstalling urllib3-1.25.8:\n",
      "      Successfully uninstalled urllib3-1.25.8\n",
      "Successfully installed numpy-1.18.4 pandas-read-xml-0.0.5 pyarrow-0.17.0 pytz-2020.1 urllib3-1.25.9\n"
     ]
    }
   ],
   "source": [
    "!pip install pandas_read_xml"
   ]
  },
  {
   "cell_type": "code",
   "execution_count": 3,
   "metadata": {},
   "outputs": [],
   "source": [
    "import pandas_read_xml as pdx\n",
    "import numpy as np"
   ]
  },
  {
   "cell_type": "code",
   "execution_count": 11,
   "metadata": {},
   "outputs": [],
   "source": [
    "df = pdx.read_xml(\n",
    "    \"datasets/ABSA16FR_Restaurants_Train-withcontent.xml\",\n",
    "    ['Reviews']\n",
    ")"
   ]
  },
  {
   "cell_type": "markdown",
   "metadata": {},
   "source": [
    "Les Données contiennent plus d'information que nécessaire : chaque commentaire est séparé en phrase qui ont elles même plusieurs notes chacune (service, nourriture, prix ...). Pour simplifier le problème, on va prendre la moyenne des notes et garder une note finale :\n",
    "- `'negative'` (0)\n",
    "- `'neutral'` (1)\n",
    "- `'positive'` (2)"
   ]
  },
  {
   "cell_type": "code",
   "execution_count": 12,
   "metadata": {},
   "outputs": [],
   "source": [
    "def extract_text(row):\n",
    "    \n",
    "    sent = row['sentences']['sentence']\n",
    "    \n",
    "    if isinstance(sent, list):\n",
    "        text = '. '.join([s['text'] for s in sent if s['text'] is not None])\n",
    "    else:\n",
    "        text = sent['text']\n",
    "\n",
    "    return text"
   ]
  },
  {
   "cell_type": "code",
   "execution_count": 13,
   "metadata": {},
   "outputs": [],
   "source": [
    "def extract_label(row, binary=True):\n",
    "    \n",
    "    sent = row['sentences']['sentence']\n",
    "    \n",
    "    def _extract_label(r, binary=True):\n",
    "        \n",
    "        if binary:\n",
    "            correspondance_labels = {\n",
    "                'negative' : 0,\n",
    "                'neutral' : .5,\n",
    "                'positive' : 1\n",
    "            }\n",
    "        else:\n",
    "            correspondance_labels = {\n",
    "                'negative' : 0,\n",
    "                'neutral' : 1,\n",
    "                'positive' : 2\n",
    "            }\n",
    "        \n",
    "        opinions = r['Opinions']['Opinion']\n",
    "        \n",
    "        if isinstance(opinions, list):\n",
    "            polarities = [o['@polarity'] for o in opinions]\n",
    "            pol_int = [correspondance_labels[p] for p in polarities]\n",
    "\n",
    "            label = int(np.round(np.mean(pol_int)))\n",
    "        \n",
    "        else:\n",
    "            label = correspondance_labels[opinions['@polarity']]\n",
    "            \n",
    "        return label\n",
    "    \n",
    "    if isinstance(sent, list):\n",
    "        labels = [x for x in sent if x is not None]\n",
    "        labels = [x for x in labels if x['Opinions'] is not None]\n",
    "        labels = [_extract_label(s) for s in labels]\n",
    "        label = int(np.round(np.mean(labels)))\n",
    "    else:\n",
    "        label = _extract_label(sent)\n",
    "    \n",
    "    return label"
   ]
  },
  {
   "cell_type": "code",
   "execution_count": 14,
   "metadata": {
    "scrolled": true
   },
   "outputs": [],
   "source": [
    "df['texte'] = df.Review.apply(extract_text)\n",
    "df['label_2'] = df.Review.apply(extract_label, binary=True)\n",
    "df['label_3'] = df.Review.apply(extract_label, binary=False)"
   ]
  },
  {
   "cell_type": "code",
   "execution_count": 15,
   "metadata": {},
   "outputs": [
    {
     "data": {
      "text/plain": [
       "'Service de tres bonne qualité, restaurant agreable et cuisine delicieuse !. Les produits sont frais et de saison, cest un regal !. Jy retournerai a coup sur pour decouvrir les autres plats de la carte.'"
      ]
     },
     "execution_count": 15,
     "metadata": {},
     "output_type": "execute_result"
    }
   ],
   "source": [
    "df.texte[100]"
   ]
  },
  {
   "cell_type": "code",
   "execution_count": 21,
   "metadata": {},
   "outputs": [
    {
     "data": {
      "text/plain": [
       "1"
      ]
     },
     "execution_count": 21,
     "metadata": {},
     "output_type": "execute_result"
    }
   ],
   "source": [
    "df.label_2[100]"
   ]
  },
  {
   "cell_type": "code",
   "execution_count": 22,
   "metadata": {},
   "outputs": [],
   "source": [
    "df.drop('Review', axis=1).to_csv(\"datasets/restaurants.csv\")"
   ]
  }
 ],
 "metadata": {
  "kernelspec": {
   "display_name": "Python 3",
   "language": "python",
   "name": "python3"
  },
  "language_info": {
   "codemirror_mode": {
    "name": "ipython",
    "version": 3
   },
   "file_extension": ".py",
   "mimetype": "text/x-python",
   "name": "python",
   "nbconvert_exporter": "python",
   "pygments_lexer": "ipython3",
   "version": "3.7.7"
  },
  "toc": {
   "base_numbering": 1,
   "nav_menu": {},
   "number_sections": true,
   "sideBar": true,
   "skip_h1_title": false,
   "title_cell": "Table of Contents",
   "title_sidebar": "Contents",
   "toc_cell": false,
   "toc_position": {},
   "toc_section_display": true,
   "toc_window_display": false
  }
 },
 "nbformat": 4,
 "nbformat_minor": 4
}
