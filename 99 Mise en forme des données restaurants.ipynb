{
 "cells": [
  {
   "cell_type": "markdown",
   "metadata": {},
   "source": [
    "Les données sont dispo à cette url :\n",
    "\n",
    "http://alt.qcri.org/semeval2016/task5/index.php?id=data-and-tools"
   ]
  },
  {
   "cell_type": "code",
   "execution_count": null,
   "metadata": {},
   "outputs": [],
   "source": [
    "!pip install pandas_read_xml"
   ]
  },
  {
   "cell_type": "code",
   "execution_count": 62,
   "metadata": {},
   "outputs": [],
   "source": [
    "import pandas_read_xml as pdx\n",
    "import numpy as np\n",
    "from functools import partial"
   ]
  },
  {
   "cell_type": "code",
   "execution_count": 63,
   "metadata": {},
   "outputs": [],
   "source": [
    "df = pdx.read_xml(\n",
    "    \"datasets/ABSA16FR_Restaurants_Train-withcontent.xml\",\n",
    "    ['Reviews']\n",
    ")"
   ]
  },
  {
   "cell_type": "markdown",
   "metadata": {},
   "source": [
    "Les Données contiennent plus d'information que nécessaire : chaque commentaire est séparé en phrase qui ont elles même plusieurs notes chacune (service, nourriture, prix ...). Pour simplifier le problème, on va prendre la moyenne des notes et garder une note finale :\n",
    "- `'negative'` (0)\n",
    "- `'neutral'` (1)\n",
    "- `'positive'` (2)"
   ]
  },
  {
   "cell_type": "code",
   "execution_count": 64,
   "metadata": {},
   "outputs": [],
   "source": [
    "def extract_text(row):\n",
    "    \n",
    "    sent = row['sentences']['sentence']\n",
    "    \n",
    "    if isinstance(sent, list):\n",
    "        text = '. '.join([s['text'] for s in sent if s['text'] is not None])\n",
    "    else:\n",
    "        text = sent['text']\n",
    "\n",
    "    return text"
   ]
  },
  {
   "cell_type": "code",
   "execution_count": 65,
   "metadata": {},
   "outputs": [],
   "source": [
    "def extract_label(row, is_binary=True):\n",
    "    \n",
    "    sent = row['sentences']['sentence']\n",
    "    \n",
    "    def _extract_label(r, is_binary=True):\n",
    "        \n",
    "        if is_binary:\n",
    "            correspondance_labels = {\n",
    "                'negative' : 0,\n",
    "                'neutral' : .5,\n",
    "                'positive' : 1\n",
    "            }\n",
    "        else:\n",
    "            correspondance_labels = {\n",
    "                'negative' : 0,\n",
    "                'neutral' : 1,\n",
    "                'positive' : 2\n",
    "            }\n",
    "        \n",
    "        opinions = r['Opinions']['Opinion']\n",
    "        \n",
    "        if isinstance(opinions, list):\n",
    "            polarities = [o['@polarity'] for o in opinions]\n",
    "            pol_int = [correspondance_labels[p] for p in polarities]\n",
    "\n",
    "            label = int(np.round(np.mean(pol_int)))\n",
    "        \n",
    "        else:\n",
    "            label = correspondance_labels[opinions['@polarity']]\n",
    "            \n",
    "        return label\n",
    "    \n",
    "    if isinstance(sent, list):\n",
    "        labels = [x for x in sent if x is not None]\n",
    "        labels = [x for x in labels if x['Opinions'] is not None]\n",
    "        labels = [_extract_label(s, is_binary) for s in labels]\n",
    "        label = int(np.round(np.mean(labels)))\n",
    "    else:\n",
    "        label = _extract_label(sent, is_binary)\n",
    "    \n",
    "    return label"
   ]
  },
  {
   "cell_type": "code",
   "execution_count": 66,
   "metadata": {
    "scrolled": true
   },
   "outputs": [],
   "source": [
    "df['texte'] = df.Review.apply(extract_text)\n",
    "df['label_2'] = df.Review.apply(partial(extract_label, is_binary=True))\n",
    "df['label_3'] = df.Review.apply(partial(extract_label, is_binary=False))"
   ]
  },
  {
   "cell_type": "code",
   "execution_count": 67,
   "metadata": {},
   "outputs": [
    {
     "data": {
      "text/plain": [
       "'Service de tres bonne qualitÃ©, restaurant agreable et cuisine delicieuse !. Les produits sont frais et de saison, cest un regal !. Jy retournerai a coup sur pour decouvrir les autres plats de la carte.'"
      ]
     },
     "execution_count": 67,
     "metadata": {},
     "output_type": "execute_result"
    }
   ],
   "source": [
    "df.texte[100]"
   ]
  },
  {
   "cell_type": "code",
   "execution_count": 68,
   "metadata": {
    "scrolled": true
   },
   "outputs": [
    {
     "data": {
      "text/plain": [
       "0    187\n",
       "1    148\n",
       "Name: label_2, dtype: int64"
      ]
     },
     "execution_count": 68,
     "metadata": {},
     "output_type": "execute_result"
    }
   ],
   "source": [
    "df.label_2.value_counts()"
   ]
  },
  {
   "cell_type": "code",
   "execution_count": 69,
   "metadata": {
    "scrolled": true
   },
   "outputs": [
    {
     "data": {
      "text/plain": [
       "2    138\n",
       "0    138\n",
       "1     59\n",
       "Name: label_3, dtype: int64"
      ]
     },
     "execution_count": 69,
     "metadata": {},
     "output_type": "execute_result"
    }
   ],
   "source": [
    "df.label_3.value_counts()"
   ]
  },
  {
   "cell_type": "code",
   "execution_count": 71,
   "metadata": {},
   "outputs": [],
   "source": [
    "df.drop('Review', axis=1).to_csv(\"datasets/restaurants.csv\")\n",
    "df.drop('Review', axis=1).to_csv(\"restaurants.csv\")"
   ]
  },
  {
   "cell_type": "code",
   "execution_count": null,
   "metadata": {},
   "outputs": [],
   "source": []
  },
  {
   "cell_type": "code",
   "execution_count": 59,
   "metadata": {},
   "outputs": [],
   "source": [
    "import pandas as pd\n",
    "\n",
    "df = pd.read_csv(\"restaurants.csv\", index_col=0)"
   ]
  },
  {
   "cell_type": "code",
   "execution_count": 60,
   "metadata": {},
   "outputs": [
    {
     "data": {
      "text/plain": [
       "0    187\n",
       "1    148\n",
       "Name: label_3, dtype: int64"
      ]
     },
     "execution_count": 60,
     "metadata": {},
     "output_type": "execute_result"
    }
   ],
   "source": [
    "df.label_3.value_counts()"
   ]
  },
  {
   "cell_type": "code",
   "execution_count": null,
   "metadata": {},
   "outputs": [],
   "source": []
  }
 ],
 "metadata": {
  "kernelspec": {
   "display_name": "Python 3",
   "language": "python",
   "name": "python3"
  },
  "language_info": {
   "codemirror_mode": {
    "name": "ipython",
    "version": 3
   },
   "file_extension": ".py",
   "mimetype": "text/x-python",
   "name": "python",
   "nbconvert_exporter": "python",
   "pygments_lexer": "ipython3",
   "version": "3.7.4"
  },
  "toc": {
   "base_numbering": 1,
   "nav_menu": {},
   "number_sections": true,
   "sideBar": true,
   "skip_h1_title": false,
   "title_cell": "Table of Contents",
   "title_sidebar": "Contents",
   "toc_cell": false,
   "toc_position": {},
   "toc_section_display": true,
   "toc_window_display": false
  }
 },
 "nbformat": 4,
 "nbformat_minor": 4
}
