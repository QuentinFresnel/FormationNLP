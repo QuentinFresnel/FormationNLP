{
 "cells": [
  {
   "cell_type": "markdown",
   "metadata": {},
   "source": [
    "Cette première session de NLP va vous donner les bases de la manipulation de texte en vue du data challenge qui vous attend après l'été !"
   ]
  },
  {
   "cell_type": "code",
   "execution_count": null,
   "metadata": {},
   "outputs": [],
   "source": [
    "!pip install spacy\n",
    "!python -m spacy download fr_core_news_md"
   ]
  },
  {
   "cell_type": "code",
   "execution_count": 1,
   "metadata": {},
   "outputs": [],
   "source": [
    "import spacy"
   ]
  },
  {
   "cell_type": "markdown",
   "metadata": {},
   "source": [
    "# Preprocessing avec spacy"
   ]
  },
  {
   "cell_type": "markdown",
   "metadata": {},
   "source": [
    "## Chargement de la librairie"
   ]
  },
  {
   "cell_type": "markdown",
   "metadata": {},
   "source": [
    "- Charger le modèle `'fr_core_news_md'` à l'aide de la fonction `spacy.load()` et le stocker dans la variable `nlp`\n",
    "- Créer un `doc` et afficher son texte."
   ]
  },
  {
   "cell_type": "code",
   "execution_count": 3,
   "metadata": {},
   "outputs": [
    {
     "name": "stdout",
     "output_type": "stream",
     "text": [
      "Ceci est une phrase narcissique puisqu'elle ne parle que d'elle-même.\n"
     ]
    }
   ],
   "source": [
    "# Créez l'objet nlp\n",
    "nlp = ____\n",
    "\n",
    "# Traitement du texte\n",
    "doc = nlp(\"Ceci est une phrase narcissique puisqu'elle \"\n",
    "          \"ne parle que d'elle-même.\")\n",
    "\n",
    "# Affichez le texte du document\n",
    "print(____.text)"
   ]
  },
  {
   "cell_type": "markdown",
   "metadata": {},
   "source": [
    "**L'objet NLP**\n",
    "\n",
    "- contient le 'pipeline' des calculs\n",
    "- inclut des règles spécifiques au langage pour la tokenization, etc.\n",
    "\n",
    "**L'objet doc**\n",
    "\n",
    "Contient un document, c'est-à-dire un ensemble de *tokens*."
   ]
  },
  {
   "cell_type": "markdown",
   "metadata": {},
   "source": [
    "### Manipulation d'un objet `Doc`"
   ]
  },
  {
   "cell_type": "markdown",
   "metadata": {},
   "source": [
    "L'objet `Doc`se manipule comme une liste. \n",
    "\n",
    "A l'aide des `[]`:\n",
    "- Accedez au premier token de doc\n",
    "- Selectionnez les mots `'est une'` dans une slice\n",
    "- Selectionnez les mots entre `'est une phrase narcissique'` dans une slice"
   ]
  },
  {
   "cell_type": "code",
   "execution_count": 3,
   "metadata": {},
   "outputs": [
    {
     "name": "stdout",
     "output_type": "stream",
     "text": [
      "est une\n",
      "est une phrase narcissique\n"
     ]
    }
   ],
   "source": [
    "# A slice of the Doc for 'est une'\n",
    "est_une = ____\n",
    "print(est_une.text)\n",
    "\n",
    "# A slice of the Doc for 'est une phrase narcissique'\n",
    "est_une_phrase_narcissique = ____\n",
    "print(est_une_phrase_narcissique.text)"
   ]
  },
  {
   "cell_type": "markdown",
   "metadata": {},
   "source": [
    "### Tokenisation"
   ]
  },
  {
   "cell_type": "code",
   "execution_count": null,
   "metadata": {},
   "outputs": [],
   "source": [
    "text = \"\"\"L'apprentissage de la data science requiert de ne pas se décourager.\n",
    "Les défis et les revers ne sont pas des échecs, ils font simplement partie du voyage!\"\"\"\n",
    "\n",
    "# L'objet \"nlp\" est utilisé pour créer un document avec des annotations linguistiques\n",
    "doc = nlp(text)"
   ]
  },
  {
   "cell_type": "code",
   "execution_count": 4,
   "metadata": {},
   "outputs": [
    {
     "name": "stdout",
     "output_type": "stream",
     "text": [
      "[\"L'\", 'apprentissage', 'de', 'la', 'data', 'science', 'requiert', 'de', 'ne', 'pas', 'se', 'décourager', '.', '\\n', 'Les', 'défis', 'et', 'les', 'revers', 'ne', 'sont', 'pas', 'des', 'échecs', ',', 'ils', 'font', 'simplement', 'partie', 'du', 'voyage', '!']\n"
     ]
    }
   ],
   "source": [
    "# Tokenization de mots\n",
    "\n",
    "# Créer la liste des tokens de mots\n",
    "token_list = []\n",
    "for token in my_doc:\n",
    "    token_list.append(token.text)\n",
    "print(token_list)"
   ]
  },
  {
   "cell_type": "markdown",
   "metadata": {},
   "source": [
    "#### Exercice"
   ]
  },
  {
   "cell_type": "markdown",
   "metadata": {},
   "source": [
    "Dans cet exemple, vous allez utiliser les objets `Doc` et `Token` de spaCy, et des attributs lexicaux pour identifier des pourcentages dans un texte. Vous devez chercher deux tokens qui se suivent: un nombre et un signe pourcentage.\n",
    "\n",
    "- Utiliser l'attribut de token `like_num` pour voir si le token dans le document ressemble à un nombre.\n",
    "- Lire le token qui suit immédiatement ce token. L'index du token suivant dans le `doc` est `token.i + 1`.\n",
    "- Regarder si l'attribut `text` du token suivant est un signe `”%“`."
   ]
  },
  {
   "cell_type": "code",
   "execution_count": 4,
   "metadata": {},
   "outputs": [
    {
     "name": "stdout",
     "output_type": "stream",
     "text": [
      "Pourcentage trouvé: 60\n",
      "Pourcentage trouvé: 4\n"
     ]
    }
   ],
   "source": [
    "# Process the text\n",
    "doc = nlp(\n",
    "    \"En 1990, plus de 60% de la population d'Asie orientale vivait dans l'extrême pauvreté. \"\n",
    "    \"Cela représente désormais moins de 4%.\"\n",
    ")\n",
    "\n",
    "# Iterate over the tokens in the doc\n",
    "for token in doc:\n",
    "    # Check if the token resembles a number\n",
    "    if ____.____:\n",
    "        # Get the next token in the document\n",
    "        next_token = ____[____]\n",
    "        # Check if the next token's text equals \"%\"\n",
    "        if next_token.____ == \"%\":\n",
    "            print(\"Pourcentage trouvé:\", token.text)"
   ]
  },
  {
   "cell_type": "markdown",
   "metadata": {},
   "source": [
    "### Suppression des stop words"
   ]
  },
  {
   "cell_type": "code",
   "execution_count": 4,
   "metadata": {},
   "outputs": [
    {
     "name": "stdout",
     "output_type": "stream",
     "text": [
      "['probante', 'unes', 'diverse', 'dix', 'elles', 'hélas', 'n’', 'allô', 'fait', 'as']\n"
     ]
    }
   ],
   "source": [
    "from spacy.lang.fr.stop_words import STOP_WORDS\n",
    "\n",
    "print(list(STOP_WORDS)[:10])"
   ]
  },
  {
   "cell_type": "code",
   "execution_count": 8,
   "metadata": {},
   "outputs": [
    {
     "name": "stdout",
     "output_type": "stream",
     "text": [
      "Filtered Sentence: [L', apprentissage, de, la, data, science, requiert, de, ne, pas, se, décourager, \n",
      ", Les, défis, et, les, revers, ne, sont, pas, des, échecs, ils, font, simplement, partie, du, voyage]\n"
     ]
    }
   ],
   "source": [
    "#Implémentation des stop words:\n",
    "filtered_sent=[]\n",
    "\n",
    "#  L'objet \"nlp\" est utilisé pour créer des documents avec annotations\n",
    "doc = nlp(text)\n",
    "\n",
    "# filtering stop words\n",
    "for word in doc:\n",
    "    if word.is_stop or word.is_punct ==False:\n",
    "        filtered_sent.append(word)\n",
    "print(\"Filtered Sentence:\",filtered_sent)"
   ]
  },
  {
   "cell_type": "code",
   "execution_count": 9,
   "metadata": {},
   "outputs": [
    {
     "name": "stdout",
     "output_type": "stream",
     "text": [
      "[L', apprentissage, data, science, requiert, décourager, \n",
      ", Les, défis, revers, échecs, simplement, partie, voyage]\n"
     ]
    }
   ],
   "source": [
    "doc = nlp(text)\n",
    "tokens = [token for token in doc if not token.text in STOP_WORDS and not token.is_punct]\n",
    "print(tokens)"
   ]
  },
  {
   "cell_type": "markdown",
   "metadata": {},
   "source": [
    "### Lemmatisation"
   ]
  },
  {
   "cell_type": "code",
   "execution_count": 6,
   "metadata": {},
   "outputs": [
    {
     "name": "stdout",
     "output_type": "stream",
     "text": [
      "Enedis Enedis\n",
      "entretient entretient\n",
      "plus plus\n",
      "d'1,34 d'1,34\n",
      "million million\n",
      "de de\n",
      "kilomètres kilomètres\n",
      "de de\n",
      "câbles câbles\n",
      "électriques électriques\n",
      ". .\n"
     ]
    }
   ],
   "source": [
    "# Implémenter la lemmatization en anglais\n",
    "\n",
    "doc = nlp(\"Enedis entretient plus d'1,34 million de kilomètres de câbles électriques.\")\n",
    "\n",
    "for word in doc:\n",
    "    print(word, word.lemma_)"
   ]
  },
  {
   "cell_type": "code",
   "execution_count": null,
   "metadata": {},
   "outputs": [],
   "source": [
    "!pip install spacy-lefff"
   ]
  },
  {
   "cell_type": "code",
   "execution_count": 37,
   "metadata": {},
   "outputs": [
    {
     "name": "stdout",
     "output_type": "stream",
     "text": [
      "2020-06-30 22:16:37,678 - spacy_lefff.downloader - INFO - data already set up\n",
      "2020-06-30 22:16:37,678 - spacy_lefff.melt_tagger - INFO - Token melt_tagger already registered\n",
      "2020-06-30 22:16:37,679 - spacy_lefff.melt_tagger - INFO -   TAGGER: Loading lexicon...\n",
      "2020-06-30 22:16:38,105 - spacy_lefff.melt_tagger - INFO -   TAGGER: Loading tags...\n",
      "2020-06-30 22:16:38,128 - spacy_lefff.melt_tagger - INFO -   TAGGER: Loading model from C:\\Users\\Gabriel\\Anaconda3\\lib\\site-packages\\spacy_lefff\\data\\tagger\\models/fr...\n",
      "2020-06-30 22:16:38,512 - spacy_lefff.melt_tagger - INFO -   TAGGER: Loading model from C:\\Users\\Gabriel\\Anaconda3\\lib\\site-packages\\spacy_lefff\\data\\tagger\\models/fr: done\n",
      "2020-06-30 22:16:38,570 - spacy_lefff.lefff - INFO - New LefffLemmatizer instantiated.\n",
      "2020-06-30 22:16:38,571 - spacy_lefff.lefff - INFO - Token lefff_lemma already registered\n",
      "2020-06-30 22:16:38,572 - spacy_lefff.lefff - INFO - Reading lefff data...\n",
      "2020-06-30 22:16:38,981 - spacy_lefff.lefff - INFO - Successfully loaded lefff lemmatizer\n",
      "2020-06-30 22:16:38,983 - spacy_lefff.melt_tagger - INFO -   TAGGER: POS Tagging...\n",
      "Enedis enedis\n",
      "entretient entretenir\n",
      "plus plus\n",
      "d'1,34 d'1,34\n",
      "million million\n",
      "de de\n",
      "kilomètres kilomètre\n",
      "de de\n",
      "câbles câble\n",
      "électriques électrique\n",
      ". .\n"
     ]
    }
   ],
   "source": [
    "# Implémenter la lemmatization en français\n",
    "\n",
    "import spacy\n",
    "from spacy_lefff import LefffLemmatizer, POSTagger\n",
    "\n",
    "# chargement du lemmatizer\n",
    "french_lemmatizer = LefffLemmatizer(default=True)\n",
    "nlp.add_pipe(french_lemmatizer, name='lefff')\n",
    "\n",
    "# Lemmatisation\n",
    "doc = nlp(\"Enedis entretient plus d'1,34 million de kilomètres de câbles électriques.\")\n",
    "\n",
    "# L'attribut 'lemme' de spacy-lefff est '_.lefff_lemma'\n",
    "for word in doc:\n",
    "    print(word.text, word.___)"
   ]
  },
  {
   "cell_type": "markdown",
   "metadata": {},
   "source": [
    "### Etiquetage morpho-syntaxique (POS tags)"
   ]
  },
  {
   "cell_type": "markdown",
   "metadata": {},
   "source": [
    "**Que sont les modèles statistiques ?**\n",
    "\n",
    "- Ils permettent à spaCy de prédir les attributs linguistiques dans un contexte\n",
    "    - Tags Part-of-speech (POS)\n",
    "    - Dépendances syntaxiques\n",
    "    - Entités nommées\n",
    "- Ils sont entraînés sur des textes labellisés\n",
    "- Ils peuvent être mis à jour avec des exemples additionnels"
   ]
  },
  {
   "cell_type": "code",
   "execution_count": 14,
   "metadata": {},
   "outputs": [
    {
     "name": "stdout",
     "output_type": "stream",
     "text": [
      "Elle PRON\n",
      "a AUX\n",
      "mangé VERB\n",
      "la DET\n",
      "pizza NOUN\n"
     ]
    }
   ],
   "source": [
    "doc = nlp(\"Elle a mangé la pizza\")\n",
    "\n",
    "for token in doc:\n",
    "    # Afficher le texte et les 'part-of-speech' tags\n",
    "    print(token.text, token.pos_)"
   ]
  },
  {
   "cell_type": "code",
   "execution_count": 47,
   "metadata": {},
   "outputs": [
    {
     "data": {
      "text/plain": [
       "'pronoun'"
      ]
     },
     "execution_count": 47,
     "metadata": {},
     "output_type": "execute_result"
    }
   ],
   "source": [
    "spacy.explain(\"PRON\")"
   ]
  },
  {
   "cell_type": "markdown",
   "metadata": {},
   "source": [
    "### Analyse des dépendances"
   ]
  },
  {
   "cell_type": "code",
   "execution_count": 15,
   "metadata": {},
   "outputs": [
    {
     "name": "stdout",
     "output_type": "stream",
     "text": [
      "Elle PRON nsubj mangé\n",
      "a AUX aux mangé\n",
      "mangé VERB ROOT mangé\n",
      "la DET det pizza\n",
      "pizza NOUN obj mangé\n"
     ]
    },
    {
     "data": {
      "text/html": [
       "<span class=\"tex2jax_ignore\"><svg xmlns=\"http://www.w3.org/2000/svg\" xmlns:xlink=\"http://www.w3.org/1999/xlink\" xml:lang=\"fr\" id=\"fcf0d8cf89d749c7a8ea071894dce3d5-0\" class=\"displacy\" width=\"925\" height=\"312.0\" direction=\"ltr\" style=\"max-width: none; height: 312.0px; color: #000000; background: #ffffff; font-family: Arial; direction: ltr\">\n",
       "<text class=\"displacy-token\" fill=\"currentColor\" text-anchor=\"middle\" y=\"222.0\">\n",
       "    <tspan class=\"displacy-word\" fill=\"currentColor\" x=\"50\">Elle</tspan>\n",
       "    <tspan class=\"displacy-tag\" dy=\"2em\" fill=\"currentColor\" x=\"50\">PRON</tspan>\n",
       "</text>\n",
       "\n",
       "<text class=\"displacy-token\" fill=\"currentColor\" text-anchor=\"middle\" y=\"222.0\">\n",
       "    <tspan class=\"displacy-word\" fill=\"currentColor\" x=\"225\">a</tspan>\n",
       "    <tspan class=\"displacy-tag\" dy=\"2em\" fill=\"currentColor\" x=\"225\">AUX</tspan>\n",
       "</text>\n",
       "\n",
       "<text class=\"displacy-token\" fill=\"currentColor\" text-anchor=\"middle\" y=\"222.0\">\n",
       "    <tspan class=\"displacy-word\" fill=\"currentColor\" x=\"400\">mangé</tspan>\n",
       "    <tspan class=\"displacy-tag\" dy=\"2em\" fill=\"currentColor\" x=\"400\">VERB</tspan>\n",
       "</text>\n",
       "\n",
       "<text class=\"displacy-token\" fill=\"currentColor\" text-anchor=\"middle\" y=\"222.0\">\n",
       "    <tspan class=\"displacy-word\" fill=\"currentColor\" x=\"575\">la</tspan>\n",
       "    <tspan class=\"displacy-tag\" dy=\"2em\" fill=\"currentColor\" x=\"575\">DET</tspan>\n",
       "</text>\n",
       "\n",
       "<text class=\"displacy-token\" fill=\"currentColor\" text-anchor=\"middle\" y=\"222.0\">\n",
       "    <tspan class=\"displacy-word\" fill=\"currentColor\" x=\"750\">pizza</tspan>\n",
       "    <tspan class=\"displacy-tag\" dy=\"2em\" fill=\"currentColor\" x=\"750\">NOUN</tspan>\n",
       "</text>\n",
       "\n",
       "<g class=\"displacy-arrow\">\n",
       "    <path class=\"displacy-arc\" id=\"arrow-fcf0d8cf89d749c7a8ea071894dce3d5-0-0\" stroke-width=\"2px\" d=\"M70,177.0 C70,2.0 400.0,2.0 400.0,177.0\" fill=\"none\" stroke=\"currentColor\"/>\n",
       "    <text dy=\"1.25em\" style=\"font-size: 0.8em; letter-spacing: 1px\">\n",
       "        <textPath xlink:href=\"#arrow-fcf0d8cf89d749c7a8ea071894dce3d5-0-0\" class=\"displacy-label\" startOffset=\"50%\" side=\"left\" fill=\"currentColor\" text-anchor=\"middle\">nsubj</textPath>\n",
       "    </text>\n",
       "    <path class=\"displacy-arrowhead\" d=\"M70,179.0 L62,167.0 78,167.0\" fill=\"currentColor\"/>\n",
       "</g>\n",
       "\n",
       "<g class=\"displacy-arrow\">\n",
       "    <path class=\"displacy-arc\" id=\"arrow-fcf0d8cf89d749c7a8ea071894dce3d5-0-1\" stroke-width=\"2px\" d=\"M245,177.0 C245,89.5 395.0,89.5 395.0,177.0\" fill=\"none\" stroke=\"currentColor\"/>\n",
       "    <text dy=\"1.25em\" style=\"font-size: 0.8em; letter-spacing: 1px\">\n",
       "        <textPath xlink:href=\"#arrow-fcf0d8cf89d749c7a8ea071894dce3d5-0-1\" class=\"displacy-label\" startOffset=\"50%\" side=\"left\" fill=\"currentColor\" text-anchor=\"middle\">aux</textPath>\n",
       "    </text>\n",
       "    <path class=\"displacy-arrowhead\" d=\"M245,179.0 L237,167.0 253,167.0\" fill=\"currentColor\"/>\n",
       "</g>\n",
       "\n",
       "<g class=\"displacy-arrow\">\n",
       "    <path class=\"displacy-arc\" id=\"arrow-fcf0d8cf89d749c7a8ea071894dce3d5-0-2\" stroke-width=\"2px\" d=\"M595,177.0 C595,89.5 745.0,89.5 745.0,177.0\" fill=\"none\" stroke=\"currentColor\"/>\n",
       "    <text dy=\"1.25em\" style=\"font-size: 0.8em; letter-spacing: 1px\">\n",
       "        <textPath xlink:href=\"#arrow-fcf0d8cf89d749c7a8ea071894dce3d5-0-2\" class=\"displacy-label\" startOffset=\"50%\" side=\"left\" fill=\"currentColor\" text-anchor=\"middle\">det</textPath>\n",
       "    </text>\n",
       "    <path class=\"displacy-arrowhead\" d=\"M595,179.0 L587,167.0 603,167.0\" fill=\"currentColor\"/>\n",
       "</g>\n",
       "\n",
       "<g class=\"displacy-arrow\">\n",
       "    <path class=\"displacy-arc\" id=\"arrow-fcf0d8cf89d749c7a8ea071894dce3d5-0-3\" stroke-width=\"2px\" d=\"M420,177.0 C420,2.0 750.0,2.0 750.0,177.0\" fill=\"none\" stroke=\"currentColor\"/>\n",
       "    <text dy=\"1.25em\" style=\"font-size: 0.8em; letter-spacing: 1px\">\n",
       "        <textPath xlink:href=\"#arrow-fcf0d8cf89d749c7a8ea071894dce3d5-0-3\" class=\"displacy-label\" startOffset=\"50%\" side=\"left\" fill=\"currentColor\" text-anchor=\"middle\">obj</textPath>\n",
       "    </text>\n",
       "    <path class=\"displacy-arrowhead\" d=\"M750.0,179.0 L758.0,167.0 742.0,167.0\" fill=\"currentColor\"/>\n",
       "</g>\n",
       "</svg></span>"
      ],
      "text/plain": [
       "<IPython.core.display.HTML object>"
      ]
     },
     "metadata": {},
     "output_type": "display_data"
    }
   ],
   "source": [
    "from spacy import displacy\n",
    "\n",
    "for token in doc:\n",
    "    print(token.text, token.pos_, token.dep_, token.head.text)\n",
    "\n",
    "displacy.render(doc, style=\"dep\")"
   ]
  },
  {
   "cell_type": "code",
   "execution_count": 48,
   "metadata": {},
   "outputs": [
    {
     "data": {
      "text/plain": [
       "'nominal subject'"
      ]
     },
     "execution_count": 48,
     "metadata": {},
     "output_type": "execute_result"
    }
   ],
   "source": [
    "spacy.explain(\"nsubj\")"
   ]
  },
  {
   "cell_type": "code",
   "execution_count": 74,
   "metadata": {},
   "outputs": [
    {
     "name": "stdout",
     "output_type": "stream",
     "text": [
      "En ADP case\n",
      "France PROPN obl\n",
      "les DET det\n",
      "compteurs NOUN nsubj:pass\n",
      "intelligents ADJ amod\n",
      "seront AUX aux:pass\n",
      "bientôt ADV advmod\n",
      "entièrement ADV advmod\n",
      "déployés VERB ROOT\n",
      ". PUNCT punct\n"
     ]
    },
    {
     "data": {
      "text/html": [
       "<span class=\"tex2jax_ignore\"><svg xmlns=\"http://www.w3.org/2000/svg\" xmlns:xlink=\"http://www.w3.org/1999/xlink\" xml:lang=\"fr\" id=\"6d2f5b74c8984c41a445ae2507e0a1cd-0\" class=\"displacy\" width=\"1625\" height=\"574.5\" direction=\"ltr\" style=\"max-width: none; height: 574.5px; color: #000000; background: #ffffff; font-family: Arial; direction: ltr\">\n",
       "<text class=\"displacy-token\" fill=\"currentColor\" text-anchor=\"middle\" y=\"484.5\">\n",
       "    <tspan class=\"displacy-word\" fill=\"currentColor\" x=\"50\">En</tspan>\n",
       "    <tspan class=\"displacy-tag\" dy=\"2em\" fill=\"currentColor\" x=\"50\">ADP</tspan>\n",
       "</text>\n",
       "\n",
       "<text class=\"displacy-token\" fill=\"currentColor\" text-anchor=\"middle\" y=\"484.5\">\n",
       "    <tspan class=\"displacy-word\" fill=\"currentColor\" x=\"225\">France</tspan>\n",
       "    <tspan class=\"displacy-tag\" dy=\"2em\" fill=\"currentColor\" x=\"225\">PROPN</tspan>\n",
       "</text>\n",
       "\n",
       "<text class=\"displacy-token\" fill=\"currentColor\" text-anchor=\"middle\" y=\"484.5\">\n",
       "    <tspan class=\"displacy-word\" fill=\"currentColor\" x=\"400\">les</tspan>\n",
       "    <tspan class=\"displacy-tag\" dy=\"2em\" fill=\"currentColor\" x=\"400\">DET</tspan>\n",
       "</text>\n",
       "\n",
       "<text class=\"displacy-token\" fill=\"currentColor\" text-anchor=\"middle\" y=\"484.5\">\n",
       "    <tspan class=\"displacy-word\" fill=\"currentColor\" x=\"575\">compteurs</tspan>\n",
       "    <tspan class=\"displacy-tag\" dy=\"2em\" fill=\"currentColor\" x=\"575\">NOUN</tspan>\n",
       "</text>\n",
       "\n",
       "<text class=\"displacy-token\" fill=\"currentColor\" text-anchor=\"middle\" y=\"484.5\">\n",
       "    <tspan class=\"displacy-word\" fill=\"currentColor\" x=\"750\">intelligents</tspan>\n",
       "    <tspan class=\"displacy-tag\" dy=\"2em\" fill=\"currentColor\" x=\"750\">ADJ</tspan>\n",
       "</text>\n",
       "\n",
       "<text class=\"displacy-token\" fill=\"currentColor\" text-anchor=\"middle\" y=\"484.5\">\n",
       "    <tspan class=\"displacy-word\" fill=\"currentColor\" x=\"925\">seront</tspan>\n",
       "    <tspan class=\"displacy-tag\" dy=\"2em\" fill=\"currentColor\" x=\"925\">AUX</tspan>\n",
       "</text>\n",
       "\n",
       "<text class=\"displacy-token\" fill=\"currentColor\" text-anchor=\"middle\" y=\"484.5\">\n",
       "    <tspan class=\"displacy-word\" fill=\"currentColor\" x=\"1100\">bientôt</tspan>\n",
       "    <tspan class=\"displacy-tag\" dy=\"2em\" fill=\"currentColor\" x=\"1100\">ADV</tspan>\n",
       "</text>\n",
       "\n",
       "<text class=\"displacy-token\" fill=\"currentColor\" text-anchor=\"middle\" y=\"484.5\">\n",
       "    <tspan class=\"displacy-word\" fill=\"currentColor\" x=\"1275\">entièrement</tspan>\n",
       "    <tspan class=\"displacy-tag\" dy=\"2em\" fill=\"currentColor\" x=\"1275\">ADV</tspan>\n",
       "</text>\n",
       "\n",
       "<text class=\"displacy-token\" fill=\"currentColor\" text-anchor=\"middle\" y=\"484.5\">\n",
       "    <tspan class=\"displacy-word\" fill=\"currentColor\" x=\"1450\">déployés.</tspan>\n",
       "    <tspan class=\"displacy-tag\" dy=\"2em\" fill=\"currentColor\" x=\"1450\">VERB</tspan>\n",
       "</text>\n",
       "\n",
       "<g class=\"displacy-arrow\">\n",
       "    <path class=\"displacy-arc\" id=\"arrow-6d2f5b74c8984c41a445ae2507e0a1cd-0-0\" stroke-width=\"2px\" d=\"M70,439.5 C70,352.0 205.0,352.0 205.0,439.5\" fill=\"none\" stroke=\"currentColor\"/>\n",
       "    <text dy=\"1.25em\" style=\"font-size: 0.8em; letter-spacing: 1px\">\n",
       "        <textPath xlink:href=\"#arrow-6d2f5b74c8984c41a445ae2507e0a1cd-0-0\" class=\"displacy-label\" startOffset=\"50%\" side=\"left\" fill=\"currentColor\" text-anchor=\"middle\">case</textPath>\n",
       "    </text>\n",
       "    <path class=\"displacy-arrowhead\" d=\"M70,441.5 L62,429.5 78,429.5\" fill=\"currentColor\"/>\n",
       "</g>\n",
       "\n",
       "<g class=\"displacy-arrow\">\n",
       "    <path class=\"displacy-arc\" id=\"arrow-6d2f5b74c8984c41a445ae2507e0a1cd-0-1\" stroke-width=\"2px\" d=\"M245,439.5 C245,2.0 1450.0,2.0 1450.0,439.5\" fill=\"none\" stroke=\"currentColor\"/>\n",
       "    <text dy=\"1.25em\" style=\"font-size: 0.8em; letter-spacing: 1px\">\n",
       "        <textPath xlink:href=\"#arrow-6d2f5b74c8984c41a445ae2507e0a1cd-0-1\" class=\"displacy-label\" startOffset=\"50%\" side=\"left\" fill=\"currentColor\" text-anchor=\"middle\">obl</textPath>\n",
       "    </text>\n",
       "    <path class=\"displacy-arrowhead\" d=\"M245,441.5 L237,429.5 253,429.5\" fill=\"currentColor\"/>\n",
       "</g>\n",
       "\n",
       "<g class=\"displacy-arrow\">\n",
       "    <path class=\"displacy-arc\" id=\"arrow-6d2f5b74c8984c41a445ae2507e0a1cd-0-2\" stroke-width=\"2px\" d=\"M420,439.5 C420,352.0 555.0,352.0 555.0,439.5\" fill=\"none\" stroke=\"currentColor\"/>\n",
       "    <text dy=\"1.25em\" style=\"font-size: 0.8em; letter-spacing: 1px\">\n",
       "        <textPath xlink:href=\"#arrow-6d2f5b74c8984c41a445ae2507e0a1cd-0-2\" class=\"displacy-label\" startOffset=\"50%\" side=\"left\" fill=\"currentColor\" text-anchor=\"middle\">det</textPath>\n",
       "    </text>\n",
       "    <path class=\"displacy-arrowhead\" d=\"M420,441.5 L412,429.5 428,429.5\" fill=\"currentColor\"/>\n",
       "</g>\n",
       "\n",
       "<g class=\"displacy-arrow\">\n",
       "    <path class=\"displacy-arc\" id=\"arrow-6d2f5b74c8984c41a445ae2507e0a1cd-0-3\" stroke-width=\"2px\" d=\"M595,439.5 C595,89.5 1445.0,89.5 1445.0,439.5\" fill=\"none\" stroke=\"currentColor\"/>\n",
       "    <text dy=\"1.25em\" style=\"font-size: 0.8em; letter-spacing: 1px\">\n",
       "        <textPath xlink:href=\"#arrow-6d2f5b74c8984c41a445ae2507e0a1cd-0-3\" class=\"displacy-label\" startOffset=\"50%\" side=\"left\" fill=\"currentColor\" text-anchor=\"middle\">nsubj:pass</textPath>\n",
       "    </text>\n",
       "    <path class=\"displacy-arrowhead\" d=\"M595,441.5 L587,429.5 603,429.5\" fill=\"currentColor\"/>\n",
       "</g>\n",
       "\n",
       "<g class=\"displacy-arrow\">\n",
       "    <path class=\"displacy-arc\" id=\"arrow-6d2f5b74c8984c41a445ae2507e0a1cd-0-4\" stroke-width=\"2px\" d=\"M595,439.5 C595,352.0 730.0,352.0 730.0,439.5\" fill=\"none\" stroke=\"currentColor\"/>\n",
       "    <text dy=\"1.25em\" style=\"font-size: 0.8em; letter-spacing: 1px\">\n",
       "        <textPath xlink:href=\"#arrow-6d2f5b74c8984c41a445ae2507e0a1cd-0-4\" class=\"displacy-label\" startOffset=\"50%\" side=\"left\" fill=\"currentColor\" text-anchor=\"middle\">amod</textPath>\n",
       "    </text>\n",
       "    <path class=\"displacy-arrowhead\" d=\"M730.0,441.5 L738.0,429.5 722.0,429.5\" fill=\"currentColor\"/>\n",
       "</g>\n",
       "\n",
       "<g class=\"displacy-arrow\">\n",
       "    <path class=\"displacy-arc\" id=\"arrow-6d2f5b74c8984c41a445ae2507e0a1cd-0-5\" stroke-width=\"2px\" d=\"M945,439.5 C945,177.0 1440.0,177.0 1440.0,439.5\" fill=\"none\" stroke=\"currentColor\"/>\n",
       "    <text dy=\"1.25em\" style=\"font-size: 0.8em; letter-spacing: 1px\">\n",
       "        <textPath xlink:href=\"#arrow-6d2f5b74c8984c41a445ae2507e0a1cd-0-5\" class=\"displacy-label\" startOffset=\"50%\" side=\"left\" fill=\"currentColor\" text-anchor=\"middle\">aux:pass</textPath>\n",
       "    </text>\n",
       "    <path class=\"displacy-arrowhead\" d=\"M945,441.5 L937,429.5 953,429.5\" fill=\"currentColor\"/>\n",
       "</g>\n",
       "\n",
       "<g class=\"displacy-arrow\">\n",
       "    <path class=\"displacy-arc\" id=\"arrow-6d2f5b74c8984c41a445ae2507e0a1cd-0-6\" stroke-width=\"2px\" d=\"M1120,439.5 C1120,264.5 1435.0,264.5 1435.0,439.5\" fill=\"none\" stroke=\"currentColor\"/>\n",
       "    <text dy=\"1.25em\" style=\"font-size: 0.8em; letter-spacing: 1px\">\n",
       "        <textPath xlink:href=\"#arrow-6d2f5b74c8984c41a445ae2507e0a1cd-0-6\" class=\"displacy-label\" startOffset=\"50%\" side=\"left\" fill=\"currentColor\" text-anchor=\"middle\">advmod</textPath>\n",
       "    </text>\n",
       "    <path class=\"displacy-arrowhead\" d=\"M1120,441.5 L1112,429.5 1128,429.5\" fill=\"currentColor\"/>\n",
       "</g>\n",
       "\n",
       "<g class=\"displacy-arrow\">\n",
       "    <path class=\"displacy-arc\" id=\"arrow-6d2f5b74c8984c41a445ae2507e0a1cd-0-7\" stroke-width=\"2px\" d=\"M1295,439.5 C1295,352.0 1430.0,352.0 1430.0,439.5\" fill=\"none\" stroke=\"currentColor\"/>\n",
       "    <text dy=\"1.25em\" style=\"font-size: 0.8em; letter-spacing: 1px\">\n",
       "        <textPath xlink:href=\"#arrow-6d2f5b74c8984c41a445ae2507e0a1cd-0-7\" class=\"displacy-label\" startOffset=\"50%\" side=\"left\" fill=\"currentColor\" text-anchor=\"middle\">advmod</textPath>\n",
       "    </text>\n",
       "    <path class=\"displacy-arrowhead\" d=\"M1295,441.5 L1287,429.5 1303,429.5\" fill=\"currentColor\"/>\n",
       "</g>\n",
       "</svg></span>"
      ],
      "text/plain": [
       "<IPython.core.display.HTML object>"
      ]
     },
     "metadata": {},
     "output_type": "display_data"
    }
   ],
   "source": [
    "# Choisir une phrase et demander à spaCy d'afficher les POS tags et les relations entre les mots\n",
    "\n",
    "doc = nlp(\"_____\")\n",
    "\n",
    "for token in doc:\n",
    "    print(______________)\n",
    "\n",
    "# Tester les styles 'dep' et 'ent'\n",
    "displacy.render(doc, style=___)"
   ]
  },
  {
   "cell_type": "code",
   "execution_count": 75,
   "metadata": {},
   "outputs": [
    {
     "name": "stdout",
     "output_type": "stream",
     "text": [
      "En ADP case\n",
      "France PROPN obl\n",
      "les DET det\n",
      "compteurs NOUN nsubj:pass\n",
      "intelligents ADJ amod\n",
      "seront AUX aux:pass\n",
      "bientôt ADV advmod\n",
      "entièrement ADV advmod\n",
      "déployés VERB ROOT\n",
      ". PUNCT punct\n"
     ]
    },
    {
     "data": {
      "text/html": [
       "<span class=\"tex2jax_ignore\"><svg xmlns=\"http://www.w3.org/2000/svg\" xmlns:xlink=\"http://www.w3.org/1999/xlink\" xml:lang=\"fr\" id=\"2a650b4d6d9c4c9dadda23b0a230ea48-0\" class=\"displacy\" width=\"1275\" height=\"574.5\" direction=\"ltr\" style=\"max-width: none; height: 574.5px; color: blue; background: #ffffff; font-family: Arial; direction: ltr\">\n",
       "<text class=\"displacy-token\" fill=\"currentColor\" text-anchor=\"middle\" y=\"484.5\">\n",
       "    <tspan class=\"displacy-word\" fill=\"currentColor\" x=\"50\">En</tspan>\n",
       "    <tspan class=\"displacy-tag\" dy=\"2em\" fill=\"currentColor\" x=\"50\">ADP</tspan>\n",
       "</text>\n",
       "\n",
       "<text class=\"displacy-token\" fill=\"currentColor\" text-anchor=\"middle\" y=\"484.5\">\n",
       "    <tspan class=\"displacy-word\" fill=\"currentColor\" x=\"225\">France</tspan>\n",
       "    <tspan class=\"displacy-tag\" dy=\"2em\" fill=\"currentColor\" x=\"225\">PROPN</tspan>\n",
       "</text>\n",
       "\n",
       "<text class=\"displacy-token\" fill=\"currentColor\" text-anchor=\"middle\" y=\"484.5\">\n",
       "    <tspan class=\"displacy-word\" fill=\"currentColor\" x=\"400\">les compteurs intelligents</tspan>\n",
       "    <tspan class=\"displacy-tag\" dy=\"2em\" fill=\"currentColor\" x=\"400\">NOUN</tspan>\n",
       "</text>\n",
       "\n",
       "<text class=\"displacy-token\" fill=\"currentColor\" text-anchor=\"middle\" y=\"484.5\">\n",
       "    <tspan class=\"displacy-word\" fill=\"currentColor\" x=\"575\">seront</tspan>\n",
       "    <tspan class=\"displacy-tag\" dy=\"2em\" fill=\"currentColor\" x=\"575\">AUX</tspan>\n",
       "</text>\n",
       "\n",
       "<text class=\"displacy-token\" fill=\"currentColor\" text-anchor=\"middle\" y=\"484.5\">\n",
       "    <tspan class=\"displacy-word\" fill=\"currentColor\" x=\"750\">bientôt</tspan>\n",
       "    <tspan class=\"displacy-tag\" dy=\"2em\" fill=\"currentColor\" x=\"750\">ADV</tspan>\n",
       "</text>\n",
       "\n",
       "<text class=\"displacy-token\" fill=\"currentColor\" text-anchor=\"middle\" y=\"484.5\">\n",
       "    <tspan class=\"displacy-word\" fill=\"currentColor\" x=\"925\">entièrement</tspan>\n",
       "    <tspan class=\"displacy-tag\" dy=\"2em\" fill=\"currentColor\" x=\"925\">ADV</tspan>\n",
       "</text>\n",
       "\n",
       "<text class=\"displacy-token\" fill=\"currentColor\" text-anchor=\"middle\" y=\"484.5\">\n",
       "    <tspan class=\"displacy-word\" fill=\"currentColor\" x=\"1100\">déployés.</tspan>\n",
       "    <tspan class=\"displacy-tag\" dy=\"2em\" fill=\"currentColor\" x=\"1100\">VERB</tspan>\n",
       "</text>\n",
       "\n",
       "<g class=\"displacy-arrow\">\n",
       "    <path class=\"displacy-arc\" id=\"arrow-2a650b4d6d9c4c9dadda23b0a230ea48-0-0\" stroke-width=\"2px\" d=\"M70,439.5 C70,352.0 205.0,352.0 205.0,439.5\" fill=\"none\" stroke=\"currentColor\"/>\n",
       "    <text dy=\"1.25em\" style=\"font-size: 0.8em; letter-spacing: 1px\">\n",
       "        <textPath xlink:href=\"#arrow-2a650b4d6d9c4c9dadda23b0a230ea48-0-0\" class=\"displacy-label\" startOffset=\"50%\" side=\"left\" fill=\"currentColor\" text-anchor=\"middle\">case</textPath>\n",
       "    </text>\n",
       "    <path class=\"displacy-arrowhead\" d=\"M70,441.5 L62,429.5 78,429.5\" fill=\"currentColor\"/>\n",
       "</g>\n",
       "\n",
       "<g class=\"displacy-arrow\">\n",
       "    <path class=\"displacy-arc\" id=\"arrow-2a650b4d6d9c4c9dadda23b0a230ea48-0-1\" stroke-width=\"2px\" d=\"M245,439.5 C245,2.0 1100.0,2.0 1100.0,439.5\" fill=\"none\" stroke=\"currentColor\"/>\n",
       "    <text dy=\"1.25em\" style=\"font-size: 0.8em; letter-spacing: 1px\">\n",
       "        <textPath xlink:href=\"#arrow-2a650b4d6d9c4c9dadda23b0a230ea48-0-1\" class=\"displacy-label\" startOffset=\"50%\" side=\"left\" fill=\"currentColor\" text-anchor=\"middle\">obl</textPath>\n",
       "    </text>\n",
       "    <path class=\"displacy-arrowhead\" d=\"M245,441.5 L237,429.5 253,429.5\" fill=\"currentColor\"/>\n",
       "</g>\n",
       "\n",
       "<g class=\"displacy-arrow\">\n",
       "    <path class=\"displacy-arc\" id=\"arrow-2a650b4d6d9c4c9dadda23b0a230ea48-0-2\" stroke-width=\"2px\" d=\"M420,439.5 C420,89.5 1095.0,89.5 1095.0,439.5\" fill=\"none\" stroke=\"currentColor\"/>\n",
       "    <text dy=\"1.25em\" style=\"font-size: 0.8em; letter-spacing: 1px\">\n",
       "        <textPath xlink:href=\"#arrow-2a650b4d6d9c4c9dadda23b0a230ea48-0-2\" class=\"displacy-label\" startOffset=\"50%\" side=\"left\" fill=\"currentColor\" text-anchor=\"middle\">nsubj:pass</textPath>\n",
       "    </text>\n",
       "    <path class=\"displacy-arrowhead\" d=\"M420,441.5 L412,429.5 428,429.5\" fill=\"currentColor\"/>\n",
       "</g>\n",
       "\n",
       "<g class=\"displacy-arrow\">\n",
       "    <path class=\"displacy-arc\" id=\"arrow-2a650b4d6d9c4c9dadda23b0a230ea48-0-3\" stroke-width=\"2px\" d=\"M595,439.5 C595,177.0 1090.0,177.0 1090.0,439.5\" fill=\"none\" stroke=\"currentColor\"/>\n",
       "    <text dy=\"1.25em\" style=\"font-size: 0.8em; letter-spacing: 1px\">\n",
       "        <textPath xlink:href=\"#arrow-2a650b4d6d9c4c9dadda23b0a230ea48-0-3\" class=\"displacy-label\" startOffset=\"50%\" side=\"left\" fill=\"currentColor\" text-anchor=\"middle\">aux:pass</textPath>\n",
       "    </text>\n",
       "    <path class=\"displacy-arrowhead\" d=\"M595,441.5 L587,429.5 603,429.5\" fill=\"currentColor\"/>\n",
       "</g>\n",
       "\n",
       "<g class=\"displacy-arrow\">\n",
       "    <path class=\"displacy-arc\" id=\"arrow-2a650b4d6d9c4c9dadda23b0a230ea48-0-4\" stroke-width=\"2px\" d=\"M770,439.5 C770,264.5 1085.0,264.5 1085.0,439.5\" fill=\"none\" stroke=\"currentColor\"/>\n",
       "    <text dy=\"1.25em\" style=\"font-size: 0.8em; letter-spacing: 1px\">\n",
       "        <textPath xlink:href=\"#arrow-2a650b4d6d9c4c9dadda23b0a230ea48-0-4\" class=\"displacy-label\" startOffset=\"50%\" side=\"left\" fill=\"currentColor\" text-anchor=\"middle\">advmod</textPath>\n",
       "    </text>\n",
       "    <path class=\"displacy-arrowhead\" d=\"M770,441.5 L762,429.5 778,429.5\" fill=\"currentColor\"/>\n",
       "</g>\n",
       "\n",
       "<g class=\"displacy-arrow\">\n",
       "    <path class=\"displacy-arc\" id=\"arrow-2a650b4d6d9c4c9dadda23b0a230ea48-0-5\" stroke-width=\"2px\" d=\"M945,439.5 C945,352.0 1080.0,352.0 1080.0,439.5\" fill=\"none\" stroke=\"currentColor\"/>\n",
       "    <text dy=\"1.25em\" style=\"font-size: 0.8em; letter-spacing: 1px\">\n",
       "        <textPath xlink:href=\"#arrow-2a650b4d6d9c4c9dadda23b0a230ea48-0-5\" class=\"displacy-label\" startOffset=\"50%\" side=\"left\" fill=\"currentColor\" text-anchor=\"middle\">advmod</textPath>\n",
       "    </text>\n",
       "    <path class=\"displacy-arrowhead\" d=\"M945,441.5 L937,429.5 953,429.5\" fill=\"currentColor\"/>\n",
       "</g>\n",
       "</svg></span>"
      ],
      "text/plain": [
       "<IPython.core.display.HTML object>"
      ]
     },
     "metadata": {},
     "output_type": "display_data"
    }
   ],
   "source": [
    "# Choisir une phrase et demander à spaCy d'afficher les POS tags et les relations entre les mots\n",
    "\n",
    "doc = nlp(\"_____\")\n",
    "\n",
    "for token in doc:\n",
    "    print(______________)\n",
    "\n",
    "# Changer la couleur en bleu et demander à spaCy d'afficher les groupes nominaux comme un même ensemble\n",
    "displacy.render(doc, style=\"dep\", options = {\"color\": \"___\", \"collapse_phrases\" : ___})"
   ]
  },
  {
   "cell_type": "markdown",
   "metadata": {},
   "source": [
    "### Détection d'entités"
   ]
  },
  {
   "cell_type": "code",
   "execution_count": 53,
   "metadata": {},
   "outputs": [
    {
     "name": "stdout",
     "output_type": "stream",
     "text": [
      "Enedis LOC\n",
      "Vaison LOC\n",
      "Romaine LOC\n",
      "François Cordel PER\n"
     ]
    },
    {
     "data": {
      "text/html": [
       "<span class=\"tex2jax_ignore\"><div class=\"entities\" style=\"line-height: 2.5; direction: ltr\">\n",
       "<mark class=\"entity\" style=\"background: #ff9561; padding: 0.45em 0.6em; margin: 0 0.25em; line-height: 1; border-radius: 0.35em;\">\n",
       "    Enedis\n",
       "    <span style=\"font-size: 0.8em; font-weight: bold; line-height: 1; border-radius: 0.35em; text-transform: uppercase; vertical-align: middle; margin-left: 0.5rem\">LOC</span>\n",
       "</mark>\n",
       " cherche de nouveaux bureaux à \n",
       "<mark class=\"entity\" style=\"background: #ff9561; padding: 0.45em 0.6em; margin: 0 0.25em; line-height: 1; border-radius: 0.35em;\">\n",
       "    Vaison\n",
       "    <span style=\"font-size: 0.8em; font-weight: bold; line-height: 1; border-radius: 0.35em; text-transform: uppercase; vertical-align: middle; margin-left: 0.5rem\">LOC</span>\n",
       "</mark>\n",
       "-La-\n",
       "<mark class=\"entity\" style=\"background: #ff9561; padding: 0.45em 0.6em; margin: 0 0.25em; line-height: 1; border-radius: 0.35em;\">\n",
       "    Romaine\n",
       "    <span style=\"font-size: 0.8em; font-weight: bold; line-height: 1; border-radius: 0.35em; text-transform: uppercase; vertical-align: middle; margin-left: 0.5rem\">LOC</span>\n",
       "</mark>\n",
       " avec l'aide de \n",
       "<mark class=\"entity\" style=\"background: #ddd; padding: 0.45em 0.6em; margin: 0 0.25em; line-height: 1; border-radius: 0.35em;\">\n",
       "    François Cordel\n",
       "    <span style=\"font-size: 0.8em; font-weight: bold; line-height: 1; border-radius: 0.35em; text-transform: uppercase; vertical-align: middle; margin-left: 0.5rem\">PER</span>\n",
       "</mark>\n",
       ".</div></span>"
      ],
      "text/plain": [
       "<IPython.core.display.HTML object>"
      ]
     },
     "metadata": {},
     "output_type": "display_data"
    }
   ],
   "source": [
    "doc = nlp(\"Enedis cherche de nouveaux bureaux à Vaison-La-Romaine \"\n",
    "          \"avec l'aide de François Cordel.\")\n",
    "\n",
    "for ent in doc.ents:\n",
    "    # Afficher le label de l'entité\n",
    "    print(ent.text, ent.label_)\n",
    "\n",
    "displacy.render(doc, style=\"ent\")"
   ]
  },
  {
   "cell_type": "code",
   "execution_count": 17,
   "metadata": {},
   "outputs": [
    {
     "data": {
      "text/plain": [
       "'Companies, agencies, institutions, etc.'"
      ]
     },
     "execution_count": 17,
     "metadata": {},
     "output_type": "execute_result"
    }
   ],
   "source": [
    "spacy.explain(\"ORG\")"
   ]
  },
  {
   "cell_type": "code",
   "execution_count": 18,
   "metadata": {},
   "outputs": [
    {
     "data": {
      "text/plain": [
       "'Non-GPE locations, mountain ranges, bodies of water'"
      ]
     },
     "execution_count": 18,
     "metadata": {},
     "output_type": "execute_result"
    }
   ],
   "source": [
    "spacy.explain(\"LOC\")"
   ]
  },
  {
   "cell_type": "code",
   "execution_count": 19,
   "metadata": {},
   "outputs": [
    {
     "data": {
      "text/plain": [
       "'Named person or family.'"
      ]
     },
     "execution_count": 19,
     "metadata": {},
     "output_type": "execute_result"
    }
   ],
   "source": [
    "spacy.explain(\"PER\")"
   ]
  },
  {
   "cell_type": "markdown",
   "metadata": {},
   "source": [
    "### Chunking : noun chunks"
   ]
  },
  {
   "cell_type": "code",
   "execution_count": 20,
   "metadata": {},
   "outputs": [
    {
     "name": "stdout",
     "output_type": "stream",
     "text": [
      "Groupe nominal : Il ; Nom :  Il \n",
      "\n",
      "Groupe nominal : de véhicules électriques ; Nom :  véhicules \n",
      "\n",
      "Groupe nominal : d'infrastructures de recharge pratiques ; Nom :  infrastructures \n",
      "\n"
     ]
    }
   ],
   "source": [
    "doc = nlp(\"Il est important pour les utilisateurs de véhicules électriques de disposer facilement \"\n",
    "          \"d'infrastructures de recharge pratiques.\")\n",
    "\n",
    "for chunk in doc.noun_chunks:\n",
    "    print(\"Groupe nominal :\", chunk.text, \"; Nom : \", chunk.root.text, \"\\n\")"
   ]
  },
  {
   "cell_type": "markdown",
   "metadata": {},
   "source": [
    "# Nuage de mots"
   ]
  },
  {
   "cell_type": "markdown",
   "metadata": {},
   "source": [
    "## Charger les données"
   ]
  },
  {
   "cell_type": "markdown",
   "metadata": {
    "colab_type": "text",
    "id": "Q6UZFmRZlG2a"
   },
   "source": [
    "Nous allons scrapper la page wikipedia d'Enedis et créer un nuage de mots pour comprendre ce qu'il ressort de l'article. \n",
    "\n",
    "- Utilisez le code suivant pour charger la page"
   ]
  },
  {
   "cell_type": "code",
   "execution_count": 26,
   "metadata": {},
   "outputs": [
    {
     "name": "stdout",
     "output_type": "stream",
     "text": [
      "Requirement already satisfied: bs4 in c:\\users\\datalyo-38\\anaconda3\\lib\\site-packages (0.0.1)\n",
      "Requirement already satisfied: beautifulsoup4 in c:\\users\\datalyo-38\\anaconda3\\lib\\site-packages (from bs4) (4.8.0)\n",
      "Requirement already satisfied: soupsieve>=1.2 in c:\\users\\datalyo-38\\anaconda3\\lib\\site-packages (from beautifulsoup4->bs4) (1.9.3)\n"
     ]
    }
   ],
   "source": [
    "!pip install bs4"
   ]
  },
  {
   "cell_type": "code",
   "execution_count": 27,
   "metadata": {
    "colab": {},
    "colab_type": "code",
    "id": "wfgPrBkwxqD2",
    "scrolled": false
   },
   "outputs": [
    {
     "name": "stdout",
     "output_type": "stream",
     "text": [
      "2020-07-01 13:20:31,131 - urllib3.connectionpool - DEBUG - Starting new HTTPS connection (1): fr.wikipedia.org:443\n",
      "2020-07-01 13:20:31,489 - urllib3.connectionpool - DEBUG - https://fr.wikipedia.org:443 \"GET /wiki/Enedis HTTP/1.1\" 200 33142\n"
     ]
    },
    {
     "data": {
      "text/plain": [
       "'Enedis, anciennement ERDF (pour Électricité Réseau Distribution France...'"
      ]
     },
     "execution_count": 27,
     "metadata": {},
     "output_type": "execute_result"
    }
   ],
   "source": [
    "import requests\n",
    "from bs4 import BeautifulSoup\n",
    "r = requests.get(\"https://fr.wikipedia.org/wiki/Enedis\")\n",
    "html_doc = r.text\n",
    "soup = BeautifulSoup(html_doc, 'html.parser')\n",
    "\n",
    "corpus = []\n",
    "for p in soup.find_all(\"p\"):\n",
    "    corpus.append(p.text)\n",
    "\n",
    "join_corpus = \" \".join(corpus)\n",
    "clean_corpus = join_corpus.strip().encode(\"utf-8\").decode(\"utf-8\")\n",
    "clean_corpus[:70]+\"...\""
   ]
  },
  {
   "cell_type": "markdown",
   "metadata": {},
   "source": [
    "Comme vu précédemment :\n",
    "- Chargez le parser nlp francais\n",
    "- Créez un objet doc en appliquant le parser sur la variable `clean_corpus`"
   ]
  },
  {
   "cell_type": "code",
   "execution_count": 28,
   "metadata": {},
   "outputs": [],
   "source": []
  },
  {
   "cell_type": "markdown",
   "metadata": {},
   "source": [
    "## Tracer un wordcloud brut"
   ]
  },
  {
   "cell_type": "markdown",
   "metadata": {},
   "source": [
    "- Installez la librairie wordcloud avec `pip install`"
   ]
  },
  {
   "cell_type": "code",
   "execution_count": 29,
   "metadata": {},
   "outputs": [
    {
     "name": "stdout",
     "output_type": "stream",
     "text": [
      "Requirement already satisfied: wordcloud in c:\\users\\datalyo-38\\anaconda3\\lib\\site-packages (1.7.0)\n",
      "Requirement already satisfied: pillow in c:\\users\\datalyo-38\\anaconda3\\lib\\site-packages (from wordcloud) (6.2.0)\n",
      "Requirement already satisfied: numpy>=1.6.1 in c:\\users\\datalyo-38\\anaconda3\\lib\\site-packages (from wordcloud) (1.18.4)\n",
      "Requirement already satisfied: matplotlib in c:\\users\\datalyo-38\\anaconda3\\lib\\site-packages (from wordcloud) (3.1.1)\n",
      "Requirement already satisfied: cycler>=0.10 in c:\\users\\datalyo-38\\anaconda3\\lib\\site-packages (from matplotlib->wordcloud) (0.10.0)\n",
      "Requirement already satisfied: kiwisolver>=1.0.1 in c:\\users\\datalyo-38\\anaconda3\\lib\\site-packages (from matplotlib->wordcloud) (1.1.0)\n",
      "Requirement already satisfied: pyparsing!=2.0.4,!=2.1.2,!=2.1.6,>=2.0.1 in c:\\users\\datalyo-38\\anaconda3\\lib\\site-packages (from matplotlib->wordcloud) (2.4.2)\n",
      "Requirement already satisfied: python-dateutil>=2.1 in c:\\users\\datalyo-38\\anaconda3\\lib\\site-packages (from matplotlib->wordcloud) (2.8.1)\n",
      "Requirement already satisfied: six in c:\\users\\datalyo-38\\anaconda3\\lib\\site-packages (from cycler>=0.10->matplotlib->wordcloud) (1.14.0)\n",
      "Requirement already satisfied: setuptools in c:\\users\\datalyo-38\\anaconda3\\lib\\site-packages (from kiwisolver>=1.0.1->matplotlib->wordcloud) (41.4.0)\n"
     ]
    }
   ],
   "source": []
  },
  {
   "cell_type": "markdown",
   "metadata": {
    "colab_type": "text",
    "id": "zYxAusV8_Igf"
   },
   "source": [
    "* Utilisez le code suivant pour générer un premier wordcloud avec le texte brut "
   ]
  },
  {
   "cell_type": "code",
   "execution_count": 61,
   "metadata": {
    "colab": {
     "base_uri": "https://localhost:8080/",
     "height": 236
    },
    "colab_type": "code",
    "executionInfo": {
     "elapsed": 1726,
     "status": "ok",
     "timestamp": 1582107372818,
     "user": {
      "displayName": "Antoine Krajnc",
      "photoUrl": "https://lh3.googleusercontent.com/a-/AAuE7mC4XzNDVGvURzl4T5duDbMr6bUdhkYkDul_37G0OA=s64",
      "userId": "08465960390418158788"
     },
     "user_tz": -60
    },
    "id": "23x9RYa-8isd",
    "outputId": "8b5ffd2c-308f-473b-804f-7328eec81f0a"
   },
   "outputs": [
    {
     "data": {
      "text/plain": [
       "<matplotlib.image.AxesImage at 0x1cb89c44048>"
      ]
     },
     "execution_count": 61,
     "metadata": {},
     "output_type": "execute_result"
    },
    {
     "data": {
      "image/png": "[encoded data removed]",
      "text/plain": [
       "<Figure size 432x288 with 1 Axes>"
      ]
     },
     "metadata": {
      "needs_background": "light"
     },
     "output_type": "display_data"
    }
   ],
   "source": [
    "from wordcloud import WordCloud\n",
    "import matplotlib.pyplot as plt\n",
    "wd = WordCloud()\n",
    "cloud = wd.generate(doc.text)\n",
    "plt.imshow(cloud)"
   ]
  },
  {
   "cell_type": "markdown",
   "metadata": {},
   "source": [
    "## Filtrer les stop words"
   ]
  },
  {
   "cell_type": "markdown",
   "metadata": {
    "colab_type": "text",
    "id": "XZyM_xpj_NHs"
   },
   "source": [
    "* Importez maintenant les stop-words présents dans `spacy`\n",
    "\n",
    "* Faites à nouveau un nuage de mots sans les stop words grâce à l'option `stopwords` du constructeur `WordCloud`"
   ]
  },
  {
   "cell_type": "code",
   "execution_count": 31,
   "metadata": {},
   "outputs": [
    {
     "data": {
      "text/plain": [
       "<matplotlib.image.AxesImage at 0x1cbac81a748>"
      ]
     },
     "execution_count": 31,
     "metadata": {},
     "output_type": "execute_result"
    },
    {
     "data": {
      "image/png": "[encoded data removed]",
      "text/plain": [
       "<Figure size 432x288 with 1 Axes>"
      ]
     },
     "metadata": {
      "needs_background": "light"
     },
     "output_type": "display_data"
    }
   ],
   "source": []
  },
  {
   "cell_type": "markdown",
   "metadata": {},
   "source": [
    "## Lemmatiser"
   ]
  },
  {
   "cell_type": "markdown",
   "metadata": {},
   "source": [
    "- Créez une liste `lemma` qui contient les tokens lemmatisés\n",
    "- Utilisez la fonction `join` pour créer une chaîne de caractère contenant tous les tokens séparés par un espace."
   ]
  },
  {
   "cell_type": "code",
   "execution_count": 32,
   "metadata": {},
   "outputs": [],
   "source": []
  },
  {
   "cell_type": "markdown",
   "metadata": {},
   "source": [
    "- Affichez le wordcloud"
   ]
  },
  {
   "cell_type": "code",
   "execution_count": 33,
   "metadata": {
    "colab": {
     "base_uri": "https://localhost:8080/",
     "height": 236
    },
    "colab_type": "code",
    "executionInfo": {
     "elapsed": 2032,
     "status": "ok",
     "timestamp": 1582110215852,
     "user": {
      "displayName": "Antoine Krajnc",
      "photoUrl": "https://lh3.googleusercontent.com/a-/AAuE7mC4XzNDVGvURzl4T5duDbMr6bUdhkYkDul_37G0OA=s64",
      "userId": "08465960390418158788"
     },
     "user_tz": -60
    },
    "id": "ADnFJsRjG-4f",
    "outputId": "ad82bb24-2462-4fc3-99db-456e0b112384",
    "scrolled": true
   },
   "outputs": [
    {
     "data": {
      "text/plain": [
       "<matplotlib.image.AxesImage at 0x1cbacb60ec8>"
      ]
     },
     "execution_count": 33,
     "metadata": {},
     "output_type": "execute_result"
    },
    {
     "data": {
      "image/png": "[encoded data removed]",
      "text/plain": [
       "<Figure size 432x288 with 1 Axes>"
      ]
     },
     "metadata": {
      "needs_background": "light"
     },
     "output_type": "display_data"
    }
   ],
   "source": []
  },
  {
   "cell_type": "markdown",
   "metadata": {},
   "source": [
    "**Remarque**\n",
    "\n",
    "La lemmatisation est très puissante pour certaines tâches (extraction de sens) mais attention, il y a une perte d'information importante. Pour rechercher une forme par exemple, il vaut mieux utiliser une distance de levenshtein."
   ]
  },
  {
   "cell_type": "markdown",
   "metadata": {},
   "source": [
    "# Classification de texte"
   ]
  },
  {
   "cell_type": "markdown",
   "metadata": {},
   "source": [
    "Dans cette partie, nous allons prendre un peu d'avance sur les formations python et utiliser les librairies `pandas` et `scikit learn` pour faire un exemple simple de classification de texte. Nous utiliserons un jeu de données de commentaires de restaurants en français, l'objectif sera de déterminer si le commentaire est négatif ou positif. "
   ]
  },
  {
   "cell_type": "markdown",
   "metadata": {},
   "source": [
    "## Preprocessing"
   ]
  },
  {
   "cell_type": "code",
   "execution_count": 34,
   "metadata": {},
   "outputs": [
    {
     "name": "stdout",
     "output_type": "stream",
     "text": [
      "Requirement already satisfied: pandas in c:\\users\\datalyo-38\\anaconda3\\lib\\site-packages (1.0.3)\n",
      "Requirement already satisfied: python-dateutil>=2.6.1 in c:\\users\\datalyo-38\\anaconda3\\lib\\site-packages (from pandas) (2.8.1)\n",
      "Requirement already satisfied: numpy>=1.13.3 in c:\\users\\datalyo-38\\anaconda3\\lib\\site-packages (from pandas) (1.18.4)\n",
      "Requirement already satisfied: pytz>=2017.2 in c:\\users\\datalyo-38\\anaconda3\\lib\\site-packages (from pandas) (2020.1)\n",
      "Requirement already satisfied: six>=1.5 in c:\\users\\datalyo-38\\anaconda3\\lib\\site-packages (from python-dateutil>=2.6.1->pandas) (1.14.0)\n"
     ]
    }
   ],
   "source": [
    "!pip install pandas"
   ]
  },
  {
   "cell_type": "markdown",
   "metadata": {},
   "source": [
    "- Importer la librairie `pandas` sous l'allias `pd`\n",
    "- Utiliser la fonction `pd.read_csv()` pour charger le fichier `restaurant.csv` dans un dataframe `df` (on pourra utiliser l'option `index_col=0` pour indiquer que la première colonne du csv est l'index)\n",
    "- Afficher les premières  lignes du dataframe en utilisant la fonction `<dataframe>.head()`"
   ]
  },
  {
   "cell_type": "code",
   "execution_count": 35,
   "metadata": {},
   "outputs": [
    {
     "data": {
      "text/html": [
       "<div>\n",
       "<style scoped>\n",
       "    .dataframe tbody tr th:only-of-type {\n",
       "        vertical-align: middle;\n",
       "    }\n",
       "\n",
       "    .dataframe tbody tr th {\n",
       "        vertical-align: top;\n",
       "    }\n",
       "\n",
       "    .dataframe thead th {\n",
       "        text-align: right;\n",
       "    }\n",
       "</style>\n",
       "<table border=\"1\" class=\"dataframe\">\n",
       "  <thead>\n",
       "    <tr style=\"text-align: right;\">\n",
       "      <th></th>\n",
       "      <th>texte</th>\n",
       "      <th>label_2</th>\n",
       "      <th>label_3</th>\n",
       "    </tr>\n",
       "  </thead>\n",
       "  <tbody>\n",
       "    <tr>\n",
       "      <th>0</th>\n",
       "      <td>Un service passable .. Des plats surcuits, des...</td>\n",
       "      <td>0</td>\n",
       "      <td>0</td>\n",
       "    </tr>\n",
       "    <tr>\n",
       "      <th>1</th>\n",
       "      <td>Nous avons bien aimé l'ambiance, sur la promen...</td>\n",
       "      <td>1</td>\n",
       "      <td>2</td>\n",
       "    </tr>\n",
       "    <tr>\n",
       "      <th>2</th>\n",
       "      <td>on s'attendait à mieux (attente, qualité moyen...</td>\n",
       "      <td>0</td>\n",
       "      <td>0</td>\n",
       "    </tr>\n",
       "    <tr>\n",
       "      <th>3</th>\n",
       "      <td>Une adresse à garder pour soi vue imprenable s...</td>\n",
       "      <td>1</td>\n",
       "      <td>2</td>\n",
       "    </tr>\n",
       "    <tr>\n",
       "      <th>4</th>\n",
       "      <td>Une petite dame nous accueille sans le sourire...</td>\n",
       "      <td>0</td>\n",
       "      <td>0</td>\n",
       "    </tr>\n",
       "  </tbody>\n",
       "</table>\n",
       "</div>"
      ],
      "text/plain": [
       "                                               texte  label_2  label_3\n",
       "0  Un service passable .. Des plats surcuits, des...        0        0\n",
       "1  Nous avons bien aimé l'ambiance, sur la promen...        1        2\n",
       "2  on s'attendait à mieux (attente, qualité moyen...        0        0\n",
       "3  Une adresse à garder pour soi vue imprenable s...        1        2\n",
       "4  Une petite dame nous accueille sans le sourire...        0        0"
      ]
     },
     "execution_count": 35,
     "metadata": {},
     "output_type": "execute_result"
    }
   ],
   "source": []
  },
  {
   "cell_type": "markdown",
   "metadata": {},
   "source": [
    "Notre dataframe contient 3 colonnes : \n",
    "- `texte` : le texte du commentaire \n",
    "- `label_2` : le label du commentaire : 0 si négatif, 1 si positif\n",
    "- `label_3` : idem : 0 si négatif, 1 si neutre, 2 si positif\n",
    "\n",
    "Pour l'exemple de classification, nous n'utiliserons que les colonnes `texte` et `label_2`."
   ]
  },
  {
   "cell_type": "markdown",
   "metadata": {},
   "source": [
    "- Comme vu dans la partie précédente, importez le parser `French` en utilisant la fonction `load('fr_core_news_md')`\n",
    "- Desactivez le logger de `spacy_lefff` en utilisant les lignes suivantes : \n",
    "```\n",
    "from spacy_lefff import root\n",
    "root.setLevel(50)\n",
    "```\n",
    "- Ajoutez le lemmatiseur français au parser en utilisant `add_pipe`\n",
    "- Créez un exemple de document tokenisé `doc` en appliquant le parser sur le premier texte `df.texte[0]`\n",
    "- Affichez l'exemple `doc`"
   ]
  },
  {
   "cell_type": "code",
   "execution_count": 36,
   "metadata": {},
   "outputs": [
    {
     "name": "stdout",
     "output_type": "stream",
     "text": [
      "Un service passable .. Des plats surcuits, des sauces figées dans leur pot (on se demande si elles n'étaient pas sur d'autres tables avant de nous être servies) , le prix est correct mais le goût n'est pas au rendez vous ... très déçu par ce resto\n"
     ]
    }
   ],
   "source": []
  },
  {
   "cell_type": "markdown",
   "metadata": {},
   "source": [
    "- Comme vu dans la première partie, supprimez les stop words et la ponctuation en utilisant une list comprehension.\n",
    "- Stockez le résultat dans une liste `mytokens`"
   ]
  },
  {
   "cell_type": "code",
   "execution_count": 37,
   "metadata": {},
   "outputs": [
    {
     "name": "stdout",
     "output_type": "stream",
     "text": [
      "[service, passable, plats, surcuits, sauces, figées, pot, demande, tables, servies, prix, correct, goût, rendez, déçu, resto]\n"
     ]
    }
   ],
   "source": []
  },
  {
   "cell_type": "markdown",
   "metadata": {},
   "source": [
    "- Appliquez à `mytokens`, dans une list comprehension :\n",
    "    - La lemmatisation via lefff `_.lefff_lemma`\n",
    "    - Le passage en minuscule en minuscule avec `.lower()`\n",
    "    - La suppression des espaces avec `.strip()`\n",
    "- Stockez le résultat dans la même variable `mytokens` et affichez la"
   ]
  },
  {
   "cell_type": "code",
   "execution_count": 38,
   "metadata": {},
   "outputs": [
    {
     "name": "stdout",
     "output_type": "stream",
     "text": [
      "['service', 'passable', 'plat', 'surcuits', 'sauce', 'figer', 'pot', 'demander', 'table', 'servir', 'prix', 'correct', 'goût', 'rendez', 'décevoir', 'resto']\n"
     ]
    }
   ],
   "source": []
  },
  {
   "cell_type": "markdown",
   "metadata": {},
   "source": [
    "- Créer la function `spacy_tokenizer` qui prend en entrée un texte et qui effectue les étapes précédentes."
   ]
  },
  {
   "cell_type": "code",
   "execution_count": 39,
   "metadata": {},
   "outputs": [],
   "source": []
  },
  {
   "cell_type": "markdown",
   "metadata": {},
   "source": [
    "## Vectorisation"
   ]
  },
  {
   "cell_type": "markdown",
   "metadata": {},
   "source": [
    "Pour utiliser des algorithmes de machine learning sur du texte, il est nécessaire de représenter le texte par des valeurs numériques. C'est ce qu'on appelle la vectorisation. La technique la plus simple est le *bag of words* :\n",
    "\n",
    "**Exemple de Bag of Words**\n",
    "- Texte 1 : \"enedis innovation\"\n",
    "- Texte 2 : \"Cordel croissants\"\n",
    "- Texte 3 : \"Cordel innovation innovation\"\n",
    "\n",
    "|        _ | enedis | innovation | Cordel | croissants |\n",
    "| -------- |  ----: | ---------: |  ----: |  --------: |\n",
    "| Texte 1  |    1   |          1 |      0 |          0 |\n",
    "| Texte 2  |    0   |          0 |      1 |          1 |\n",
    "| Texte 3  |    0   |          2 |      1 |          0 |\n",
    "\n",
    "\n",
    "Pour enrichir un peu cette représentation, on peut utiliser la TF IDF (Term Frequency - Inverse Document Frequency) à la place d'un simple décompte dans la matrice. Cette technique, bien qu'assez ancienne, est légère et très efficace pour de l'extraction de sens. \n",
    "\n",
    "Aujourd'hui, les plus gros progrès en NLP concernent cette étape de vectorisation qui peut être améliorée via l'usage du deep learning notamment. "
   ]
  },
  {
   "cell_type": "code",
   "execution_count": 40,
   "metadata": {},
   "outputs": [
    {
     "name": "stdout",
     "output_type": "stream",
     "text": [
      "Collecting sklearn\n",
      "  Downloading https://files.pythonhosted.org/packages/1e/7a/dbb3be0ce9bd5c8b7e3d87328e79063f8b263b2b1bfa4774cb1147bfcd3f/sklearn-0.0.tar.gz\n",
      "Requirement already satisfied: scikit-learn in c:\\users\\datalyo-38\\anaconda3\\lib\\site-packages (from sklearn) (0.21.3)\n",
      "Requirement already satisfied: scipy>=0.17.0 in c:\\users\\datalyo-38\\anaconda3\\lib\\site-packages (from scikit-learn->sklearn) (1.3.1)\n",
      "Requirement already satisfied: joblib>=0.11 in c:\\users\\datalyo-38\\anaconda3\\lib\\site-packages (from scikit-learn->sklearn) (0.13.2)\n",
      "Requirement already satisfied: numpy>=1.11.0 in c:\\users\\datalyo-38\\anaconda3\\lib\\site-packages (from scikit-learn->sklearn) (1.18.4)\n",
      "Building wheels for collected packages: sklearn\n",
      "  Building wheel for sklearn (setup.py): started\n",
      "  Building wheel for sklearn (setup.py): finished with status 'done'\n",
      "  Created wheel for sklearn: filename=sklearn-0.0-py2.py3-none-any.whl size=1321 sha256=3eb2c6a25ca6319599379b9f47cef96639a9443d7be50bed3dfceaebf180aabf\n",
      "  Stored in directory: C:\\Users\\Datalyo-38\\AppData\\Local\\pip\\Cache\\wheels\\76\\03\\bb\\589d421d27431bcd2c6da284d5f2286c8e3b2ea3cf1594c074\n",
      "Successfully built sklearn\n",
      "Installing collected packages: sklearn\n",
      "Successfully installed sklearn-0.0\n"
     ]
    }
   ],
   "source": [
    "!pip install sklearn"
   ]
  },
  {
   "cell_type": "code",
   "execution_count": 41,
   "metadata": {},
   "outputs": [],
   "source": [
    "from sklearn.model_selection import train_test_split\n",
    "from sklearn.feature_extraction.text import CountVectorizer,TfidfVectorizer\n",
    "from sklearn.base import TransformerMixin\n",
    "from sklearn.pipeline import Pipeline\n",
    "\n",
    "# Création du bag of words\n",
    "bow_vector = CountVectorizer(tokenizer = spacy_tokenizer, ngram_range=(1,1), max_features=None)\n",
    "\n",
    "# Création de la représentation TF-IDF\n",
    "tfidf_vector = TfidfVectorizer(tokenizer = spacy_tokenizer, ngram_range=(1,1), max_features=None)"
   ]
  },
  {
   "cell_type": "markdown",
   "metadata": {},
   "source": [
    "On va maintenant préparer les données pour l'entrainement en selectionnant les colonnes correspondantes et en faisant un split des données."
   ]
  },
  {
   "cell_type": "code",
   "execution_count": 42,
   "metadata": {},
   "outputs": [],
   "source": [
    "X = df['texte'] # les données que l'on veut analyser\n",
    "ylabels = df['label_2'] # les labels, ou réponses, pour lesquels on veut tester notre modèle\n",
    "\n",
    "X_train, X_test, y_train, y_test = train_test_split(X, ylabels, test_size=0.3)"
   ]
  },
  {
   "cell_type": "markdown",
   "metadata": {},
   "source": [
    "## Application du modèle"
   ]
  },
  {
   "cell_type": "code",
   "execution_count": 43,
   "metadata": {},
   "outputs": [
    {
     "name": "stderr",
     "output_type": "stream",
     "text": [
      "C:\\Users\\Datalyo-38\\Anaconda3\\lib\\site-packages\\sklearn\\linear_model\\logistic.py:432: FutureWarning: Default solver will be changed to 'lbfgs' in 0.22. Specify a solver to silence this warning.\n",
      "  FutureWarning)\n"
     ]
    },
    {
     "data": {
      "text/plain": [
       "Pipeline(memory=None,\n",
       "         steps=[('vectorizer',\n",
       "                 CountVectorizer(analyzer='word', binary=False,\n",
       "                                 decode_error='strict',\n",
       "                                 dtype=<class 'numpy.int64'>, encoding='utf-8',\n",
       "                                 input='content', lowercase=True, max_df=1.0,\n",
       "                                 max_features=None, min_df=1,\n",
       "                                 ngram_range=(1, 1), preprocessor=None,\n",
       "                                 stop_words=None, strip_accents=None,\n",
       "                                 token_pattern='(?u)\\\\b\\\\w\\\\w+\\\\b',\n",
       "                                 tokenizer=<function spacy_tokenizer at 0x000001CBBD7D5D38>,\n",
       "                                 vocabulary=None)),\n",
       "                ('classifier',\n",
       "                 LogisticRegression(C=1.0, class_weight=None, dual=False,\n",
       "                                    fit_intercept=True, intercept_scaling=1,\n",
       "                                    l1_ratio=None, max_iter=100,\n",
       "                                    multi_class='warn', n_jobs=None,\n",
       "                                    penalty='l2', random_state=None,\n",
       "                                    solver='warn', tol=0.0001, verbose=0,\n",
       "                                    warm_start=False))],\n",
       "         verbose=False)"
      ]
     },
     "execution_count": 43,
     "metadata": {},
     "output_type": "execute_result"
    }
   ],
   "source": [
    "# Logistic Regression Classifier\n",
    "from sklearn.linear_model import LogisticRegression\n",
    "\n",
    "classifier = LogisticRegression()\n",
    "\n",
    "# Création du pipeline en utilisant des Bag of Words\n",
    "pipe = Pipeline([\n",
    "#     ('cleaner', predictors()),\n",
    "    ('vectorizer', bow_vector),\n",
    "    ('classifier', classifier)\n",
    "])\n",
    "\n",
    "# Génération du modèle\n",
    "pipe.fit(X_train,y_train)"
   ]
  },
  {
   "cell_type": "code",
   "execution_count": 44,
   "metadata": {},
   "outputs": [
    {
     "name": "stdout",
     "output_type": "stream",
     "text": [
      "Confusion matrix:\n",
      " [[49  3]\n",
      " [ 9 40]]\n",
      "\n",
      "Logistic Regression Accuracy: 0.8811881188118812\n"
     ]
    }
   ],
   "source": [
    "from sklearn import metrics\n",
    "\n",
    "# Predicting avec un dataset de test\n",
    "predicted = pipe.predict(X_test)\n",
    "\n",
    "# Précision du modèle\n",
    "print(\"Confusion matrix:\\n\",metrics.confusion_matrix(y_test, predicted))\n",
    "print(\"\\nLogistic Regression Accuracy:\",metrics.accuracy_score(y_test, predicted))"
   ]
  },
  {
   "cell_type": "markdown",
   "metadata": {},
   "source": [
    "**Remarque**\n",
    "\n",
    "La qualité des données initiales a un rôle fondamental.\n",
    "\n",
    "*Exemple*\n",
    "- `' '.join(sentences)` --> 75% accuracy\n",
    "- `'. '.join(sentences)` --> 80% accuracy"
   ]
  },
  {
   "cell_type": "code",
   "execution_count": null,
   "metadata": {},
   "outputs": [],
   "source": []
  },
  {
   "cell_type": "markdown",
   "metadata": {},
   "source": [
    "## T-SNE sur TF-IDF"
   ]
  },
  {
   "cell_type": "code",
   "execution_count": 45,
   "metadata": {},
   "outputs": [
    {
     "name": "stdout",
     "output_type": "stream",
     "text": [
      "                                                 texte  label_3\n",
      "0    Un service passable .. Des plats surcuits, des...        0\n",
      "1    Nous avons bien aimé l'ambiance, sur la promen...        2\n",
      "2    on s'attendait à mieux (attente, qualité moyen...        0\n",
      "3    Une adresse à garder pour soi vue imprenable s...        2\n",
      "4    Une petite dame nous accueille sans le sourire...        0\n",
      "..                                                 ...      ...\n",
      "330  des problèmes digestifs aprés le repas!. j'ai ...        0\n",
      "331  Alors là, si vous voulez un resto classe, une ...        2\n",
      "332  Les amis voulaient manger des crêpes mais ... ...        2\n",
      "333  Dés que nous sommes rentrés dans l’établissent...        0\n",
      "334  la salle de restaurant fait cantine,la déco es...        0\n",
      "\n",
      "[335 rows x 2 columns]\n"
     ]
    }
   ],
   "source": [
    "X = df['texte'] # les données que l'on veut analyser\n",
    "ylabels = df['label_3'] # les labels, ou réponses, pour lesquels on veut tester notre modèle\n",
    "print(df.loc[:, ['texte','label_3']])"
   ]
  },
  {
   "cell_type": "code",
   "execution_count": 46,
   "metadata": {},
   "outputs": [
    {
     "name": "stdout",
     "output_type": "stream",
     "text": [
      "  (0, 2108)\t0.22621462074436308\n",
      "  (0, 841)\t0.22886025288552864\n",
      "  (0, 2072)\t0.33759571537509775\n",
      "  (0, 1200)\t0.21234335429816198\n",
      "  (0, 671)\t0.19142723990259058\n",
      "  (0, 1914)\t0.14405034879818315\n",
      "  (0, 2254)\t0.19142723990259058\n",
      "  (0, 2380)\t0.19142723990259058\n",
      "  (0, 757)\t0.21234335429816198\n",
      "  (0, 1884)\t0.3237244489288966\n",
      "  (0, 1076)\t0.3554788881366306\n",
      "  (0, 2214)\t0.22886025288552864\n",
      "  (0, 2352)\t0.3806838045058536\n",
      "  (0, 1843)\t0.11884543242896015\n",
      "  (0, 1767)\t0.3237244489288966\n",
      "  (0, 2250)\t0.11930761279229458\n"
     ]
    }
   ],
   "source": [
    "# On calcule le tf-idf pour chaque mot de chaque texte\n",
    "tfidf = tfidf_vector.fit_transform(X)\n",
    "print(tfidf[0])"
   ]
  },
  {
   "cell_type": "code",
   "execution_count": 47,
   "metadata": {},
   "outputs": [
    {
     "name": "stdout",
     "output_type": "stream",
     "text": [
      "Un service passable .. Des plats surcuits, des sauces figées dans leur pot (on se demande si elles n'étaient pas sur d'autres tables avant de nous être servies) , le prix est correct mais le goût n'est pas au rendez vous ... très déçu par ce resto\n"
     ]
    },
    {
     "data": {
      "text/html": [
       "<div>\n",
       "<style scoped>\n",
       "    .dataframe tbody tr th:only-of-type {\n",
       "        vertical-align: middle;\n",
       "    }\n",
       "\n",
       "    .dataframe tbody tr th {\n",
       "        vertical-align: top;\n",
       "    }\n",
       "\n",
       "    .dataframe thead th {\n",
       "        text-align: right;\n",
       "    }\n",
       "</style>\n",
       "<table border=\"1\" class=\"dataframe\">\n",
       "  <thead>\n",
       "    <tr style=\"text-align: right;\">\n",
       "      <th></th>\n",
       "      <th>tf_idf</th>\n",
       "    </tr>\n",
       "  </thead>\n",
       "  <tbody>\n",
       "    <tr>\n",
       "      <th>surcuits</th>\n",
       "      <td>0.380684</td>\n",
       "    </tr>\n",
       "    <tr>\n",
       "      <th>figer</th>\n",
       "      <td>0.355479</td>\n",
       "    </tr>\n",
       "    <tr>\n",
       "      <th>rendez</th>\n",
       "      <td>0.337596</td>\n",
       "    </tr>\n",
       "    <tr>\n",
       "      <th>pot</th>\n",
       "      <td>0.323724</td>\n",
       "    </tr>\n",
       "    <tr>\n",
       "      <th>passable</th>\n",
       "      <td>0.323724</td>\n",
       "    </tr>\n",
       "    <tr>\n",
       "      <th>...</th>\n",
       "      <td>...</td>\n",
       "    </tr>\n",
       "    <tr>\n",
       "      <th>démarquer</th>\n",
       "      <td>0.000000</td>\n",
       "    </tr>\n",
       "    <tr>\n",
       "      <th>démonter</th>\n",
       "      <td>0.000000</td>\n",
       "    </tr>\n",
       "    <tr>\n",
       "      <th>départ</th>\n",
       "      <td>0.000000</td>\n",
       "    </tr>\n",
       "    <tr>\n",
       "      <th>dépasser</th>\n",
       "      <td>0.000000</td>\n",
       "    </tr>\n",
       "    <tr>\n",
       "      <th>€</th>\n",
       "      <td>0.000000</td>\n",
       "    </tr>\n",
       "  </tbody>\n",
       "</table>\n",
       "<p>2658 rows × 1 columns</p>\n",
       "</div>"
      ],
      "text/plain": [
       "             tf_idf\n",
       "surcuits   0.380684\n",
       "figer      0.355479\n",
       "rendez     0.337596\n",
       "pot        0.323724\n",
       "passable   0.323724\n",
       "...             ...\n",
       "démarquer  0.000000\n",
       "démonter   0.000000\n",
       "départ     0.000000\n",
       "dépasser   0.000000\n",
       "€          0.000000\n",
       "\n",
       "[2658 rows x 1 columns]"
      ]
     },
     "execution_count": 47,
     "metadata": {},
     "output_type": "execute_result"
    }
   ],
   "source": [
    "# Affichage des résultats pour le premier commentaire\n",
    "\n",
    "# Premier commentaire\n",
    "print(df.loc[0, 'texte'])\n",
    "\n",
    "# TF-IDF pour le premier commentaire\n",
    "df_tfidf = pd.DataFrame(tfidf[0].T.todense(), index = tfidf_vector.get_feature_names(), columns=[\"tf_idf\"])\n",
    "df_tfidf.sort_values(by=[\"tf_idf\"],ascending=False)"
   ]
  },
  {
   "cell_type": "code",
   "execution_count": 48,
   "metadata": {},
   "outputs": [
    {
     "name": "stdout",
     "output_type": "stream",
     "text": [
      "       +  -en  -là  -plat   -t  .repas    0  0,50   00    1  ...  éviter!!!!.  \\\n",
      "0    0.0  0.0  0.0    0.0  0.0     0.0  0.0   0.0  0.0  0.0  ...          0.0   \n",
      "1    0.0  0.0  0.0    0.0  0.0     0.0  0.0   0.0  0.0  0.0  ...          0.0   \n",
      "2    0.0  0.0  0.0    0.0  0.0     0.0  0.0   0.0  0.0  0.0  ...          0.0   \n",
      "3    0.0  0.0  0.0    0.0  0.0     0.0  0.0   0.0  0.0  0.0  ...          0.0   \n",
      "4    0.0  0.0  0.0    0.0  0.0     0.0  0.0   0.0  0.0  0.0  ...          0.0   \n",
      "..   ...  ...  ...    ...  ...     ...  ...   ...  ...  ...  ...          ...   \n",
      "330  0.0  0.0  0.0    0.0  0.0     0.0  0.0   0.0  0.0  0.0  ...          0.0   \n",
      "331  0.0  0.0  0.0    0.0  0.0     0.0  0.0   0.0  0.0  0.0  ...          0.0   \n",
      "332  0.0  0.0  0.0    0.0  0.0     0.0  0.0   0.0  0.0  0.0  ...          0.0   \n",
      "333  0.0  0.0  0.0    0.0  0.0     0.0  0.0   0.0  0.0  0.0  ...          0.0   \n",
      "334  0.0  0.0  0.0    0.0  0.0     0.0  0.0   0.0  0.0  0.0  ...          0.0   \n",
      "\n",
      "     évolution  évoquer  êtes      être  île  œuf  œufs    €  label_3  \n",
      "0          0.0      0.0   0.0  0.000000  0.0  0.0   0.0  0.0        0  \n",
      "1          0.0      0.0   0.0  0.000000  0.0  0.0   0.0  0.0        2  \n",
      "2          0.0      0.0   0.0  0.000000  0.0  0.0   0.0  0.0        0  \n",
      "3          0.0      0.0   0.0  0.000000  0.0  0.0   0.0  0.0        2  \n",
      "4          0.0      0.0   0.0  0.000000  0.0  0.0   0.0  0.0        0  \n",
      "..         ...      ...   ...       ...  ...  ...   ...  ...      ...  \n",
      "330        0.0      0.0   0.0  0.000000  0.0  0.0   0.0  0.0        0  \n",
      "331        0.0      0.0   0.0  0.000000  0.0  0.0   0.0  0.0        2  \n",
      "332        0.0      0.0   0.0  0.169101  0.0  0.0   0.0  0.0        2  \n",
      "333        0.0      0.0   0.0  0.000000  0.0  0.0   0.0  0.0        0  \n",
      "334        0.0      0.0   0.0  0.000000  0.0  0.0   0.0  0.0        0  \n",
      "\n",
      "[335 rows x 2659 columns]\n"
     ]
    }
   ],
   "source": [
    "# Création d'un dataframe regroupant les tf-idf et les labels\n",
    "df_tfidf = pd.DataFrame(tfidf.todense(), columns = tfidf_vector.get_feature_names())\n",
    "df_tfidf = pd.concat([df_tfidf, ylabels], axis=1)\n",
    "print(df_tfidf)"
   ]
  },
  {
   "cell_type": "code",
   "execution_count": 59,
   "metadata": {},
   "outputs": [
    {
     "name": "stdout",
     "output_type": "stream",
     "text": [
      "[t-SNE] Computing 46 nearest neighbors...\n",
      "[t-SNE] Indexed 335 samples in 0.001s...\n",
      "[t-SNE] Computed neighbors for 335 samples in 0.008s...\n",
      "[t-SNE] Computed conditional probabilities for sample 335 / 335\n",
      "[t-SNE] Mean sigma: 5.592277\n",
      "[t-SNE] KL divergence after 250 iterations with early exaggeration: 54.055847\n",
      "[t-SNE] KL divergence after 1000 iterations: 0.193402\n"
     ]
    }
   ],
   "source": [
    "# t-SNE sur les données\n",
    "from sklearn.manifold import TSNE\n",
    "from sklearn.decomposition import TruncatedSVD\n",
    "from sklearn.pipeline import Pipeline\n",
    "\n",
    "import matplotlib.pyplot as plt\n",
    "import seaborn as sns\n",
    "\n",
    "tsvd = TruncatedSVD(n_components=50)\n",
    "tsne = TSNE(n_components=2, init = 'random', verbose=1, perplexity=15, n_iter=1000)\n",
    "\n",
    "tmp = tsvd.fit_transform(df_tfidf.drop(['label_3'], axis=1))\n",
    "tsne_results = tsne.fit_transform(tmp)"
   ]
  },
  {
   "cell_type": "code",
   "execution_count": null,
   "metadata": {},
   "outputs": [],
   "source": [
    "# On considère les deux dimensions les plus importantes\n",
    "df_tfidf['Dim 1'] = tsne_results[:,0]\n",
    "df_tfidf['Dim 2'] = tsne_results[:,1]\n",
    "\n",
    "# On projette les données sur les deux axes, en colorant les points avec les labels\n",
    "plt.figure(figsize=(16,10))\n",
    "sns.scatterplot(\n",
    "    x = \"Dim 1\", y = \"Dim 2\",\n",
    "    hue = \"label_3\",\n",
    "    palette = sns.color_palette(\"hls\", 3),\n",
    "    data = df_tfidf,\n",
    "    legend = \"full\",\n",
    "    alpha = 1.0\n",
    ")"
   ]
  },
  {
   "cell_type": "markdown",
   "metadata": {},
   "source": [
    "## Minisom"
   ]
  },
  {
   "cell_type": "code",
   "execution_count": 51,
   "metadata": {},
   "outputs": [
    {
     "name": "stdout",
     "output_type": "stream",
     "text": [
      "Requirement already satisfied: minisom in c:\\users\\datalyo-38\\anaconda3\\lib\\site-packages (2.2.6)\n"
     ]
    }
   ],
   "source": [
    "!pip install minisom"
   ]
  },
  {
   "cell_type": "code",
   "execution_count": 52,
   "metadata": {},
   "outputs": [],
   "source": [
    "from minisom import MiniSom \n",
    "import numpy as np\n",
    "from matplotlib.gridspec import GridSpec"
   ]
  },
  {
   "cell_type": "code",
   "execution_count": 53,
   "metadata": {},
   "outputs": [
    {
     "name": "stderr",
     "output_type": "stream",
     "text": [
      "C:\\Users\\Datalyo-38\\Anaconda3\\lib\\site-packages\\minisom.py:154: UserWarning: Warning: sigma is too high for the dimension of the map.\n",
      "  warn('Warning: sigma is too high for the dimension of the map.')\n",
      "C:\\Users\\Datalyo-38\\Anaconda3\\lib\\site-packages\\minisom.py:370: ComplexWarning: Casting complex values to real discards the imaginary part\n",
      "  self._weights[i, j] = c1*pc[pc_order[0]] + c2*pc[pc_order[1]]\n"
     ]
    }
   ],
   "source": [
    "X = df_tfidf.drop(['label_3'], axis=1)\n",
    "\n",
    "som = MiniSom(4,4,len(X.columns), sigma= 5, neighborhood_function='mexican_hat')\n",
    "som.pca_weights_init(X.values)\n",
    "som.train_batch(X.values, 3000, verbose=False)"
   ]
  },
  {
   "cell_type": "code",
   "execution_count": null,
   "metadata": {},
   "outputs": [],
   "source": [
    "taille_map = 4\n",
    "\n",
    "labels_map = som.labels_map(X.values, df_tfidf.label_3)\n",
    "label_names = np.unique(df_tfidf.label_3)\n",
    "plt.figure(figsize=(5, 5))\n",
    "the_grid = GridSpec(taille_map, taille_map)\n",
    "for position in labels_map.keys():\n",
    "    label_fracs = [labels_map[position][l] for l in label_names]\n",
    "    plt.subplot(the_grid[taille_map-1-position[1], position[0]], aspect=1)\n",
    "    patches, texts = plt.pie(label_fracs)\n",
    "plt.legend(patches, label_names, bbox_to_anchor=(0, 1.5))\n",
    "plt.show()"
   ]
  }
 ],
 "metadata": {
  "kernelspec": {
   "display_name": "Python 3",
   "language": "python",
   "name": "python3"
  },
  "language_info": {
   "codemirror_mode": {
    "name": "ipython",
    "version": 3
   },
   "file_extension": ".py",
   "mimetype": "text/x-python",
   "name": "python",
   "nbconvert_exporter": "python",
   "pygments_lexer": "ipython3",
   "version": "3.6.8"
  },
  "toc": {
   "base_numbering": 1,
   "nav_menu": {},
   "number_sections": true,
   "sideBar": true,
   "skip_h1_title": false,
   "title_cell": "Table of Contents",
   "title_sidebar": "Contents",
   "toc_cell": false,
   "toc_position": {},
   "toc_section_display": true,
   "toc_window_display": false
  }
 },
 "nbformat": 4,
 "nbformat_minor": 2
}
