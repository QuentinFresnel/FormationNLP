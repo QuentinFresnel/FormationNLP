{
 "cells": [
  {
   "cell_type": "markdown",
   "metadata": {},
   "source": [
    "Cette première session de NLP va vous donner les bases de la manipulation de texte en vue du data challenge qui vous attend après l'été !"
   ]
  },
  {
   "cell_type": "code",
   "execution_count": null,
   "metadata": {},
   "outputs": [],
   "source": [
    "!pip install spacy\n",
    "!python -m spacy download fr_core_news_md\n",
    "!python -m spacy download fr"
   ]
  },
  {
   "cell_type": "code",
   "execution_count": 1,
   "metadata": {},
   "outputs": [],
   "source": [
    "import spacy"
   ]
  },
  {
   "cell_type": "markdown",
   "metadata": {},
   "source": [
    "# Preprocessing avec spacy"
   ]
  },
  {
   "cell_type": "markdown",
   "metadata": {},
   "source": [
    "## Chargement de la librairie"
   ]
  },
  {
   "cell_type": "markdown",
   "metadata": {},
   "source": [
    "- Importer la classe `French` de `spacy.lang.fr`\n",
    "- Créer l'objet `nlp` avec le constructeur de la classe `French`\n",
    "- Créer un `doc` et afficher son texte."
   ]
  },
  {
   "cell_type": "code",
   "execution_count": 2,
   "metadata": {},
   "outputs": [
    {
     "name": "stdout",
     "output_type": "stream",
     "text": [
      "Ceci est une phrase narcissique puisqu'elle ne parle que d'elle-même.\n"
     ]
    }
   ],
   "source": [
    "# Importez la classe de langage French\n",
    "from spacy.lang.____ import ____\n",
    "\n",
    "# Créez l'objet nlp\n",
    "nlp = ____\n",
    "\n",
    "# Traitement du texte\n",
    "doc = nlp(\"Ceci est une phrase narcissique puisqu'elle \"\n",
    "          \"ne parle que d'elle-même.\")\n",
    "\n",
    "# Affichez le texte du document\n",
    "print(____.text)"
   ]
  },
  {
   "cell_type": "markdown",
   "metadata": {},
   "source": [
    "**L'objet NLP**\n",
    "\n",
    "- contient le 'pipeline' des calculs\n",
    "- inclut des règles spécifiques au langage pour la tokenization, etc.\n",
    "\n",
    "**L'objet doc**\n",
    "\n",
    "Contient un document, c'est-à-dire un ensemble de *tokens*."
   ]
  },
  {
   "cell_type": "markdown",
   "metadata": {},
   "source": [
    "### Manipulation d'un objet `Doc`"
   ]
  },
  {
   "cell_type": "markdown",
   "metadata": {},
   "source": [
    "L'objet `Doc`se manipule comme une liste. \n",
    "\n",
    "A l'aide des `[]`:\n",
    "- Accedez au premier token de doc\n",
    "- Selectionnez les mots `'est une'` dans une slice\n",
    "- Selectionnez les mots entre `'est une phrase narcissique'` dans une slice"
   ]
  },
  {
   "cell_type": "code",
   "execution_count": 3,
   "metadata": {},
   "outputs": [
    {
     "name": "stdout",
     "output_type": "stream",
     "text": [
      "est une\n",
      "est une phrase narcissique\n"
     ]
    }
   ],
   "source": [
    "# A slice of the Doc for 'est une'\n",
    "est_une = ____\n",
    "print(est_une.text)\n",
    "\n",
    "# A slice of the Doc for 'est une phrase narcissique'\n",
    "est_une_phrase_narcissique = ____\n",
    "print(est_une_phrase_narcissique.text)"
   ]
  },
  {
   "cell_type": "markdown",
   "metadata": {},
   "source": [
    "### Tokenisation"
   ]
  },
  {
   "cell_type": "code",
   "execution_count": null,
   "metadata": {},
   "outputs": [],
   "source": [
    "from spacy.lang.fr import French\n",
    "\n",
    "# Charger English tokenizer, tagger, parser, NER and word vectors\n",
    "nlp = French()\n",
    "\n",
    "text = \"\"\"L'apprentissage de la data science requiert de ne pas se décourager.\n",
    "Les défis et les revers ne sont pas des échecs, ils font simplement partie du voyage!\"\"\"\n",
    "\n",
    "# L'objet \"nlp\" est utilisé pour créer un document avec des annotations linguistiques\n",
    "doc = nlp(text)"
   ]
  },
  {
   "cell_type": "code",
   "execution_count": 4,
   "metadata": {},
   "outputs": [
    {
     "name": "stdout",
     "output_type": "stream",
     "text": [
      "[\"L'\", 'apprentissage', 'de', 'la', 'data', 'science', 'requiert', 'de', 'ne', 'pas', 'se', 'décourager', '.', '\\n', 'Les', 'défis', 'et', 'les', 'revers', 'ne', 'sont', 'pas', 'des', 'échecs', ',', 'ils', 'font', 'simplement', 'partie', 'du', 'voyage', '!']\n"
     ]
    }
   ],
   "source": [
    "# Tokenization de mots\n",
    "\n",
    "# Créer la liste des tokens de mots\n",
    "token_list = []\n",
    "for token in my_doc:\n",
    "    token_list.append(token.text)\n",
    "print(token_list)"
   ]
  },
  {
   "cell_type": "code",
   "execution_count": 5,
   "metadata": {},
   "outputs": [
    {
     "name": "stdout",
     "output_type": "stream",
     "text": [
      "[\"L'apprentissage de la data science requiert de ne pas se décourager.\", '\\nLes défis et les revers ne sont pas des échecs, ils font simplement partie du voyage!']\n"
     ]
    }
   ],
   "source": [
    "# Tokenization de phrases\n",
    "\n",
    "# Créer le composant 'sentencizer' ('sentence boundary detection') du pipeline\n",
    "sbd = nlp.create_pipe('sentencizer')\n",
    "\n",
    "# Ajouter le composant au pipeline\n",
    "nlp.add_pipe(sbd)\n",
    "\n",
    "# Créaer une liste de tokens de phrases\n",
    "sents_list = []\n",
    "for sent in doc.sents:\n",
    "    sents_list.append(sent.text)\n",
    "print(sents_list)"
   ]
  },
  {
   "cell_type": "markdown",
   "metadata": {},
   "source": [
    "#### Exercice"
   ]
  },
  {
   "cell_type": "markdown",
   "metadata": {},
   "source": [
    "Dans cet exemple, vous allez utiliser les objets `Doc` et `Token` de spaCy, et des attributs lexicaux pour identifier des pourcentages dans un texte. Vous devez chercher deux tokens qui se suivent: un nombre et un signe pourcentage.\n",
    "\n",
    "- Utiliser l'attribut de token `like_num` pour voir si le token dans le document ressemble à un nombre.\n",
    "- Lire le token qui suit immédiatement ce token. L'index du token suivant dans le `doc` est `token.i + 1`.\n",
    "- Regarder si l'attribut `text` du token suivant est un signe `”%“`."
   ]
  },
  {
   "cell_type": "code",
   "execution_count": 4,
   "metadata": {},
   "outputs": [
    {
     "name": "stdout",
     "output_type": "stream",
     "text": [
      "Pourcentage trouvé: 60\n",
      "Pourcentage trouvé: 4\n"
     ]
    }
   ],
   "source": [
    "# Process the text\n",
    "doc = nlp(\n",
    "    \"En 1990, plus de 60% de la population d'Asie orientale vivait dans l'extrême pauvreté. \"\n",
    "    \"Cela représente désormais moins de 4%.\"\n",
    ")\n",
    "\n",
    "# Iterate over the tokens in the doc\n",
    "for token in doc:\n",
    "    # Check if the token resembles a number\n",
    "    if ____.____:\n",
    "        # Get the next token in the document\n",
    "        next_token = ____[____]\n",
    "        # Check if the next token's text equals \"%\"\n",
    "        if next_token.____ == \"%\":\n",
    "            print(\"Pourcentage trouvé:\", token.text)"
   ]
  },
  {
   "cell_type": "markdown",
   "metadata": {},
   "source": [
    "### Suppression des stop words"
   ]
  },
  {
   "cell_type": "code",
   "execution_count": 7,
   "metadata": {},
   "outputs": [],
   "source": [
    "from spacy.lang.fr.stop_words import STOP_WORDS\n",
    "\n",
    "# print(list(STOP_WORDS)[:10])"
   ]
  },
  {
   "cell_type": "code",
   "execution_count": 8,
   "metadata": {},
   "outputs": [
    {
     "name": "stdout",
     "output_type": "stream",
     "text": [
      "Filtered Sentence: [L', apprentissage, de, la, data, science, requiert, de, ne, pas, se, décourager, \n",
      ", Les, défis, et, les, revers, ne, sont, pas, des, échecs, ils, font, simplement, partie, du, voyage]\n"
     ]
    }
   ],
   "source": [
    "#Implémentation des stop words:\n",
    "filtered_sent=[]\n",
    "\n",
    "#  L'objet \"nlp\" est utilisé pour créer des documents avec annotations\n",
    "doc = nlp(text)\n",
    "\n",
    "# filtering stop words\n",
    "for word in doc:\n",
    "    if word.is_stop or word.is_punct ==False:\n",
    "        filtered_sent.append(word)\n",
    "print(\"Filtered Sentence:\",filtered_sent)"
   ]
  },
  {
   "cell_type": "code",
   "execution_count": 9,
   "metadata": {},
   "outputs": [
    {
     "name": "stdout",
     "output_type": "stream",
     "text": [
      "[L', apprentissage, data, science, requiert, décourager, \n",
      ", Les, défis, revers, échecs, simplement, partie, voyage]\n"
     ]
    }
   ],
   "source": [
    "doc = nlp(text)\n",
    "tokens = [token for token in doc if not token.text in STOP_WORDS and not token.is_punct]\n",
    "print(tokens)"
   ]
  },
  {
   "cell_type": "markdown",
   "metadata": {},
   "source": [
    "### Lemmatisation"
   ]
  },
  {
   "cell_type": "code",
   "execution_count": 40,
   "metadata": {},
   "outputs": [
    {
     "name": "stdout",
     "output_type": "stream",
     "text": [
      "Electric electric\n",
      "and and\n",
      "magnetic magnetic\n",
      "fields field\n",
      "are be\n",
      "similar similar\n",
      ". .\n",
      "Mathematic mathematic\n",
      "fields field\n",
      "and and\n",
      "potato potato\n",
      "fields field\n",
      "are be\n",
      "n't not\n",
      ". .\n"
     ]
    }
   ],
   "source": [
    "# Implémenter la lemmatization en anglais\n",
    "nlp = spacy.load('en_core_web_sm')\n",
    "\n",
    "doc = nlp(\"Electric and magnetic fields are similar. Mathematic fields and potato fields aren't.\")\n",
    "\n",
    "for word in doc:\n",
    "    print(word, word.lemma_)"
   ]
  },
  {
   "cell_type": "code",
   "execution_count": null,
   "metadata": {},
   "outputs": [],
   "source": [
    "!pip install spacy-lefff"
   ]
  },
  {
   "cell_type": "code",
   "execution_count": 44,
   "metadata": {},
   "outputs": [
    {
     "name": "stdout",
     "output_type": "stream",
     "text": [
      "2020-07-01 09:58:03,557 - spacy_lefff.downloader - INFO - data already set up\n",
      "2020-07-01 09:58:03,558 - spacy_lefff.melt_tagger - INFO - Token melt_tagger already registered\n",
      "2020-07-01 09:58:03,558 - spacy_lefff.melt_tagger - INFO -   TAGGER: Loading lexicon...\n",
      "2020-07-01 09:58:03,979 - spacy_lefff.melt_tagger - INFO -   TAGGER: Loading tags...\n",
      "2020-07-01 09:58:04,008 - spacy_lefff.melt_tagger - INFO -   TAGGER: Loading model from C:\\Users\\Datalyo-38\\Anaconda3\\lib\\site-packages\\spacy_lefff\\data\\tagger\\models/fr...\n",
      "2020-07-01 09:58:04,478 - spacy_lefff.melt_tagger - INFO -   TAGGER: Loading model from C:\\Users\\Datalyo-38\\Anaconda3\\lib\\site-packages\\spacy_lefff\\data\\tagger\\models/fr: done\n",
      "2020-07-01 09:58:04,564 - spacy_lefff.lefff - INFO - New LefffLemmatizer instantiated.\n",
      "2020-07-01 09:58:04,565 - spacy_lefff.lefff - INFO - Token lefff_lemma already registered\n",
      "2020-07-01 09:58:04,566 - spacy_lefff.lefff - INFO - Reading lefff data...\n",
      "2020-07-01 09:58:05,030 - spacy_lefff.lefff - INFO - Successfully loaded lefff lemmatizer\n",
      "2020-07-01 09:58:05,093 - spacy_lefff.melt_tagger - INFO -   TAGGER: POS Tagging...\n",
      "Enedis enedis\n",
      "entretient entretenir\n",
      "plus plus\n",
      "d'1,34 d'1,34\n",
      "million million\n",
      "de de\n",
      "kilomètres kilomètre\n",
      "de de\n",
      "câbles câble\n",
      "électriques électrique\n",
      ". .\n"
     ]
    }
   ],
   "source": [
    "# Implémenter la lemmatization en français\n",
    "\n",
    "import spacy\n",
    "from spacy_lefff import LefffLemmatizer, POSTagger\n",
    "\n",
    "nlp = French()\n",
    "\n",
    "pos = POSTagger()\n",
    "french_lemmatizer = LefffLemmatizer(after_melt = True, default = True)\n",
    "nlp.add_pipe(pos, name='pos')\n",
    "nlp.add_pipe(french_lemmatizer, name='lefff', after='pos')\n",
    "\n",
    "doc = nlp(\"Enedis entretient plus d'1,34 million de kilomètres de câbles électriques.\")\n",
    "\n",
    "# L'attribut 'lemme' de spacy-lefff est '_.lefff_lemma'\n",
    "for word in doc:\n",
    "    print(word.text, word._.lefff_lemma)"
   ]
  },
  {
   "cell_type": "markdown",
   "metadata": {},
   "source": [
    "### Etiquetage morpho-syntaxique (POS tags)"
   ]
  },
  {
   "cell_type": "markdown",
   "metadata": {},
   "source": [
    "**Que sont les modèles statistiques ?**\n",
    "\n",
    "- Ils permettent à spaCy de prédir les attributs linguistiques dans un contexte\n",
    "    - Tags Part-of-speech (POS)\n",
    "    - Dépendances syntaxiques\n",
    "    - Entités nommées\n",
    "- Ils sont entraînés sur des textes labellisés\n",
    "- Ils peuvent être mis à jour avec des exemples additionnels"
   ]
  },
  {
   "cell_type": "code",
   "execution_count": 42,
   "metadata": {},
   "outputs": [],
   "source": [
    "from spacy import displacy\n",
    "import fr_core_news_md\n",
    "\n",
    "nlp = fr_core_news_md.load()"
   ]
  },
  {
   "cell_type": "code",
   "execution_count": 14,
   "metadata": {},
   "outputs": [
    {
     "name": "stdout",
     "output_type": "stream",
     "text": [
      "Elle PRON\n",
      "a AUX\n",
      "mangé VERB\n",
      "la DET\n",
      "pizza NOUN\n"
     ]
    }
   ],
   "source": [
    "doc = nlp(\"Elle a mangé la pizza\")\n",
    "\n",
    "for token in doc:\n",
    "    # Afficher le texte et les 'part-of-speech' tags\n",
    "    print(token.text, token.pos_)"
   ]
  },
  {
   "cell_type": "code",
   "execution_count": 47,
   "metadata": {},
   "outputs": [
    {
     "data": {
      "text/plain": [
       "'pronoun'"
      ]
     },
     "execution_count": 47,
     "metadata": {},
     "output_type": "execute_result"
    }
   ],
   "source": [
    "spacy.explain(\"PRON\")"
   ]
  },
  {
   "cell_type": "code",
   "execution_count": 15,
   "metadata": {},
   "outputs": [
    {
     "name": "stdout",
     "output_type": "stream",
     "text": [
      "Elle PRON nsubj mangé\n",
      "a AUX aux mangé\n",
      "mangé VERB ROOT mangé\n",
      "la DET det pizza\n",
      "pizza NOUN obj mangé\n"
     ]
    },
    {
     "data": {
      "text/html": [
       "<span class=\"tex2jax_ignore\"><svg xmlns=\"http://www.w3.org/2000/svg\" xmlns:xlink=\"http://www.w3.org/1999/xlink\" xml:lang=\"fr\" id=\"fcf0d8cf89d749c7a8ea071894dce3d5-0\" class=\"displacy\" width=\"925\" height=\"312.0\" direction=\"ltr\" style=\"max-width: none; height: 312.0px; color: #000000; background: #ffffff; font-family: Arial; direction: ltr\">\n",
       "<text class=\"displacy-token\" fill=\"currentColor\" text-anchor=\"middle\" y=\"222.0\">\n",
       "    <tspan class=\"displacy-word\" fill=\"currentColor\" x=\"50\">Elle</tspan>\n",
       "    <tspan class=\"displacy-tag\" dy=\"2em\" fill=\"currentColor\" x=\"50\">PRON</tspan>\n",
       "</text>\n",
       "\n",
       "<text class=\"displacy-token\" fill=\"currentColor\" text-anchor=\"middle\" y=\"222.0\">\n",
       "    <tspan class=\"displacy-word\" fill=\"currentColor\" x=\"225\">a</tspan>\n",
       "    <tspan class=\"displacy-tag\" dy=\"2em\" fill=\"currentColor\" x=\"225\">AUX</tspan>\n",
       "</text>\n",
       "\n",
       "<text class=\"displacy-token\" fill=\"currentColor\" text-anchor=\"middle\" y=\"222.0\">\n",
       "    <tspan class=\"displacy-word\" fill=\"currentColor\" x=\"400\">mangé</tspan>\n",
       "    <tspan class=\"displacy-tag\" dy=\"2em\" fill=\"currentColor\" x=\"400\">VERB</tspan>\n",
       "</text>\n",
       "\n",
       "<text class=\"displacy-token\" fill=\"currentColor\" text-anchor=\"middle\" y=\"222.0\">\n",
       "    <tspan class=\"displacy-word\" fill=\"currentColor\" x=\"575\">la</tspan>\n",
       "    <tspan class=\"displacy-tag\" dy=\"2em\" fill=\"currentColor\" x=\"575\">DET</tspan>\n",
       "</text>\n",
       "\n",
       "<text class=\"displacy-token\" fill=\"currentColor\" text-anchor=\"middle\" y=\"222.0\">\n",
       "    <tspan class=\"displacy-word\" fill=\"currentColor\" x=\"750\">pizza</tspan>\n",
       "    <tspan class=\"displacy-tag\" dy=\"2em\" fill=\"currentColor\" x=\"750\">NOUN</tspan>\n",
       "</text>\n",
       "\n",
       "<g class=\"displacy-arrow\">\n",
       "    <path class=\"displacy-arc\" id=\"arrow-fcf0d8cf89d749c7a8ea071894dce3d5-0-0\" stroke-width=\"2px\" d=\"M70,177.0 C70,2.0 400.0,2.0 400.0,177.0\" fill=\"none\" stroke=\"currentColor\"/>\n",
       "    <text dy=\"1.25em\" style=\"font-size: 0.8em; letter-spacing: 1px\">\n",
       "        <textPath xlink:href=\"#arrow-fcf0d8cf89d749c7a8ea071894dce3d5-0-0\" class=\"displacy-label\" startOffset=\"50%\" side=\"left\" fill=\"currentColor\" text-anchor=\"middle\">nsubj</textPath>\n",
       "    </text>\n",
       "    <path class=\"displacy-arrowhead\" d=\"M70,179.0 L62,167.0 78,167.0\" fill=\"currentColor\"/>\n",
       "</g>\n",
       "\n",
       "<g class=\"displacy-arrow\">\n",
       "    <path class=\"displacy-arc\" id=\"arrow-fcf0d8cf89d749c7a8ea071894dce3d5-0-1\" stroke-width=\"2px\" d=\"M245,177.0 C245,89.5 395.0,89.5 395.0,177.0\" fill=\"none\" stroke=\"currentColor\"/>\n",
       "    <text dy=\"1.25em\" style=\"font-size: 0.8em; letter-spacing: 1px\">\n",
       "        <textPath xlink:href=\"#arrow-fcf0d8cf89d749c7a8ea071894dce3d5-0-1\" class=\"displacy-label\" startOffset=\"50%\" side=\"left\" fill=\"currentColor\" text-anchor=\"middle\">aux</textPath>\n",
       "    </text>\n",
       "    <path class=\"displacy-arrowhead\" d=\"M245,179.0 L237,167.0 253,167.0\" fill=\"currentColor\"/>\n",
       "</g>\n",
       "\n",
       "<g class=\"displacy-arrow\">\n",
       "    <path class=\"displacy-arc\" id=\"arrow-fcf0d8cf89d749c7a8ea071894dce3d5-0-2\" stroke-width=\"2px\" d=\"M595,177.0 C595,89.5 745.0,89.5 745.0,177.0\" fill=\"none\" stroke=\"currentColor\"/>\n",
       "    <text dy=\"1.25em\" style=\"font-size: 0.8em; letter-spacing: 1px\">\n",
       "        <textPath xlink:href=\"#arrow-fcf0d8cf89d749c7a8ea071894dce3d5-0-2\" class=\"displacy-label\" startOffset=\"50%\" side=\"left\" fill=\"currentColor\" text-anchor=\"middle\">det</textPath>\n",
       "    </text>\n",
       "    <path class=\"displacy-arrowhead\" d=\"M595,179.0 L587,167.0 603,167.0\" fill=\"currentColor\"/>\n",
       "</g>\n",
       "\n",
       "<g class=\"displacy-arrow\">\n",
       "    <path class=\"displacy-arc\" id=\"arrow-fcf0d8cf89d749c7a8ea071894dce3d5-0-3\" stroke-width=\"2px\" d=\"M420,177.0 C420,2.0 750.0,2.0 750.0,177.0\" fill=\"none\" stroke=\"currentColor\"/>\n",
       "    <text dy=\"1.25em\" style=\"font-size: 0.8em; letter-spacing: 1px\">\n",
       "        <textPath xlink:href=\"#arrow-fcf0d8cf89d749c7a8ea071894dce3d5-0-3\" class=\"displacy-label\" startOffset=\"50%\" side=\"left\" fill=\"currentColor\" text-anchor=\"middle\">obj</textPath>\n",
       "    </text>\n",
       "    <path class=\"displacy-arrowhead\" d=\"M750.0,179.0 L758.0,167.0 742.0,167.0\" fill=\"currentColor\"/>\n",
       "</g>\n",
       "</svg></span>"
      ],
      "text/plain": [
       "<IPython.core.display.HTML object>"
      ]
     },
     "metadata": {},
     "output_type": "display_data"
    }
   ],
   "source": [
    "for token in doc:\n",
    "    print(token.text, token.pos_, token.dep_, token.head.text)\n",
    "\n",
    "displacy.render(doc, style=\"dep\")"
   ]
  },
  {
   "cell_type": "code",
   "execution_count": 48,
   "metadata": {},
   "outputs": [
    {
     "data": {
      "text/plain": [
       "'nominal subject'"
      ]
     },
     "execution_count": 48,
     "metadata": {},
     "output_type": "execute_result"
    }
   ],
   "source": [
    "spacy.explain(\"nsubj\")"
   ]
  },
  {
   "cell_type": "code",
   "execution_count": 74,
   "metadata": {},
   "outputs": [
    {
     "name": "stdout",
     "output_type": "stream",
     "text": [
      "En ADP case\n",
      "France PROPN obl\n",
      "les DET det\n",
      "compteurs NOUN nsubj:pass\n",
      "intelligents ADJ amod\n",
      "seront AUX aux:pass\n",
      "bientôt ADV advmod\n",
      "entièrement ADV advmod\n",
      "déployés VERB ROOT\n",
      ". PUNCT punct\n"
     ]
    },
    {
     "data": {
      "text/html": [
       "<span class=\"tex2jax_ignore\"><svg xmlns=\"http://www.w3.org/2000/svg\" xmlns:xlink=\"http://www.w3.org/1999/xlink\" xml:lang=\"fr\" id=\"6d2f5b74c8984c41a445ae2507e0a1cd-0\" class=\"displacy\" width=\"1625\" height=\"574.5\" direction=\"ltr\" style=\"max-width: none; height: 574.5px; color: #000000; background: #ffffff; font-family: Arial; direction: ltr\">\n",
       "<text class=\"displacy-token\" fill=\"currentColor\" text-anchor=\"middle\" y=\"484.5\">\n",
       "    <tspan class=\"displacy-word\" fill=\"currentColor\" x=\"50\">En</tspan>\n",
       "    <tspan class=\"displacy-tag\" dy=\"2em\" fill=\"currentColor\" x=\"50\">ADP</tspan>\n",
       "</text>\n",
       "\n",
       "<text class=\"displacy-token\" fill=\"currentColor\" text-anchor=\"middle\" y=\"484.5\">\n",
       "    <tspan class=\"displacy-word\" fill=\"currentColor\" x=\"225\">France</tspan>\n",
       "    <tspan class=\"displacy-tag\" dy=\"2em\" fill=\"currentColor\" x=\"225\">PROPN</tspan>\n",
       "</text>\n",
       "\n",
       "<text class=\"displacy-token\" fill=\"currentColor\" text-anchor=\"middle\" y=\"484.5\">\n",
       "    <tspan class=\"displacy-word\" fill=\"currentColor\" x=\"400\">les</tspan>\n",
       "    <tspan class=\"displacy-tag\" dy=\"2em\" fill=\"currentColor\" x=\"400\">DET</tspan>\n",
       "</text>\n",
       "\n",
       "<text class=\"displacy-token\" fill=\"currentColor\" text-anchor=\"middle\" y=\"484.5\">\n",
       "    <tspan class=\"displacy-word\" fill=\"currentColor\" x=\"575\">compteurs</tspan>\n",
       "    <tspan class=\"displacy-tag\" dy=\"2em\" fill=\"currentColor\" x=\"575\">NOUN</tspan>\n",
       "</text>\n",
       "\n",
       "<text class=\"displacy-token\" fill=\"currentColor\" text-anchor=\"middle\" y=\"484.5\">\n",
       "    <tspan class=\"displacy-word\" fill=\"currentColor\" x=\"750\">intelligents</tspan>\n",
       "    <tspan class=\"displacy-tag\" dy=\"2em\" fill=\"currentColor\" x=\"750\">ADJ</tspan>\n",
       "</text>\n",
       "\n",
       "<text class=\"displacy-token\" fill=\"currentColor\" text-anchor=\"middle\" y=\"484.5\">\n",
       "    <tspan class=\"displacy-word\" fill=\"currentColor\" x=\"925\">seront</tspan>\n",
       "    <tspan class=\"displacy-tag\" dy=\"2em\" fill=\"currentColor\" x=\"925\">AUX</tspan>\n",
       "</text>\n",
       "\n",
       "<text class=\"displacy-token\" fill=\"currentColor\" text-anchor=\"middle\" y=\"484.5\">\n",
       "    <tspan class=\"displacy-word\" fill=\"currentColor\" x=\"1100\">bientôt</tspan>\n",
       "    <tspan class=\"displacy-tag\" dy=\"2em\" fill=\"currentColor\" x=\"1100\">ADV</tspan>\n",
       "</text>\n",
       "\n",
       "<text class=\"displacy-token\" fill=\"currentColor\" text-anchor=\"middle\" y=\"484.5\">\n",
       "    <tspan class=\"displacy-word\" fill=\"currentColor\" x=\"1275\">entièrement</tspan>\n",
       "    <tspan class=\"displacy-tag\" dy=\"2em\" fill=\"currentColor\" x=\"1275\">ADV</tspan>\n",
       "</text>\n",
       "\n",
       "<text class=\"displacy-token\" fill=\"currentColor\" text-anchor=\"middle\" y=\"484.5\">\n",
       "    <tspan class=\"displacy-word\" fill=\"currentColor\" x=\"1450\">déployés.</tspan>\n",
       "    <tspan class=\"displacy-tag\" dy=\"2em\" fill=\"currentColor\" x=\"1450\">VERB</tspan>\n",
       "</text>\n",
       "\n",
       "<g class=\"displacy-arrow\">\n",
       "    <path class=\"displacy-arc\" id=\"arrow-6d2f5b74c8984c41a445ae2507e0a1cd-0-0\" stroke-width=\"2px\" d=\"M70,439.5 C70,352.0 205.0,352.0 205.0,439.5\" fill=\"none\" stroke=\"currentColor\"/>\n",
       "    <text dy=\"1.25em\" style=\"font-size: 0.8em; letter-spacing: 1px\">\n",
       "        <textPath xlink:href=\"#arrow-6d2f5b74c8984c41a445ae2507e0a1cd-0-0\" class=\"displacy-label\" startOffset=\"50%\" side=\"left\" fill=\"currentColor\" text-anchor=\"middle\">case</textPath>\n",
       "    </text>\n",
       "    <path class=\"displacy-arrowhead\" d=\"M70,441.5 L62,429.5 78,429.5\" fill=\"currentColor\"/>\n",
       "</g>\n",
       "\n",
       "<g class=\"displacy-arrow\">\n",
       "    <path class=\"displacy-arc\" id=\"arrow-6d2f5b74c8984c41a445ae2507e0a1cd-0-1\" stroke-width=\"2px\" d=\"M245,439.5 C245,2.0 1450.0,2.0 1450.0,439.5\" fill=\"none\" stroke=\"currentColor\"/>\n",
       "    <text dy=\"1.25em\" style=\"font-size: 0.8em; letter-spacing: 1px\">\n",
       "        <textPath xlink:href=\"#arrow-6d2f5b74c8984c41a445ae2507e0a1cd-0-1\" class=\"displacy-label\" startOffset=\"50%\" side=\"left\" fill=\"currentColor\" text-anchor=\"middle\">obl</textPath>\n",
       "    </text>\n",
       "    <path class=\"displacy-arrowhead\" d=\"M245,441.5 L237,429.5 253,429.5\" fill=\"currentColor\"/>\n",
       "</g>\n",
       "\n",
       "<g class=\"displacy-arrow\">\n",
       "    <path class=\"displacy-arc\" id=\"arrow-6d2f5b74c8984c41a445ae2507e0a1cd-0-2\" stroke-width=\"2px\" d=\"M420,439.5 C420,352.0 555.0,352.0 555.0,439.5\" fill=\"none\" stroke=\"currentColor\"/>\n",
       "    <text dy=\"1.25em\" style=\"font-size: 0.8em; letter-spacing: 1px\">\n",
       "        <textPath xlink:href=\"#arrow-6d2f5b74c8984c41a445ae2507e0a1cd-0-2\" class=\"displacy-label\" startOffset=\"50%\" side=\"left\" fill=\"currentColor\" text-anchor=\"middle\">det</textPath>\n",
       "    </text>\n",
       "    <path class=\"displacy-arrowhead\" d=\"M420,441.5 L412,429.5 428,429.5\" fill=\"currentColor\"/>\n",
       "</g>\n",
       "\n",
       "<g class=\"displacy-arrow\">\n",
       "    <path class=\"displacy-arc\" id=\"arrow-6d2f5b74c8984c41a445ae2507e0a1cd-0-3\" stroke-width=\"2px\" d=\"M595,439.5 C595,89.5 1445.0,89.5 1445.0,439.5\" fill=\"none\" stroke=\"currentColor\"/>\n",
       "    <text dy=\"1.25em\" style=\"font-size: 0.8em; letter-spacing: 1px\">\n",
       "        <textPath xlink:href=\"#arrow-6d2f5b74c8984c41a445ae2507e0a1cd-0-3\" class=\"displacy-label\" startOffset=\"50%\" side=\"left\" fill=\"currentColor\" text-anchor=\"middle\">nsubj:pass</textPath>\n",
       "    </text>\n",
       "    <path class=\"displacy-arrowhead\" d=\"M595,441.5 L587,429.5 603,429.5\" fill=\"currentColor\"/>\n",
       "</g>\n",
       "\n",
       "<g class=\"displacy-arrow\">\n",
       "    <path class=\"displacy-arc\" id=\"arrow-6d2f5b74c8984c41a445ae2507e0a1cd-0-4\" stroke-width=\"2px\" d=\"M595,439.5 C595,352.0 730.0,352.0 730.0,439.5\" fill=\"none\" stroke=\"currentColor\"/>\n",
       "    <text dy=\"1.25em\" style=\"font-size: 0.8em; letter-spacing: 1px\">\n",
       "        <textPath xlink:href=\"#arrow-6d2f5b74c8984c41a445ae2507e0a1cd-0-4\" class=\"displacy-label\" startOffset=\"50%\" side=\"left\" fill=\"currentColor\" text-anchor=\"middle\">amod</textPath>\n",
       "    </text>\n",
       "    <path class=\"displacy-arrowhead\" d=\"M730.0,441.5 L738.0,429.5 722.0,429.5\" fill=\"currentColor\"/>\n",
       "</g>\n",
       "\n",
       "<g class=\"displacy-arrow\">\n",
       "    <path class=\"displacy-arc\" id=\"arrow-6d2f5b74c8984c41a445ae2507e0a1cd-0-5\" stroke-width=\"2px\" d=\"M945,439.5 C945,177.0 1440.0,177.0 1440.0,439.5\" fill=\"none\" stroke=\"currentColor\"/>\n",
       "    <text dy=\"1.25em\" style=\"font-size: 0.8em; letter-spacing: 1px\">\n",
       "        <textPath xlink:href=\"#arrow-6d2f5b74c8984c41a445ae2507e0a1cd-0-5\" class=\"displacy-label\" startOffset=\"50%\" side=\"left\" fill=\"currentColor\" text-anchor=\"middle\">aux:pass</textPath>\n",
       "    </text>\n",
       "    <path class=\"displacy-arrowhead\" d=\"M945,441.5 L937,429.5 953,429.5\" fill=\"currentColor\"/>\n",
       "</g>\n",
       "\n",
       "<g class=\"displacy-arrow\">\n",
       "    <path class=\"displacy-arc\" id=\"arrow-6d2f5b74c8984c41a445ae2507e0a1cd-0-6\" stroke-width=\"2px\" d=\"M1120,439.5 C1120,264.5 1435.0,264.5 1435.0,439.5\" fill=\"none\" stroke=\"currentColor\"/>\n",
       "    <text dy=\"1.25em\" style=\"font-size: 0.8em; letter-spacing: 1px\">\n",
       "        <textPath xlink:href=\"#arrow-6d2f5b74c8984c41a445ae2507e0a1cd-0-6\" class=\"displacy-label\" startOffset=\"50%\" side=\"left\" fill=\"currentColor\" text-anchor=\"middle\">advmod</textPath>\n",
       "    </text>\n",
       "    <path class=\"displacy-arrowhead\" d=\"M1120,441.5 L1112,429.5 1128,429.5\" fill=\"currentColor\"/>\n",
       "</g>\n",
       "\n",
       "<g class=\"displacy-arrow\">\n",
       "    <path class=\"displacy-arc\" id=\"arrow-6d2f5b74c8984c41a445ae2507e0a1cd-0-7\" stroke-width=\"2px\" d=\"M1295,439.5 C1295,352.0 1430.0,352.0 1430.0,439.5\" fill=\"none\" stroke=\"currentColor\"/>\n",
       "    <text dy=\"1.25em\" style=\"font-size: 0.8em; letter-spacing: 1px\">\n",
       "        <textPath xlink:href=\"#arrow-6d2f5b74c8984c41a445ae2507e0a1cd-0-7\" class=\"displacy-label\" startOffset=\"50%\" side=\"left\" fill=\"currentColor\" text-anchor=\"middle\">advmod</textPath>\n",
       "    </text>\n",
       "    <path class=\"displacy-arrowhead\" d=\"M1295,441.5 L1287,429.5 1303,429.5\" fill=\"currentColor\"/>\n",
       "</g>\n",
       "</svg></span>"
      ],
      "text/plain": [
       "<IPython.core.display.HTML object>"
      ]
     },
     "metadata": {},
     "output_type": "display_data"
    }
   ],
   "source": [
    "# Choisir une phrase et demander à spaCy d'afficher les POS tags et les relations entre les mots\n",
    "\n",
    "doc = nlp(\"_____\")\n",
    "\n",
    "for token in doc:\n",
    "    print(______________)\n",
    "\n",
    "# Tester les styles 'dep' et 'ent'\n",
    "displacy.render(doc, style=___)"
   ]
  },
  {
   "cell_type": "code",
   "execution_count": 75,
   "metadata": {},
   "outputs": [
    {
     "name": "stdout",
     "output_type": "stream",
     "text": [
      "En ADP case\n",
      "France PROPN obl\n",
      "les DET det\n",
      "compteurs NOUN nsubj:pass\n",
      "intelligents ADJ amod\n",
      "seront AUX aux:pass\n",
      "bientôt ADV advmod\n",
      "entièrement ADV advmod\n",
      "déployés VERB ROOT\n",
      ". PUNCT punct\n"
     ]
    },
    {
     "data": {
      "text/html": [
       "<span class=\"tex2jax_ignore\"><svg xmlns=\"http://www.w3.org/2000/svg\" xmlns:xlink=\"http://www.w3.org/1999/xlink\" xml:lang=\"fr\" id=\"2a650b4d6d9c4c9dadda23b0a230ea48-0\" class=\"displacy\" width=\"1275\" height=\"574.5\" direction=\"ltr\" style=\"max-width: none; height: 574.5px; color: blue; background: #ffffff; font-family: Arial; direction: ltr\">\n",
       "<text class=\"displacy-token\" fill=\"currentColor\" text-anchor=\"middle\" y=\"484.5\">\n",
       "    <tspan class=\"displacy-word\" fill=\"currentColor\" x=\"50\">En</tspan>\n",
       "    <tspan class=\"displacy-tag\" dy=\"2em\" fill=\"currentColor\" x=\"50\">ADP</tspan>\n",
       "</text>\n",
       "\n",
       "<text class=\"displacy-token\" fill=\"currentColor\" text-anchor=\"middle\" y=\"484.5\">\n",
       "    <tspan class=\"displacy-word\" fill=\"currentColor\" x=\"225\">France</tspan>\n",
       "    <tspan class=\"displacy-tag\" dy=\"2em\" fill=\"currentColor\" x=\"225\">PROPN</tspan>\n",
       "</text>\n",
       "\n",
       "<text class=\"displacy-token\" fill=\"currentColor\" text-anchor=\"middle\" y=\"484.5\">\n",
       "    <tspan class=\"displacy-word\" fill=\"currentColor\" x=\"400\">les compteurs intelligents</tspan>\n",
       "    <tspan class=\"displacy-tag\" dy=\"2em\" fill=\"currentColor\" x=\"400\">NOUN</tspan>\n",
       "</text>\n",
       "\n",
       "<text class=\"displacy-token\" fill=\"currentColor\" text-anchor=\"middle\" y=\"484.5\">\n",
       "    <tspan class=\"displacy-word\" fill=\"currentColor\" x=\"575\">seront</tspan>\n",
       "    <tspan class=\"displacy-tag\" dy=\"2em\" fill=\"currentColor\" x=\"575\">AUX</tspan>\n",
       "</text>\n",
       "\n",
       "<text class=\"displacy-token\" fill=\"currentColor\" text-anchor=\"middle\" y=\"484.5\">\n",
       "    <tspan class=\"displacy-word\" fill=\"currentColor\" x=\"750\">bientôt</tspan>\n",
       "    <tspan class=\"displacy-tag\" dy=\"2em\" fill=\"currentColor\" x=\"750\">ADV</tspan>\n",
       "</text>\n",
       "\n",
       "<text class=\"displacy-token\" fill=\"currentColor\" text-anchor=\"middle\" y=\"484.5\">\n",
       "    <tspan class=\"displacy-word\" fill=\"currentColor\" x=\"925\">entièrement</tspan>\n",
       "    <tspan class=\"displacy-tag\" dy=\"2em\" fill=\"currentColor\" x=\"925\">ADV</tspan>\n",
       "</text>\n",
       "\n",
       "<text class=\"displacy-token\" fill=\"currentColor\" text-anchor=\"middle\" y=\"484.5\">\n",
       "    <tspan class=\"displacy-word\" fill=\"currentColor\" x=\"1100\">déployés.</tspan>\n",
       "    <tspan class=\"displacy-tag\" dy=\"2em\" fill=\"currentColor\" x=\"1100\">VERB</tspan>\n",
       "</text>\n",
       "\n",
       "<g class=\"displacy-arrow\">\n",
       "    <path class=\"displacy-arc\" id=\"arrow-2a650b4d6d9c4c9dadda23b0a230ea48-0-0\" stroke-width=\"2px\" d=\"M70,439.5 C70,352.0 205.0,352.0 205.0,439.5\" fill=\"none\" stroke=\"currentColor\"/>\n",
       "    <text dy=\"1.25em\" style=\"font-size: 0.8em; letter-spacing: 1px\">\n",
       "        <textPath xlink:href=\"#arrow-2a650b4d6d9c4c9dadda23b0a230ea48-0-0\" class=\"displacy-label\" startOffset=\"50%\" side=\"left\" fill=\"currentColor\" text-anchor=\"middle\">case</textPath>\n",
       "    </text>\n",
       "    <path class=\"displacy-arrowhead\" d=\"M70,441.5 L62,429.5 78,429.5\" fill=\"currentColor\"/>\n",
       "</g>\n",
       "\n",
       "<g class=\"displacy-arrow\">\n",
       "    <path class=\"displacy-arc\" id=\"arrow-2a650b4d6d9c4c9dadda23b0a230ea48-0-1\" stroke-width=\"2px\" d=\"M245,439.5 C245,2.0 1100.0,2.0 1100.0,439.5\" fill=\"none\" stroke=\"currentColor\"/>\n",
       "    <text dy=\"1.25em\" style=\"font-size: 0.8em; letter-spacing: 1px\">\n",
       "        <textPath xlink:href=\"#arrow-2a650b4d6d9c4c9dadda23b0a230ea48-0-1\" class=\"displacy-label\" startOffset=\"50%\" side=\"left\" fill=\"currentColor\" text-anchor=\"middle\">obl</textPath>\n",
       "    </text>\n",
       "    <path class=\"displacy-arrowhead\" d=\"M245,441.5 L237,429.5 253,429.5\" fill=\"currentColor\"/>\n",
       "</g>\n",
       "\n",
       "<g class=\"displacy-arrow\">\n",
       "    <path class=\"displacy-arc\" id=\"arrow-2a650b4d6d9c4c9dadda23b0a230ea48-0-2\" stroke-width=\"2px\" d=\"M420,439.5 C420,89.5 1095.0,89.5 1095.0,439.5\" fill=\"none\" stroke=\"currentColor\"/>\n",
       "    <text dy=\"1.25em\" style=\"font-size: 0.8em; letter-spacing: 1px\">\n",
       "        <textPath xlink:href=\"#arrow-2a650b4d6d9c4c9dadda23b0a230ea48-0-2\" class=\"displacy-label\" startOffset=\"50%\" side=\"left\" fill=\"currentColor\" text-anchor=\"middle\">nsubj:pass</textPath>\n",
       "    </text>\n",
       "    <path class=\"displacy-arrowhead\" d=\"M420,441.5 L412,429.5 428,429.5\" fill=\"currentColor\"/>\n",
       "</g>\n",
       "\n",
       "<g class=\"displacy-arrow\">\n",
       "    <path class=\"displacy-arc\" id=\"arrow-2a650b4d6d9c4c9dadda23b0a230ea48-0-3\" stroke-width=\"2px\" d=\"M595,439.5 C595,177.0 1090.0,177.0 1090.0,439.5\" fill=\"none\" stroke=\"currentColor\"/>\n",
       "    <text dy=\"1.25em\" style=\"font-size: 0.8em; letter-spacing: 1px\">\n",
       "        <textPath xlink:href=\"#arrow-2a650b4d6d9c4c9dadda23b0a230ea48-0-3\" class=\"displacy-label\" startOffset=\"50%\" side=\"left\" fill=\"currentColor\" text-anchor=\"middle\">aux:pass</textPath>\n",
       "    </text>\n",
       "    <path class=\"displacy-arrowhead\" d=\"M595,441.5 L587,429.5 603,429.5\" fill=\"currentColor\"/>\n",
       "</g>\n",
       "\n",
       "<g class=\"displacy-arrow\">\n",
       "    <path class=\"displacy-arc\" id=\"arrow-2a650b4d6d9c4c9dadda23b0a230ea48-0-4\" stroke-width=\"2px\" d=\"M770,439.5 C770,264.5 1085.0,264.5 1085.0,439.5\" fill=\"none\" stroke=\"currentColor\"/>\n",
       "    <text dy=\"1.25em\" style=\"font-size: 0.8em; letter-spacing: 1px\">\n",
       "        <textPath xlink:href=\"#arrow-2a650b4d6d9c4c9dadda23b0a230ea48-0-4\" class=\"displacy-label\" startOffset=\"50%\" side=\"left\" fill=\"currentColor\" text-anchor=\"middle\">advmod</textPath>\n",
       "    </text>\n",
       "    <path class=\"displacy-arrowhead\" d=\"M770,441.5 L762,429.5 778,429.5\" fill=\"currentColor\"/>\n",
       "</g>\n",
       "\n",
       "<g class=\"displacy-arrow\">\n",
       "    <path class=\"displacy-arc\" id=\"arrow-2a650b4d6d9c4c9dadda23b0a230ea48-0-5\" stroke-width=\"2px\" d=\"M945,439.5 C945,352.0 1080.0,352.0 1080.0,439.5\" fill=\"none\" stroke=\"currentColor\"/>\n",
       "    <text dy=\"1.25em\" style=\"font-size: 0.8em; letter-spacing: 1px\">\n",
       "        <textPath xlink:href=\"#arrow-2a650b4d6d9c4c9dadda23b0a230ea48-0-5\" class=\"displacy-label\" startOffset=\"50%\" side=\"left\" fill=\"currentColor\" text-anchor=\"middle\">advmod</textPath>\n",
       "    </text>\n",
       "    <path class=\"displacy-arrowhead\" d=\"M945,441.5 L937,429.5 953,429.5\" fill=\"currentColor\"/>\n",
       "</g>\n",
       "</svg></span>"
      ],
      "text/plain": [
       "<IPython.core.display.HTML object>"
      ]
     },
     "metadata": {},
     "output_type": "display_data"
    }
   ],
   "source": [
    "# Choisir une phrase et demander à spaCy d'afficher les POS tags et les relations entre les mots\n",
    "\n",
    "doc = nlp(\"_____\")\n",
    "\n",
    "for token in doc:\n",
    "    print(______________)\n",
    "\n",
    "# Changer la couleur en bleu et demander à spaCy d'afficher les groupes nominaux comme un même ensemble\n",
    "displacy.render(doc, style=\"dep\", options = {\"color\": \"___\", \"collapse_phrases\" : ___})"
   ]
  },
  {
   "cell_type": "markdown",
   "metadata": {},
   "source": [
    "### Détection d'entités"
   ]
  },
  {
   "cell_type": "code",
   "execution_count": 53,
   "metadata": {},
   "outputs": [
    {
     "name": "stdout",
     "output_type": "stream",
     "text": [
      "Enedis LOC\n",
      "Vaison LOC\n",
      "Romaine LOC\n",
      "François Cordel PER\n"
     ]
    },
    {
     "data": {
      "text/html": [
       "<span class=\"tex2jax_ignore\"><div class=\"entities\" style=\"line-height: 2.5; direction: ltr\">\n",
       "<mark class=\"entity\" style=\"background: #ff9561; padding: 0.45em 0.6em; margin: 0 0.25em; line-height: 1; border-radius: 0.35em;\">\n",
       "    Enedis\n",
       "    <span style=\"font-size: 0.8em; font-weight: bold; line-height: 1; border-radius: 0.35em; text-transform: uppercase; vertical-align: middle; margin-left: 0.5rem\">LOC</span>\n",
       "</mark>\n",
       " cherche de nouveaux bureaux à \n",
       "<mark class=\"entity\" style=\"background: #ff9561; padding: 0.45em 0.6em; margin: 0 0.25em; line-height: 1; border-radius: 0.35em;\">\n",
       "    Vaison\n",
       "    <span style=\"font-size: 0.8em; font-weight: bold; line-height: 1; border-radius: 0.35em; text-transform: uppercase; vertical-align: middle; margin-left: 0.5rem\">LOC</span>\n",
       "</mark>\n",
       "-La-\n",
       "<mark class=\"entity\" style=\"background: #ff9561; padding: 0.45em 0.6em; margin: 0 0.25em; line-height: 1; border-radius: 0.35em;\">\n",
       "    Romaine\n",
       "    <span style=\"font-size: 0.8em; font-weight: bold; line-height: 1; border-radius: 0.35em; text-transform: uppercase; vertical-align: middle; margin-left: 0.5rem\">LOC</span>\n",
       "</mark>\n",
       " avec l'aide de \n",
       "<mark class=\"entity\" style=\"background: #ddd; padding: 0.45em 0.6em; margin: 0 0.25em; line-height: 1; border-radius: 0.35em;\">\n",
       "    François Cordel\n",
       "    <span style=\"font-size: 0.8em; font-weight: bold; line-height: 1; border-radius: 0.35em; text-transform: uppercase; vertical-align: middle; margin-left: 0.5rem\">PER</span>\n",
       "</mark>\n",
       ".</div></span>"
      ],
      "text/plain": [
       "<IPython.core.display.HTML object>"
      ]
     },
     "metadata": {},
     "output_type": "display_data"
    }
   ],
   "source": [
    "doc = nlp(\"Enedis cherche de nouveaux bureaux à Vaison-La-Romaine \"\n",
    "          \"avec l'aide de François Cordel.\")\n",
    "\n",
    "for ent in doc.ents:\n",
    "    # Afficher le label de l'entité\n",
    "    print(ent.text, ent.label_)\n",
    "\n",
    "displacy.render(doc, style=\"ent\")"
   ]
  },
  {
   "cell_type": "code",
   "execution_count": 17,
   "metadata": {},
   "outputs": [
    {
     "data": {
      "text/plain": [
       "'Companies, agencies, institutions, etc.'"
      ]
     },
     "execution_count": 17,
     "metadata": {},
     "output_type": "execute_result"
    }
   ],
   "source": [
    "spacy.explain(\"ORG\")"
   ]
  },
  {
   "cell_type": "code",
   "execution_count": 18,
   "metadata": {},
   "outputs": [
    {
     "data": {
      "text/plain": [
       "'Non-GPE locations, mountain ranges, bodies of water'"
      ]
     },
     "execution_count": 18,
     "metadata": {},
     "output_type": "execute_result"
    }
   ],
   "source": [
    "spacy.explain(\"LOC\")"
   ]
  },
  {
   "cell_type": "code",
   "execution_count": 19,
   "metadata": {},
   "outputs": [
    {
     "data": {
      "text/plain": [
       "'Named person or family.'"
      ]
     },
     "execution_count": 19,
     "metadata": {},
     "output_type": "execute_result"
    }
   ],
   "source": [
    "spacy.explain(\"PER\")"
   ]
  },
  {
   "cell_type": "markdown",
   "metadata": {},
   "source": [
    "### Chunking : noun chunks"
   ]
  },
  {
   "cell_type": "code",
   "execution_count": 20,
   "metadata": {},
   "outputs": [
    {
     "name": "stdout",
     "output_type": "stream",
     "text": [
      "Groupe nominal : Il ; Nom :  Il \n",
      "\n",
      "Groupe nominal : de véhicules électriques ; Nom :  véhicules \n",
      "\n",
      "Groupe nominal : d'infrastructures de recharge pratiques ; Nom :  infrastructures \n",
      "\n"
     ]
    }
   ],
   "source": [
    "doc = nlp(\"Il est important pour les utilisateurs de véhicules électriques de disposer facilement \"\n",
    "          \"d'infrastructures de recharge pratiques.\")\n",
    "\n",
    "for chunk in doc.noun_chunks:\n",
    "    print(\"Groupe nominal :\", chunk.text, \"; Nom : \", chunk.root.text, \"\\n\")"
   ]
  },
  {
   "cell_type": "markdown",
   "metadata": {},
   "source": [
    "# Nuage de mots"
   ]
  },
  {
   "cell_type": "markdown",
   "metadata": {
    "colab_type": "text",
    "id": "Q6UZFmRZlG2a"
   },
   "source": [
    "Nous allons scrapper la page wikipedia d'Enedis et créer un nuage de mots pour comprendre ce qu'il ressort de l'article. \n",
    "\n",
    "- Utilisez le code suivant pour charger la page"
   ]
  },
  {
   "cell_type": "code",
   "execution_count": 21,
   "metadata": {
    "colab": {},
    "colab_type": "code",
    "id": "wfgPrBkwxqD2"
   },
   "outputs": [
    {
     "data": {
      "text/plain": [
       "'Enedis, anciennement ERDF (pour Électricité Réseau Distribution France...'"
      ]
     },
     "execution_count": 21,
     "metadata": {},
     "output_type": "execute_result"
    }
   ],
   "source": [
    "import requests\n",
    "from bs4 import BeautifulSoup\n",
    "r = requests.get(\"https://fr.wikipedia.org/wiki/Enedis\")\n",
    "html_doc = r.text\n",
    "soup = BeautifulSoup(html_doc, 'html.parser')\n",
    "\n",
    "corpus = []\n",
    "for p in soup.find_all(\"p\"):\n",
    "    corpus.append(p.text)\n",
    "\n",
    "join_corpus = \" \".join(corpus)\n",
    "clean_corpus = join_corpus.strip().encode(\"utf-8\").decode(\"utf-8\")\n",
    "clean_corpus[:70]+\"...\""
   ]
  },
  {
   "cell_type": "markdown",
   "metadata": {
    "colab_type": "text",
    "id": "0tuzXlnM99ba"
   },
   "source": [
    "* Importez maintenant `fr_core_news_sm` --> [Documentation](https://spacy.io/models)"
   ]
  },
  {
   "cell_type": "code",
   "execution_count": 22,
   "metadata": {
    "colab": {},
    "colab_type": "code",
    "id": "ByvnYdaD7vBU"
   },
   "outputs": [
    {
     "name": "stdout",
     "output_type": "stream",
     "text": [
      "<spacy.lang.fr.French object at 0x0000017F37537BC8>\n"
     ]
    }
   ],
   "source": [
    "# Import de Spacy et initialisation à Francais\n"
   ]
  },
  {
   "cell_type": "markdown",
   "metadata": {
    "colab_type": "text",
    "id": "Ni8wH3DG-81a"
   },
   "source": [
    "* Incorporez maintenant votre corpus complet dans spacy via `fr_core_news_sm.load()`"
   ]
  },
  {
   "cell_type": "code",
   "execution_count": 23,
   "metadata": {
    "colab": {},
    "colab_type": "code",
    "id": "JyH8NsmN8fuQ"
   },
   "outputs": [],
   "source": [
    "# Création d'une variable doc contenant les textes du corpus\n"
   ]
  },
  {
   "cell_type": "markdown",
   "metadata": {},
   "source": [
    "- Installez la librairie wordcloud"
   ]
  },
  {
   "cell_type": "code",
   "execution_count": null,
   "metadata": {
    "scrolled": false
   },
   "outputs": [],
   "source": [
    "!pip install wordcloud"
   ]
  },
  {
   "cell_type": "markdown",
   "metadata": {
    "colab_type": "text",
    "id": "zYxAusV8_Igf"
   },
   "source": [
    "* Avec la librairie `wordcloud`, créez un premier nuage de mots "
   ]
  },
  {
   "cell_type": "code",
   "execution_count": 24,
   "metadata": {
    "colab": {
     "base_uri": "https://localhost:8080/",
     "height": 236
    },
    "colab_type": "code",
    "executionInfo": {
     "elapsed": 1726,
     "status": "ok",
     "timestamp": 1582107372818,
     "user": {
      "displayName": "Antoine Krajnc",
      "photoUrl": "https://lh3.googleusercontent.com/a-/AAuE7mC4XzNDVGvURzl4T5duDbMr6bUdhkYkDul_37G0OA=s64",
      "userId": "08465960390418158788"
     },
     "user_tz": -60
    },
    "id": "23x9RYa-8isd",
    "outputId": "8b5ffd2c-308f-473b-804f-7328eec81f0a"
   },
   "outputs": [
    {
     "data": {
      "text/plain": [
       "<matplotlib.image.AxesImage at 0x17f4c877d08>"
      ]
     },
     "execution_count": 24,
     "metadata": {},
     "output_type": "execute_result"
    }
   ],
   "source": [
    "from wordcloud import WordCloud\n",
    "import matplotlib.pyplot as plt\n",
    "wd = WordCloud()\n",
    "cloud = wd.generate(doc.text)\n",
    "plt.imshow(cloud)"
   ]
  },
  {
   "cell_type": "markdown",
   "metadata": {
    "colab_type": "text",
    "id": "XZyM_xpj_NHs"
   },
   "source": [
    "* Importez maintenant les stop-words présents dans `spacy`"
   ]
  },
  {
   "cell_type": "code",
   "execution_count": 25,
   "metadata": {
    "colab": {},
    "colab_type": "code",
    "id": "l4Zl2vxP7w17"
   },
   "outputs": [],
   "source": [
    "# Import des Stop words\n",
    "from spacy.lang.fr.stop_words import STOP_WORDS"
   ]
  },
  {
   "cell_type": "markdown",
   "metadata": {
    "colab_type": "text",
    "id": "J0DoC9FL_SQ2"
   },
   "source": [
    "* Faites à nouveau un nuage de mots sans les stop words"
   ]
  },
  {
   "cell_type": "code",
   "execution_count": 26,
   "metadata": {},
   "outputs": [
    {
     "data": {
      "text/plain": [
       "<matplotlib.image.AxesImage at 0x17f4e0a21c8>"
      ]
     },
     "execution_count": 26,
     "metadata": {},
     "output_type": "execute_result"
    },
    {
     "data": {
      "image/png": "[encoded data removed]",
      "text/plain": [
       "<Figure size 432x288 with 1 Axes>"
      ]
     },
     "metadata": {
      "needs_background": "light"
     },
     "output_type": "display_data"
    }
   ],
   "source": [
    "wd = WordCloud(stopwords=____)\n",
    "cloud = wd.generate(doc.text)\n",
    "plt.imshow(cloud)"
   ]
  },
  {
   "cell_type": "markdown",
   "metadata": {
    "colab_type": "text",
    "id": "Z6JG4SSp_WFG"
   },
   "source": [
    "* Enfin nous aurions besoin d'avoir un corpus de mots lemmatisés, recréez un corpus de mots lemmatisés et visualisez votre nouveau nuage de mots"
   ]
  },
  {
   "cell_type": "code",
   "execution_count": 28,
   "metadata": {},
   "outputs": [],
   "source": [
    "lemma = [token.___ for token in doc if token.___ not in STOP_WORDS]"
   ]
  },
  {
   "cell_type": "code",
   "execution_count": 29,
   "metadata": {
    "colab": {},
    "colab_type": "code",
    "id": "4YEXGT9MHODh"
   },
   "outputs": [],
   "source": [
    "corpus_lemma = \" \".join(lemma)"
   ]
  },
  {
   "cell_type": "code",
   "execution_count": 30,
   "metadata": {
    "colab": {
     "base_uri": "https://localhost:8080/",
     "height": 236
    },
    "colab_type": "code",
    "executionInfo": {
     "elapsed": 2032,
     "status": "ok",
     "timestamp": 1582110215852,
     "user": {
      "displayName": "Antoine Krajnc",
      "photoUrl": "https://lh3.googleusercontent.com/a-/AAuE7mC4XzNDVGvURzl4T5duDbMr6bUdhkYkDul_37G0OA=s64",
      "userId": "08465960390418158788"
     },
     "user_tz": -60
    },
    "id": "ADnFJsRjG-4f",
    "outputId": "ad82bb24-2462-4fc3-99db-456e0b112384"
   },
   "outputs": [
    {
     "data": {
      "text/plain": [
       "<matplotlib.image.AxesImage at 0x17f4e3a3208>"
      ]
     },
     "execution_count": 30,
     "metadata": {},
     "output_type": "execute_result"
    },
    {
     "data": {
      "image/png": "[encoded data removed]",
      "text/plain": [
       "<Figure size 432x288 with 1 Axes>"
      ]
     },
     "metadata": {
      "needs_background": "light"
     },
     "output_type": "display_data"
    }
   ],
   "source": [
    "wd = WordCloud()\n",
    "cloud = wd.generate(corpus_lemma)\n",
    "plt.imshow(cloud)"
   ]
  },
  {
   "cell_type": "markdown",
   "metadata": {},
   "source": [
    "# Classification de texte"
   ]
  },
  {
   "cell_type": "markdown",
   "metadata": {},
   "source": [
    "Dans cette partie, nous allons prendre un peu d'avance sur les formations python et utiliser les librairies `pandas` et `scikit learn` pour faire un exemple simple de classification de texte. Nous utiliserons un jeu de données de commentaires de restaurants en français, l'objectif sera de déterminer si le commentaire est négatif ou positif. "
   ]
  },
  {
   "cell_type": "markdown",
   "metadata": {},
   "source": [
    "## Preprocessing"
   ]
  },
  {
   "cell_type": "markdown",
   "metadata": {},
   "source": [
    "- Importer la librairie `pandas` sous l'allias `pd`\n",
    "- Utiliser la fonction `pd.read_csv()` pour charger le fichier `restaurant.csv` dans un dataframe `df` (on pourra utiliser l'option `index_col=0` pour indiquer que la première colonne du csv est l'index)\n",
    "- Afficher les premières  lignes du dataframe en utilisant la fonction `<dataframe>.head()`"
   ]
  },
  {
   "cell_type": "code",
   "execution_count": 13,
   "metadata": {},
   "outputs": [
    {
     "data": {
      "text/html": [
       "<div>\n",
       "<style scoped>\n",
       "    .dataframe tbody tr th:only-of-type {\n",
       "        vertical-align: middle;\n",
       "    }\n",
       "\n",
       "    .dataframe tbody tr th {\n",
       "        vertical-align: top;\n",
       "    }\n",
       "\n",
       "    .dataframe thead th {\n",
       "        text-align: right;\n",
       "    }\n",
       "</style>\n",
       "<table border=\"1\" class=\"dataframe\">\n",
       "  <thead>\n",
       "    <tr style=\"text-align: right;\">\n",
       "      <th></th>\n",
       "      <th>texte</th>\n",
       "      <th>label_2</th>\n",
       "      <th>label_3</th>\n",
       "    </tr>\n",
       "  </thead>\n",
       "  <tbody>\n",
       "    <tr>\n",
       "      <th>0</th>\n",
       "      <td>Un service passable .. Des plats surcuits, des...</td>\n",
       "      <td>0</td>\n",
       "      <td>0</td>\n",
       "    </tr>\n",
       "    <tr>\n",
       "      <th>1</th>\n",
       "      <td>Nous avons bien aimé l'ambiance, sur la promen...</td>\n",
       "      <td>1</td>\n",
       "      <td>2</td>\n",
       "    </tr>\n",
       "    <tr>\n",
       "      <th>2</th>\n",
       "      <td>on s'attendait à mieux (attente, qualité moyen...</td>\n",
       "      <td>0</td>\n",
       "      <td>0</td>\n",
       "    </tr>\n",
       "    <tr>\n",
       "      <th>3</th>\n",
       "      <td>Une adresse à garder pour soi vue imprenable s...</td>\n",
       "      <td>1</td>\n",
       "      <td>2</td>\n",
       "    </tr>\n",
       "    <tr>\n",
       "      <th>4</th>\n",
       "      <td>Une petite dame nous accueille sans le sourire...</td>\n",
       "      <td>0</td>\n",
       "      <td>0</td>\n",
       "    </tr>\n",
       "  </tbody>\n",
       "</table>\n",
       "</div>"
      ],
      "text/plain": [
       "                                               texte  label_2  label_3\n",
       "0  Un service passable .. Des plats surcuits, des...        0        0\n",
       "1  Nous avons bien aimé l'ambiance, sur la promen...        1        2\n",
       "2  on s'attendait à mieux (attente, qualité moyen...        0        0\n",
       "3  Une adresse à garder pour soi vue imprenable s...        1        2\n",
       "4  Une petite dame nous accueille sans le sourire...        0        0"
      ]
     },
     "execution_count": 13,
     "metadata": {},
     "output_type": "execute_result"
    }
   ],
   "source": [
    "import pandas as pd\n",
    "\n",
    "df = pd.read_csv('restaurants.csv', index_col=0)\n",
    "df.head()"
   ]
  },
  {
   "cell_type": "markdown",
   "metadata": {},
   "source": [
    "Notre dataframe contient 3 colonnes : \n",
    "- `texte` : le texte du commentaire \n",
    "- `label_2` : le label du commentaire : 0 si négatif, 1 si positif\n",
    "- `label_3` : idem : 0 si négatif, 1 si neutre, 2 si positif\n",
    "\n",
    "Pour l'exemple de classification, nous n'utiliserons que les colonnes `texte` et `label_2`."
   ]
  },
  {
   "cell_type": "markdown",
   "metadata": {},
   "source": [
    "- Comme vu dans la partie précédente, importez le parser `French` en utilisant la fonction `load('fr_core_news_md')`\n",
    "- Ajoutez le lemmatiseur français au parser en utilisant `add_pipe`\n",
    "- Créez un exemple de document tokenisé `doc` en appliquant le parser sur le premier texte `df.texte[0]`\n",
    "- Affichez l'exemple `doc`"
   ]
  },
  {
   "cell_type": "code",
   "execution_count": 133,
   "metadata": {},
   "outputs": [
    {
     "name": "stdout",
     "output_type": "stream",
     "text": [
      "2020-07-01 10:38:23,365 - spacy_lefff.lefff - INFO - New LefffLemmatizer instantiated.\n",
      "2020-07-01 10:38:23,365 - spacy_lefff.lefff - INFO - Token lefff_lemma already registered\n",
      "2020-07-01 10:38:23,366 - spacy_lefff.lefff - INFO - Reading lefff data...\n",
      "2020-07-01 10:38:23,806 - spacy_lefff.lefff - INFO - Successfully loaded lefff lemmatizer\n",
      "2020-07-01 10:38:23,867 - spacy_lefff.melt_tagger - INFO -   TAGGER: POS Tagging...\n",
      "Un service passable .. Des plats surcuits, des sauces figées dans leur pot (on se demande si elles n'étaient pas sur d'autres tables avant de nous être servies) , le prix est correct mais le goût n'est pas au rendez vous ... très déçu par ce resto\n"
     ]
    }
   ],
   "source": [
    "from spacy_lefff import LefffLemmatizer\n",
    "\n",
    "nlp = spacy.load('fr_core_news_md')\n",
    "french_lemmatizer = LefffLemmatizer(default=True)\n",
    "nlp.add_pipe(french_lemmatizer, name='lefff')\n",
    "\n",
    "doc = nlp(df.texte[0])\n",
    "print(doc)"
   ]
  },
  {
   "cell_type": "markdown",
   "metadata": {},
   "source": [
    "- Comme vu dans la première partie, supprimez les stop words et la ponctuation en utilisant une list comprehension.\n",
    "- Stockez le résultat dans une liste `mytokens`"
   ]
  },
  {
   "cell_type": "code",
   "execution_count": 172,
   "metadata": {},
   "outputs": [
    {
     "name": "stdout",
     "output_type": "stream",
     "text": [
      "[service, passable, plats, surcuits, sauces, figées, pot, demande, tables, servies, prix, correct, goût, rendez, déçu, resto]\n"
     ]
    }
   ],
   "source": [
    "mytokens = [token for token in doc if not token.is_stop and not token.is_punct]\n",
    "print(mytokens)"
   ]
  },
  {
   "cell_type": "markdown",
   "metadata": {},
   "source": [
    "- Appliquez à `mytokens`, dans une list comprehension :\n",
    "    - La lemmatisation via lefff `_.lefff_lemma`\n",
    "    - Le passage en minuscule en minuscule avec `.lower()`\n",
    "    - La suppression des espaces avec `.strip()`\n",
    "- Stockez le résultat dans la même variable `mytokens` et affichez la"
   ]
  },
  {
   "cell_type": "code",
   "execution_count": 173,
   "metadata": {
    "scrolled": true
   },
   "outputs": [
    {
     "name": "stdout",
     "output_type": "stream",
     "text": [
      "['service', 'passable', 'plat', 'surcuits', 'sauce', 'figer', 'pot', 'demander', 'table', 'servir', 'prix', 'correct', 'goût', 'rendez', 'décevoir', 'resto']\n"
     ]
    }
   ],
   "source": [
    "mytokens = [word._.lefff_lemma.lower().strip() for word in mytokens ]\n",
    "print(mytokens)"
   ]
  },
  {
   "cell_type": "markdown",
   "metadata": {},
   "source": [
    "- Créer la function `spacy_tokenizer` qui contient "
   ]
  },
  {
   "cell_type": "code",
   "execution_count": 174,
   "metadata": {},
   "outputs": [],
   "source": [
    "# Création de la fonction de tokenization\n",
    "def spacy_tokenizer(text):\n",
    "    # Création du token, utilisé pour créer des documents avec des annotations linguistiques\n",
    "    doc = nlp(text)\n",
    "    \n",
    "    # Suppression des stop words\n",
    "    mytokens = [token for token in doc if not token.is_stop and not token.is_punct]\n",
    "    \n",
    "    # Lemmatisation de chaque token et conversion en caractères minuscules\n",
    "    mytokens = [word._.lefff_lemma.lower().strip() for word in mytokens ]\n",
    "\n",
    "    # On retourne la liste des tokens préparés\n",
    "    return mytokens"
   ]
  },
  {
   "cell_type": "markdown",
   "metadata": {},
   "source": [
    "## Vectorisation"
   ]
  },
  {
   "cell_type": "code",
   "execution_count": 176,
   "metadata": {},
   "outputs": [],
   "source": [
    "import pandas as pd\n",
    "from sklearn.feature_extraction.text import CountVectorizer,TfidfVectorizer\n",
    "from sklearn.base import TransformerMixin\n",
    "from sklearn.pipeline import Pipeline"
   ]
  },
  {
   "cell_type": "code",
   "execution_count": null,
   "metadata": {},
   "outputs": [],
   "source": [
    "blabla bag of words blablabla tfidf blablabla"
   ]
  },
  {
   "cell_type": "code",
   "execution_count": 156,
   "metadata": {},
   "outputs": [],
   "source": [
    "# modifier max_features\n",
    "# modifier ngram_range\n",
    "bow_vector = CountVectorizer(tokenizer = spacy_tokenizer, ngram_range=(1,1))"
   ]
  },
  {
   "cell_type": "code",
   "execution_count": 157,
   "metadata": {},
   "outputs": [],
   "source": [
    "# modifier max_features\n",
    "# modifier ngram_range\n",
    "tfidf_vector = TfidfVectorizer(tokenizer = spacy_tokenizer)"
   ]
  },
  {
   "cell_type": "markdown",
   "metadata": {},
   "source": [
    "blablabla données blablabla"
   ]
  },
  {
   "cell_type": "code",
   "execution_count": 158,
   "metadata": {},
   "outputs": [],
   "source": [
    "X = df['texte'] # les données que l'on veut analyser\n",
    "ylabels = df['label_2'] # les labels, ou réponses, pour lesquels on veut tester notre modèle"
   ]
  },
  {
   "cell_type": "code",
   "execution_count": 159,
   "metadata": {},
   "outputs": [],
   "source": [
    "from sklearn.model_selection import train_test_split\n"
   ]
  },
  {
   "cell_type": "code",
   "execution_count": 160,
   "metadata": {},
   "outputs": [],
   "source": [
    "from sklearn.model_selection import train_test_split\n",
    "\n",
    "X_train, X_test, y_train, y_test = train_test_split(X, ylabels, test_size=0.3)"
   ]
  },
  {
   "cell_type": "markdown",
   "metadata": {},
   "source": [
    "## Application du modèle"
   ]
  },
  {
   "cell_type": "code",
   "execution_count": 177,
   "metadata": {
    "scrolled": true
   },
   "outputs": [
    {
     "name": "stdout",
     "output_type": "stream",
     "text": [
      "2020-07-01 10:53:19,402 - spacy_lefff.melt_tagger - INFO -   TAGGER: POS Tagging...\n",
      "2020-07-01 10:53:19,435 - spacy_lefff.melt_tagger - INFO -   TAGGER: POS Tagging...\n",
      "2020-07-01 10:53:19,469 - spacy_lefff.melt_tagger - INFO -   TAGGER: POS Tagging...\n",
      "2020-07-01 10:53:19,495 - spacy_lefff.melt_tagger - INFO -   TAGGER: POS Tagging...\n",
      "2020-07-01 10:53:19,534 - spacy_lefff.melt_tagger - INFO -   TAGGER: POS Tagging...\n",
      "2020-07-01 10:53:19,566 - spacy_lefff.melt_tagger - INFO -   TAGGER: POS Tagging...\n",
      "2020-07-01 10:53:19,597 - spacy_lefff.melt_tagger - INFO -   TAGGER: POS Tagging...\n",
      "2020-07-01 10:53:19,641 - spacy_lefff.melt_tagger - INFO -   TAGGER: POS Tagging...\n",
      "2020-07-01 10:53:19,672 - spacy_lefff.melt_tagger - INFO -   TAGGER: POS Tagging...\n",
      "2020-07-01 10:53:19,709 - spacy_lefff.melt_tagger - INFO -   TAGGER: POS Tagging...\n",
      "2020-07-01 10:53:19,744 - spacy_lefff.melt_tagger - INFO -   TAGGER: POS Tagging...\n",
      "2020-07-01 10:53:19,816 - spacy_lefff.melt_tagger - INFO -   TAGGER: POS Tagging...\n",
      "2020-07-01 10:53:19,897 - spacy_lefff.melt_tagger - INFO -   TAGGER: POS Tagging...\n",
      "2020-07-01 10:53:19,920 - spacy_lefff.melt_tagger - INFO -   TAGGER: POS Tagging...\n",
      "2020-07-01 10:53:19,949 - spacy_lefff.melt_tagger - INFO -   TAGGER: POS Tagging...\n",
      "2020-07-01 10:53:19,990 - spacy_lefff.melt_tagger - INFO -   TAGGER: POS Tagging...\n",
      "2020-07-01 10:53:20,059 - spacy_lefff.melt_tagger - INFO -   TAGGER: POS Tagging...\n",
      "2020-07-01 10:53:20,115 - spacy_lefff.melt_tagger - INFO -   TAGGER: POS Tagging...\n",
      "2020-07-01 10:53:20,157 - spacy_lefff.melt_tagger - INFO -   TAGGER: POS Tagging...\n",
      "2020-07-01 10:53:20,205 - spacy_lefff.melt_tagger - INFO -   TAGGER: POS Tagging...\n",
      "2020-07-01 10:53:20,235 - spacy_lefff.melt_tagger - INFO -   TAGGER: POS Tagging...\n",
      "2020-07-01 10:53:20,262 - spacy_lefff.melt_tagger - INFO -   TAGGER: POS Tagging...\n",
      "2020-07-01 10:53:20,299 - spacy_lefff.melt_tagger - INFO -   TAGGER: POS Tagging...\n",
      "2020-07-01 10:53:20,327 - spacy_lefff.melt_tagger - INFO -   TAGGER: POS Tagging...\n",
      "2020-07-01 10:53:20,356 - spacy_lefff.melt_tagger - INFO -   TAGGER: POS Tagging...\n",
      "2020-07-01 10:53:20,399 - spacy_lefff.melt_tagger - INFO -   TAGGER: POS Tagging...\n",
      "2020-07-01 10:53:20,437 - spacy_lefff.melt_tagger - INFO -   TAGGER: POS Tagging...\n",
      "2020-07-01 10:53:20,503 - spacy_lefff.melt_tagger - INFO -   TAGGER: POS Tagging...\n",
      "2020-07-01 10:53:20,556 - spacy_lefff.melt_tagger - INFO -   TAGGER: POS Tagging...\n",
      "2020-07-01 10:53:20,593 - spacy_lefff.melt_tagger - INFO -   TAGGER: POS Tagging...\n",
      "2020-07-01 10:53:20,641 - spacy_lefff.melt_tagger - INFO -   TAGGER: POS Tagging...\n",
      "2020-07-01 10:53:20,681 - spacy_lefff.melt_tagger - INFO -   TAGGER: POS Tagging...\n",
      "2020-07-01 10:53:20,720 - spacy_lefff.melt_tagger - INFO -   TAGGER: POS Tagging...\n",
      "2020-07-01 10:53:20,740 - spacy_lefff.melt_tagger - INFO -   TAGGER: POS Tagging...\n",
      "2020-07-01 10:53:20,779 - spacy_lefff.melt_tagger - INFO -   TAGGER: POS Tagging...\n",
      "2020-07-01 10:53:20,834 - spacy_lefff.melt_tagger - INFO -   TAGGER: POS Tagging...\n",
      "2020-07-01 10:53:20,867 - spacy_lefff.melt_tagger - INFO -   TAGGER: POS Tagging...\n",
      "2020-07-01 10:53:20,910 - spacy_lefff.melt_tagger - INFO -   TAGGER: POS Tagging...\n",
      "2020-07-01 10:53:20,943 - spacy_lefff.melt_tagger - INFO -   TAGGER: POS Tagging...\n",
      "2020-07-01 10:53:20,987 - spacy_lefff.melt_tagger - INFO -   TAGGER: POS Tagging...\n",
      "2020-07-01 10:53:21,034 - spacy_lefff.melt_tagger - INFO -   TAGGER: POS Tagging...\n",
      "2020-07-01 10:53:21,076 - spacy_lefff.melt_tagger - INFO -   TAGGER: POS Tagging...\n",
      "2020-07-01 10:53:21,123 - spacy_lefff.melt_tagger - INFO -   TAGGER: POS Tagging...\n",
      "2020-07-01 10:53:21,175 - spacy_lefff.melt_tagger - INFO -   TAGGER: POS Tagging...\n",
      "2020-07-01 10:53:21,214 - spacy_lefff.melt_tagger - INFO -   TAGGER: POS Tagging...\n",
      "2020-07-01 10:53:21,269 - spacy_lefff.melt_tagger - INFO -   TAGGER: POS Tagging...\n",
      "2020-07-01 10:53:21,300 - spacy_lefff.melt_tagger - INFO -   TAGGER: POS Tagging...\n",
      "2020-07-01 10:53:21,341 - spacy_lefff.melt_tagger - INFO -   TAGGER: POS Tagging...\n",
      "2020-07-01 10:53:21,416 - spacy_lefff.melt_tagger - INFO -   TAGGER: POS Tagging...\n",
      "2020-07-01 10:53:21,447 - spacy_lefff.melt_tagger - INFO -   TAGGER: POS Tagging...\n",
      "2020-07-01 10:53:21,480 - spacy_lefff.melt_tagger - INFO -   TAGGER: POS Tagging...\n",
      "2020-07-01 10:53:21,522 - spacy_lefff.melt_tagger - INFO -   TAGGER: POS Tagging...\n",
      "2020-07-01 10:53:21,542 - spacy_lefff.melt_tagger - INFO -   TAGGER: POS Tagging...\n",
      "2020-07-01 10:53:21,572 - spacy_lefff.melt_tagger - INFO -   TAGGER: POS Tagging...\n",
      "2020-07-01 10:53:21,618 - spacy_lefff.melt_tagger - INFO -   TAGGER: POS Tagging...\n",
      "2020-07-01 10:53:21,718 - spacy_lefff.melt_tagger - INFO -   TAGGER: POS Tagging...\n",
      "2020-07-01 10:53:21,770 - spacy_lefff.melt_tagger - INFO -   TAGGER: POS Tagging...\n",
      "2020-07-01 10:53:21,822 - spacy_lefff.melt_tagger - INFO -   TAGGER: POS Tagging...\n",
      "2020-07-01 10:53:21,880 - spacy_lefff.melt_tagger - INFO -   TAGGER: POS Tagging...\n",
      "2020-07-01 10:53:21,926 - spacy_lefff.melt_tagger - INFO -   TAGGER: POS Tagging...\n",
      "2020-07-01 10:53:21,950 - spacy_lefff.melt_tagger - INFO -   TAGGER: POS Tagging...\n",
      "2020-07-01 10:53:21,981 - spacy_lefff.melt_tagger - INFO -   TAGGER: POS Tagging...\n",
      "2020-07-01 10:53:22,007 - spacy_lefff.melt_tagger - INFO -   TAGGER: POS Tagging...\n",
      "2020-07-01 10:53:22,036 - spacy_lefff.melt_tagger - INFO -   TAGGER: POS Tagging...\n",
      "2020-07-01 10:53:22,092 - spacy_lefff.melt_tagger - INFO -   TAGGER: POS Tagging...\n",
      "2020-07-01 10:53:22,147 - spacy_lefff.melt_tagger - INFO -   TAGGER: POS Tagging...\n",
      "2020-07-01 10:53:22,195 - spacy_lefff.melt_tagger - INFO -   TAGGER: POS Tagging...\n",
      "2020-07-01 10:53:22,226 - spacy_lefff.melt_tagger - INFO -   TAGGER: POS Tagging...\n",
      "2020-07-01 10:53:22,262 - spacy_lefff.melt_tagger - INFO -   TAGGER: POS Tagging...\n",
      "2020-07-01 10:53:22,301 - spacy_lefff.melt_tagger - INFO -   TAGGER: POS Tagging...\n",
      "2020-07-01 10:53:22,341 - spacy_lefff.melt_tagger - INFO -   TAGGER: POS Tagging...\n",
      "2020-07-01 10:53:22,406 - spacy_lefff.melt_tagger - INFO -   TAGGER: POS Tagging...\n",
      "2020-07-01 10:53:22,467 - spacy_lefff.melt_tagger - INFO -   TAGGER: POS Tagging...\n",
      "2020-07-01 10:53:22,545 - spacy_lefff.melt_tagger - INFO -   TAGGER: POS Tagging...\n",
      "2020-07-01 10:53:22,582 - spacy_lefff.melt_tagger - INFO -   TAGGER: POS Tagging...\n",
      "2020-07-01 10:53:22,626 - spacy_lefff.melt_tagger - INFO -   TAGGER: POS Tagging...\n",
      "2020-07-01 10:53:22,666 - spacy_lefff.melt_tagger - INFO -   TAGGER: POS Tagging...\n",
      "2020-07-01 10:53:22,694 - spacy_lefff.melt_tagger - INFO -   TAGGER: POS Tagging...\n",
      "2020-07-01 10:53:22,715 - spacy_lefff.melt_tagger - INFO -   TAGGER: POS Tagging...\n",
      "2020-07-01 10:53:22,748 - spacy_lefff.melt_tagger - INFO -   TAGGER: POS Tagging...\n",
      "2020-07-01 10:53:22,805 - spacy_lefff.melt_tagger - INFO -   TAGGER: POS Tagging...\n",
      "2020-07-01 10:53:22,849 - spacy_lefff.melt_tagger - INFO -   TAGGER: POS Tagging...\n",
      "2020-07-01 10:53:22,882 - spacy_lefff.melt_tagger - INFO -   TAGGER: POS Tagging...\n",
      "2020-07-01 10:53:22,920 - spacy_lefff.melt_tagger - INFO -   TAGGER: POS Tagging...\n",
      "2020-07-01 10:53:22,956 - spacy_lefff.melt_tagger - INFO -   TAGGER: POS Tagging...\n",
      "2020-07-01 10:53:22,994 - spacy_lefff.melt_tagger - INFO -   TAGGER: POS Tagging...\n",
      "2020-07-01 10:53:23,030 - spacy_lefff.melt_tagger - INFO -   TAGGER: POS Tagging...\n",
      "2020-07-01 10:53:23,055 - spacy_lefff.melt_tagger - INFO -   TAGGER: POS Tagging...\n",
      "2020-07-01 10:53:23,111 - spacy_lefff.melt_tagger - INFO -   TAGGER: POS Tagging...\n",
      "2020-07-01 10:53:23,249 - spacy_lefff.melt_tagger - INFO -   TAGGER: POS Tagging...\n",
      "2020-07-01 10:53:23,332 - spacy_lefff.melt_tagger - INFO -   TAGGER: POS Tagging...\n",
      "2020-07-01 10:53:23,395 - spacy_lefff.melt_tagger - INFO -   TAGGER: POS Tagging...\n",
      "2020-07-01 10:53:23,447 - spacy_lefff.melt_tagger - INFO -   TAGGER: POS Tagging...\n",
      "2020-07-01 10:53:23,478 - spacy_lefff.melt_tagger - INFO -   TAGGER: POS Tagging...\n",
      "2020-07-01 10:53:23,513 - spacy_lefff.melt_tagger - INFO -   TAGGER: POS Tagging...\n",
      "2020-07-01 10:53:23,550 - spacy_lefff.melt_tagger - INFO -   TAGGER: POS Tagging...\n",
      "2020-07-01 10:53:23,613 - spacy_lefff.melt_tagger - INFO -   TAGGER: POS Tagging...\n",
      "2020-07-01 10:53:23,669 - spacy_lefff.melt_tagger - INFO -   TAGGER: POS Tagging...\n"
     ]
    },
    {
     "name": "stdout",
     "output_type": "stream",
     "text": [
      "2020-07-01 10:53:23,720 - spacy_lefff.melt_tagger - INFO -   TAGGER: POS Tagging...\n",
      "2020-07-01 10:53:23,757 - spacy_lefff.melt_tagger - INFO -   TAGGER: POS Tagging...\n",
      "2020-07-01 10:53:23,779 - spacy_lefff.melt_tagger - INFO -   TAGGER: POS Tagging...\n",
      "2020-07-01 10:53:23,819 - spacy_lefff.melt_tagger - INFO -   TAGGER: POS Tagging...\n",
      "2020-07-01 10:53:23,875 - spacy_lefff.melt_tagger - INFO -   TAGGER: POS Tagging...\n",
      "2020-07-01 10:53:23,905 - spacy_lefff.melt_tagger - INFO -   TAGGER: POS Tagging...\n",
      "2020-07-01 10:53:23,951 - spacy_lefff.melt_tagger - INFO -   TAGGER: POS Tagging...\n",
      "2020-07-01 10:53:23,979 - spacy_lefff.melt_tagger - INFO -   TAGGER: POS Tagging...\n",
      "2020-07-01 10:53:24,003 - spacy_lefff.melt_tagger - INFO -   TAGGER: POS Tagging...\n",
      "2020-07-01 10:53:24,029 - spacy_lefff.melt_tagger - INFO -   TAGGER: POS Tagging...\n",
      "2020-07-01 10:53:24,067 - spacy_lefff.melt_tagger - INFO -   TAGGER: POS Tagging...\n",
      "2020-07-01 10:53:24,108 - spacy_lefff.melt_tagger - INFO -   TAGGER: POS Tagging...\n",
      "2020-07-01 10:53:24,153 - spacy_lefff.melt_tagger - INFO -   TAGGER: POS Tagging...\n",
      "2020-07-01 10:53:24,212 - spacy_lefff.melt_tagger - INFO -   TAGGER: POS Tagging...\n",
      "2020-07-01 10:53:24,247 - spacy_lefff.melt_tagger - INFO -   TAGGER: POS Tagging...\n",
      "2020-07-01 10:53:24,271 - spacy_lefff.melt_tagger - INFO -   TAGGER: POS Tagging...\n",
      "2020-07-01 10:53:24,304 - spacy_lefff.melt_tagger - INFO -   TAGGER: POS Tagging...\n",
      "2020-07-01 10:53:24,372 - spacy_lefff.melt_tagger - INFO -   TAGGER: POS Tagging...\n",
      "2020-07-01 10:53:24,416 - spacy_lefff.melt_tagger - INFO -   TAGGER: POS Tagging...\n",
      "2020-07-01 10:53:24,451 - spacy_lefff.melt_tagger - INFO -   TAGGER: POS Tagging...\n",
      "2020-07-01 10:53:24,475 - spacy_lefff.melt_tagger - INFO -   TAGGER: POS Tagging...\n",
      "2020-07-01 10:53:24,507 - spacy_lefff.melt_tagger - INFO -   TAGGER: POS Tagging...\n",
      "2020-07-01 10:53:24,525 - spacy_lefff.melt_tagger - INFO -   TAGGER: POS Tagging...\n",
      "2020-07-01 10:53:24,546 - spacy_lefff.melt_tagger - INFO -   TAGGER: POS Tagging...\n",
      "2020-07-01 10:53:24,578 - spacy_lefff.melt_tagger - INFO -   TAGGER: POS Tagging...\n",
      "2020-07-01 10:53:24,634 - spacy_lefff.melt_tagger - INFO -   TAGGER: POS Tagging...\n",
      "2020-07-01 10:53:24,730 - spacy_lefff.melt_tagger - INFO -   TAGGER: POS Tagging...\n",
      "2020-07-01 10:53:24,793 - spacy_lefff.melt_tagger - INFO -   TAGGER: POS Tagging...\n",
      "2020-07-01 10:53:24,864 - spacy_lefff.melt_tagger - INFO -   TAGGER: POS Tagging...\n",
      "2020-07-01 10:53:24,893 - spacy_lefff.melt_tagger - INFO -   TAGGER: POS Tagging...\n",
      "2020-07-01 10:53:24,916 - spacy_lefff.melt_tagger - INFO -   TAGGER: POS Tagging...\n",
      "2020-07-01 10:53:24,946 - spacy_lefff.melt_tagger - INFO -   TAGGER: POS Tagging...\n",
      "2020-07-01 10:53:24,975 - spacy_lefff.melt_tagger - INFO -   TAGGER: POS Tagging...\n",
      "2020-07-01 10:53:25,017 - spacy_lefff.melt_tagger - INFO -   TAGGER: POS Tagging...\n",
      "2020-07-01 10:53:25,044 - spacy_lefff.melt_tagger - INFO -   TAGGER: POS Tagging...\n",
      "2020-07-01 10:53:25,076 - spacy_lefff.melt_tagger - INFO -   TAGGER: POS Tagging...\n",
      "2020-07-01 10:53:25,127 - spacy_lefff.melt_tagger - INFO -   TAGGER: POS Tagging...\n",
      "2020-07-01 10:53:25,152 - spacy_lefff.melt_tagger - INFO -   TAGGER: POS Tagging...\n",
      "2020-07-01 10:53:25,198 - spacy_lefff.melt_tagger - INFO -   TAGGER: POS Tagging...\n",
      "2020-07-01 10:53:25,241 - spacy_lefff.melt_tagger - INFO -   TAGGER: POS Tagging...\n",
      "2020-07-01 10:53:25,270 - spacy_lefff.melt_tagger - INFO -   TAGGER: POS Tagging...\n",
      "2020-07-01 10:53:25,288 - spacy_lefff.melt_tagger - INFO -   TAGGER: POS Tagging...\n",
      "2020-07-01 10:53:25,316 - spacy_lefff.melt_tagger - INFO -   TAGGER: POS Tagging...\n",
      "2020-07-01 10:53:25,367 - spacy_lefff.melt_tagger - INFO -   TAGGER: POS Tagging...\n",
      "2020-07-01 10:53:25,398 - spacy_lefff.melt_tagger - INFO -   TAGGER: POS Tagging...\n",
      "2020-07-01 10:53:25,451 - spacy_lefff.melt_tagger - INFO -   TAGGER: POS Tagging...\n",
      "2020-07-01 10:53:25,480 - spacy_lefff.melt_tagger - INFO -   TAGGER: POS Tagging...\n",
      "2020-07-01 10:53:25,505 - spacy_lefff.melt_tagger - INFO -   TAGGER: POS Tagging...\n",
      "2020-07-01 10:53:25,533 - spacy_lefff.melt_tagger - INFO -   TAGGER: POS Tagging...\n",
      "2020-07-01 10:53:25,551 - spacy_lefff.melt_tagger - INFO -   TAGGER: POS Tagging...\n",
      "2020-07-01 10:53:25,571 - spacy_lefff.melt_tagger - INFO -   TAGGER: POS Tagging...\n",
      "2020-07-01 10:53:25,597 - spacy_lefff.melt_tagger - INFO -   TAGGER: POS Tagging...\n",
      "2020-07-01 10:53:25,650 - spacy_lefff.melt_tagger - INFO -   TAGGER: POS Tagging...\n",
      "2020-07-01 10:53:25,711 - spacy_lefff.melt_tagger - INFO -   TAGGER: POS Tagging...\n",
      "2020-07-01 10:53:25,752 - spacy_lefff.melt_tagger - INFO -   TAGGER: POS Tagging...\n",
      "2020-07-01 10:53:25,795 - spacy_lefff.melt_tagger - INFO -   TAGGER: POS Tagging...\n",
      "2020-07-01 10:53:25,814 - spacy_lefff.melt_tagger - INFO -   TAGGER: POS Tagging...\n",
      "2020-07-01 10:53:25,844 - spacy_lefff.melt_tagger - INFO -   TAGGER: POS Tagging...\n",
      "2020-07-01 10:53:25,893 - spacy_lefff.melt_tagger - INFO -   TAGGER: POS Tagging...\n",
      "2020-07-01 10:53:25,930 - spacy_lefff.melt_tagger - INFO -   TAGGER: POS Tagging...\n",
      "2020-07-01 10:53:25,982 - spacy_lefff.melt_tagger - INFO -   TAGGER: POS Tagging...\n",
      "2020-07-01 10:53:26,033 - spacy_lefff.melt_tagger - INFO -   TAGGER: POS Tagging...\n",
      "2020-07-01 10:53:26,053 - spacy_lefff.melt_tagger - INFO -   TAGGER: POS Tagging...\n",
      "2020-07-01 10:53:26,075 - spacy_lefff.melt_tagger - INFO -   TAGGER: POS Tagging...\n",
      "2020-07-01 10:53:26,094 - spacy_lefff.melt_tagger - INFO -   TAGGER: POS Tagging...\n",
      "2020-07-01 10:53:26,116 - spacy_lefff.melt_tagger - INFO -   TAGGER: POS Tagging...\n",
      "2020-07-01 10:53:26,153 - spacy_lefff.melt_tagger - INFO -   TAGGER: POS Tagging...\n",
      "2020-07-01 10:53:26,211 - spacy_lefff.melt_tagger - INFO -   TAGGER: POS Tagging...\n",
      "2020-07-01 10:53:26,275 - spacy_lefff.melt_tagger - INFO -   TAGGER: POS Tagging...\n",
      "2020-07-01 10:53:26,333 - spacy_lefff.melt_tagger - INFO -   TAGGER: POS Tagging...\n",
      "2020-07-01 10:53:26,382 - spacy_lefff.melt_tagger - INFO -   TAGGER: POS Tagging...\n",
      "2020-07-01 10:53:26,410 - spacy_lefff.melt_tagger - INFO -   TAGGER: POS Tagging...\n",
      "2020-07-01 10:53:26,444 - spacy_lefff.melt_tagger - INFO -   TAGGER: POS Tagging...\n",
      "2020-07-01 10:53:26,475 - spacy_lefff.melt_tagger - INFO -   TAGGER: POS Tagging...\n",
      "2020-07-01 10:53:26,504 - spacy_lefff.melt_tagger - INFO -   TAGGER: POS Tagging...\n",
      "2020-07-01 10:53:26,542 - spacy_lefff.melt_tagger - INFO -   TAGGER: POS Tagging...\n",
      "2020-07-01 10:53:26,578 - spacy_lefff.melt_tagger - INFO -   TAGGER: POS Tagging...\n",
      "2020-07-01 10:53:26,610 - spacy_lefff.melt_tagger - INFO -   TAGGER: POS Tagging...\n",
      "2020-07-01 10:53:26,636 - spacy_lefff.melt_tagger - INFO -   TAGGER: POS Tagging...\n",
      "2020-07-01 10:53:26,669 - spacy_lefff.melt_tagger - INFO -   TAGGER: POS Tagging...\n",
      "2020-07-01 10:53:26,693 - spacy_lefff.melt_tagger - INFO -   TAGGER: POS Tagging...\n",
      "2020-07-01 10:53:26,727 - spacy_lefff.melt_tagger - INFO -   TAGGER: POS Tagging...\n",
      "2020-07-01 10:53:26,777 - spacy_lefff.melt_tagger - INFO -   TAGGER: POS Tagging...\n",
      "2020-07-01 10:53:26,822 - spacy_lefff.melt_tagger - INFO -   TAGGER: POS Tagging...\n",
      "2020-07-01 10:53:26,842 - spacy_lefff.melt_tagger - INFO -   TAGGER: POS Tagging...\n",
      "2020-07-01 10:53:26,863 - spacy_lefff.melt_tagger - INFO -   TAGGER: POS Tagging...\n",
      "2020-07-01 10:53:26,885 - spacy_lefff.melt_tagger - INFO -   TAGGER: POS Tagging...\n",
      "2020-07-01 10:53:26,912 - spacy_lefff.melt_tagger - INFO -   TAGGER: POS Tagging...\n",
      "2020-07-01 10:53:26,955 - spacy_lefff.melt_tagger - INFO -   TAGGER: POS Tagging...\n",
      "2020-07-01 10:53:26,991 - spacy_lefff.melt_tagger - INFO -   TAGGER: POS Tagging...\n",
      "2020-07-01 10:53:27,026 - spacy_lefff.melt_tagger - INFO -   TAGGER: POS Tagging...\n",
      "2020-07-01 10:53:27,077 - spacy_lefff.melt_tagger - INFO -   TAGGER: POS Tagging...\n",
      "2020-07-01 10:53:27,108 - spacy_lefff.melt_tagger - INFO -   TAGGER: POS Tagging...\n",
      "2020-07-01 10:53:27,136 - spacy_lefff.melt_tagger - INFO -   TAGGER: POS Tagging...\n",
      "2020-07-01 10:53:27,166 - spacy_lefff.melt_tagger - INFO -   TAGGER: POS Tagging...\n",
      "2020-07-01 10:53:27,197 - spacy_lefff.melt_tagger - INFO -   TAGGER: POS Tagging...\n",
      "2020-07-01 10:53:27,234 - spacy_lefff.melt_tagger - INFO -   TAGGER: POS Tagging...\n",
      "2020-07-01 10:53:27,276 - spacy_lefff.melt_tagger - INFO -   TAGGER: POS Tagging...\n"
     ]
    },
    {
     "name": "stdout",
     "output_type": "stream",
     "text": [
      "2020-07-01 10:53:27,382 - spacy_lefff.melt_tagger - INFO -   TAGGER: POS Tagging...\n",
      "2020-07-01 10:53:27,421 - spacy_lefff.melt_tagger - INFO -   TAGGER: POS Tagging...\n",
      "2020-07-01 10:53:27,472 - spacy_lefff.melt_tagger - INFO -   TAGGER: POS Tagging...\n",
      "2020-07-01 10:53:27,521 - spacy_lefff.melt_tagger - INFO -   TAGGER: POS Tagging...\n",
      "2020-07-01 10:53:27,557 - spacy_lefff.melt_tagger - INFO -   TAGGER: POS Tagging...\n",
      "2020-07-01 10:53:27,615 - spacy_lefff.melt_tagger - INFO -   TAGGER: POS Tagging...\n",
      "2020-07-01 10:53:27,754 - spacy_lefff.melt_tagger - INFO -   TAGGER: POS Tagging...\n",
      "2020-07-01 10:53:27,793 - spacy_lefff.melt_tagger - INFO -   TAGGER: POS Tagging...\n",
      "2020-07-01 10:53:27,839 - spacy_lefff.melt_tagger - INFO -   TAGGER: POS Tagging...\n",
      "2020-07-01 10:53:27,865 - spacy_lefff.melt_tagger - INFO -   TAGGER: POS Tagging...\n",
      "2020-07-01 10:53:27,889 - spacy_lefff.melt_tagger - INFO -   TAGGER: POS Tagging...\n",
      "2020-07-01 10:53:27,920 - spacy_lefff.melt_tagger - INFO -   TAGGER: POS Tagging...\n",
      "2020-07-01 10:53:27,965 - spacy_lefff.melt_tagger - INFO -   TAGGER: POS Tagging...\n",
      "2020-07-01 10:53:27,995 - spacy_lefff.melt_tagger - INFO -   TAGGER: POS Tagging...\n",
      "2020-07-01 10:53:28,029 - spacy_lefff.melt_tagger - INFO -   TAGGER: POS Tagging...\n",
      "2020-07-01 10:53:28,053 - spacy_lefff.melt_tagger - INFO -   TAGGER: POS Tagging...\n",
      "2020-07-01 10:53:28,078 - spacy_lefff.melt_tagger - INFO -   TAGGER: POS Tagging...\n",
      "2020-07-01 10:53:28,112 - spacy_lefff.melt_tagger - INFO -   TAGGER: POS Tagging...\n",
      "2020-07-01 10:53:28,137 - spacy_lefff.melt_tagger - INFO -   TAGGER: POS Tagging...\n",
      "2020-07-01 10:53:28,160 - spacy_lefff.melt_tagger - INFO -   TAGGER: POS Tagging...\n",
      "2020-07-01 10:53:28,188 - spacy_lefff.melt_tagger - INFO -   TAGGER: POS Tagging...\n",
      "2020-07-01 10:53:28,206 - spacy_lefff.melt_tagger - INFO -   TAGGER: POS Tagging...\n",
      "2020-07-01 10:53:28,229 - spacy_lefff.melt_tagger - INFO -   TAGGER: POS Tagging...\n",
      "2020-07-01 10:53:28,278 - spacy_lefff.melt_tagger - INFO -   TAGGER: POS Tagging...\n",
      "2020-07-01 10:53:28,319 - spacy_lefff.melt_tagger - INFO -   TAGGER: POS Tagging...\n",
      "2020-07-01 10:53:28,375 - spacy_lefff.melt_tagger - INFO -   TAGGER: POS Tagging...\n",
      "2020-07-01 10:53:28,400 - spacy_lefff.melt_tagger - INFO -   TAGGER: POS Tagging...\n",
      "2020-07-01 10:53:28,439 - spacy_lefff.melt_tagger - INFO -   TAGGER: POS Tagging...\n",
      "2020-07-01 10:53:28,498 - spacy_lefff.melt_tagger - INFO -   TAGGER: POS Tagging...\n",
      "2020-07-01 10:53:28,610 - spacy_lefff.melt_tagger - INFO -   TAGGER: POS Tagging...\n",
      "2020-07-01 10:53:28,699 - spacy_lefff.melt_tagger - INFO -   TAGGER: POS Tagging...\n",
      "2020-07-01 10:53:28,830 - spacy_lefff.melt_tagger - INFO -   TAGGER: POS Tagging...\n",
      "2020-07-01 10:53:28,885 - spacy_lefff.melt_tagger - INFO -   TAGGER: POS Tagging...\n",
      "2020-07-01 10:53:28,938 - spacy_lefff.melt_tagger - INFO -   TAGGER: POS Tagging...\n",
      "2020-07-01 10:53:28,955 - spacy_lefff.melt_tagger - INFO -   TAGGER: POS Tagging...\n",
      "2020-07-01 10:53:28,979 - spacy_lefff.melt_tagger - INFO -   TAGGER: POS Tagging...\n",
      "2020-07-01 10:53:29,018 - spacy_lefff.melt_tagger - INFO -   TAGGER: POS Tagging...\n",
      "2020-07-01 10:53:29,080 - spacy_lefff.melt_tagger - INFO -   TAGGER: POS Tagging...\n"
     ]
    },
    {
     "name": "stderr",
     "output_type": "stream",
     "text": [
      "C:\\Users\\Datalyo-38\\Anaconda3\\lib\\site-packages\\sklearn\\linear_model\\logistic.py:432: FutureWarning: Default solver will be changed to 'lbfgs' in 0.22. Specify a solver to silence this warning.\n",
      "  FutureWarning)\n"
     ]
    },
    {
     "data": {
      "text/plain": [
       "Pipeline(memory=None,\n",
       "         steps=[('vectorizer',\n",
       "                 CountVectorizer(analyzer='word', binary=False,\n",
       "                                 decode_error='strict',\n",
       "                                 dtype=<class 'numpy.int64'>, encoding='utf-8',\n",
       "                                 input='content', lowercase=True, max_df=1.0,\n",
       "                                 max_features=None, min_df=1,\n",
       "                                 ngram_range=(1, 1), preprocessor=None,\n",
       "                                 stop_words=None, strip_accents=None,\n",
       "                                 token_pattern='(?u)\\\\b\\\\w\\\\w+\\\\b',\n",
       "                                 tokenizer=<function spacy_tokenizer at 0x0000022E2BC19288>,\n",
       "                                 vocabulary=None)),\n",
       "                ('classifier',\n",
       "                 LogisticRegression(C=1.0, class_weight=None, dual=False,\n",
       "                                    fit_intercept=True, intercept_scaling=1,\n",
       "                                    l1_ratio=None, max_iter=100,\n",
       "                                    multi_class='warn', n_jobs=None,\n",
       "                                    penalty='l2', random_state=None,\n",
       "                                    solver='warn', tol=0.0001, verbose=0,\n",
       "                                    warm_start=False))],\n",
       "         verbose=False)"
      ]
     },
     "execution_count": 177,
     "metadata": {},
     "output_type": "execute_result"
    }
   ],
   "source": [
    "# Logistic Regression Classifier\n",
    "from sklearn.linear_model import LogisticRegression\n",
    "classifier = LogisticRegression()\n",
    "\n",
    "# Création du pipeline en utilisant des Bag of Words\n",
    "pipe = Pipeline([\n",
    "#     ('cleaner', predictors()),\n",
    "    ('vectorizer', bow_vector),\n",
    "    ('classifier', classifier)\n",
    "])\n",
    "\n",
    "# Génération du modèle\n",
    "pipe.fit(X_train,y_train)"
   ]
  },
  {
   "cell_type": "code",
   "execution_count": 180,
   "metadata": {
    "scrolled": true
   },
   "outputs": [
    {
     "name": "stdout",
     "output_type": "stream",
     "text": [
      "2020-07-01 10:54:21,731 - spacy_lefff.melt_tagger - INFO -   TAGGER: POS Tagging...\n",
      "2020-07-01 10:54:21,772 - spacy_lefff.melt_tagger - INFO -   TAGGER: POS Tagging...\n",
      "2020-07-01 10:54:21,810 - spacy_lefff.melt_tagger - INFO -   TAGGER: POS Tagging...\n",
      "2020-07-01 10:54:21,847 - spacy_lefff.melt_tagger - INFO -   TAGGER: POS Tagging...\n",
      "2020-07-01 10:54:21,912 - spacy_lefff.melt_tagger - INFO -   TAGGER: POS Tagging...\n",
      "2020-07-01 10:54:21,946 - spacy_lefff.melt_tagger - INFO -   TAGGER: POS Tagging...\n",
      "2020-07-01 10:54:21,971 - spacy_lefff.melt_tagger - INFO -   TAGGER: POS Tagging...\n",
      "2020-07-01 10:54:22,000 - spacy_lefff.melt_tagger - INFO -   TAGGER: POS Tagging...\n",
      "2020-07-01 10:54:22,032 - spacy_lefff.melt_tagger - INFO -   TAGGER: POS Tagging...\n",
      "2020-07-01 10:54:22,061 - spacy_lefff.melt_tagger - INFO -   TAGGER: POS Tagging...\n",
      "2020-07-01 10:54:22,087 - spacy_lefff.melt_tagger - INFO -   TAGGER: POS Tagging...\n",
      "2020-07-01 10:54:22,122 - spacy_lefff.melt_tagger - INFO -   TAGGER: POS Tagging...\n",
      "2020-07-01 10:54:22,154 - spacy_lefff.melt_tagger - INFO -   TAGGER: POS Tagging...\n",
      "2020-07-01 10:54:22,184 - spacy_lefff.melt_tagger - INFO -   TAGGER: POS Tagging...\n",
      "2020-07-01 10:54:22,226 - spacy_lefff.melt_tagger - INFO -   TAGGER: POS Tagging...\n",
      "2020-07-01 10:54:22,277 - spacy_lefff.melt_tagger - INFO -   TAGGER: POS Tagging...\n",
      "2020-07-01 10:54:22,315 - spacy_lefff.melt_tagger - INFO -   TAGGER: POS Tagging...\n",
      "2020-07-01 10:54:22,351 - spacy_lefff.melt_tagger - INFO -   TAGGER: POS Tagging...\n",
      "2020-07-01 10:54:22,403 - spacy_lefff.melt_tagger - INFO -   TAGGER: POS Tagging...\n",
      "2020-07-01 10:54:22,433 - spacy_lefff.melt_tagger - INFO -   TAGGER: POS Tagging...\n",
      "2020-07-01 10:54:22,456 - spacy_lefff.melt_tagger - INFO -   TAGGER: POS Tagging...\n",
      "2020-07-01 10:54:22,487 - spacy_lefff.melt_tagger - INFO -   TAGGER: POS Tagging...\n",
      "2020-07-01 10:54:22,523 - spacy_lefff.melt_tagger - INFO -   TAGGER: POS Tagging...\n",
      "2020-07-01 10:54:22,559 - spacy_lefff.melt_tagger - INFO -   TAGGER: POS Tagging...\n",
      "2020-07-01 10:54:22,583 - spacy_lefff.melt_tagger - INFO -   TAGGER: POS Tagging...\n",
      "2020-07-01 10:54:22,612 - spacy_lefff.melt_tagger - INFO -   TAGGER: POS Tagging...\n",
      "2020-07-01 10:54:22,688 - spacy_lefff.melt_tagger - INFO -   TAGGER: POS Tagging...\n",
      "2020-07-01 10:54:22,811 - spacy_lefff.melt_tagger - INFO -   TAGGER: POS Tagging...\n",
      "2020-07-01 10:54:22,832 - spacy_lefff.melt_tagger - INFO -   TAGGER: POS Tagging...\n",
      "2020-07-01 10:54:22,859 - spacy_lefff.melt_tagger - INFO -   TAGGER: POS Tagging...\n",
      "2020-07-01 10:54:22,907 - spacy_lefff.melt_tagger - INFO -   TAGGER: POS Tagging...\n",
      "2020-07-01 10:54:22,952 - spacy_lefff.melt_tagger - INFO -   TAGGER: POS Tagging...\n",
      "2020-07-01 10:54:22,994 - spacy_lefff.melt_tagger - INFO -   TAGGER: POS Tagging...\n",
      "2020-07-01 10:54:23,033 - spacy_lefff.melt_tagger - INFO -   TAGGER: POS Tagging...\n",
      "2020-07-01 10:54:23,073 - spacy_lefff.melt_tagger - INFO -   TAGGER: POS Tagging...\n",
      "2020-07-01 10:54:23,119 - spacy_lefff.melt_tagger - INFO -   TAGGER: POS Tagging...\n",
      "2020-07-01 10:54:23,157 - spacy_lefff.melt_tagger - INFO -   TAGGER: POS Tagging...\n",
      "2020-07-01 10:54:23,217 - spacy_lefff.melt_tagger - INFO -   TAGGER: POS Tagging...\n",
      "2020-07-01 10:54:23,252 - spacy_lefff.melt_tagger - INFO -   TAGGER: POS Tagging...\n",
      "2020-07-01 10:54:23,320 - spacy_lefff.melt_tagger - INFO -   TAGGER: POS Tagging...\n",
      "2020-07-01 10:54:23,355 - spacy_lefff.melt_tagger - INFO -   TAGGER: POS Tagging...\n",
      "2020-07-01 10:54:23,423 - spacy_lefff.melt_tagger - INFO -   TAGGER: POS Tagging...\n",
      "2020-07-01 10:54:23,462 - spacy_lefff.melt_tagger - INFO -   TAGGER: POS Tagging...\n",
      "2020-07-01 10:54:23,507 - spacy_lefff.melt_tagger - INFO -   TAGGER: POS Tagging...\n",
      "2020-07-01 10:54:23,561 - spacy_lefff.melt_tagger - INFO -   TAGGER: POS Tagging...\n",
      "2020-07-01 10:54:23,599 - spacy_lefff.melt_tagger - INFO -   TAGGER: POS Tagging...\n",
      "2020-07-01 10:54:23,636 - spacy_lefff.melt_tagger - INFO -   TAGGER: POS Tagging...\n",
      "2020-07-01 10:54:23,664 - spacy_lefff.melt_tagger - INFO -   TAGGER: POS Tagging...\n",
      "2020-07-01 10:54:23,691 - spacy_lefff.melt_tagger - INFO -   TAGGER: POS Tagging...\n",
      "2020-07-01 10:54:23,740 - spacy_lefff.melt_tagger - INFO -   TAGGER: POS Tagging...\n",
      "2020-07-01 10:54:23,772 - spacy_lefff.melt_tagger - INFO -   TAGGER: POS Tagging...\n",
      "2020-07-01 10:54:23,811 - spacy_lefff.melt_tagger - INFO -   TAGGER: POS Tagging...\n",
      "2020-07-01 10:54:23,839 - spacy_lefff.melt_tagger - INFO -   TAGGER: POS Tagging...\n",
      "2020-07-01 10:54:23,877 - spacy_lefff.melt_tagger - INFO -   TAGGER: POS Tagging...\n",
      "2020-07-01 10:54:23,916 - spacy_lefff.melt_tagger - INFO -   TAGGER: POS Tagging...\n",
      "2020-07-01 10:54:23,939 - spacy_lefff.melt_tagger - INFO -   TAGGER: POS Tagging...\n",
      "2020-07-01 10:54:23,982 - spacy_lefff.melt_tagger - INFO -   TAGGER: POS Tagging...\n",
      "2020-07-01 10:54:24,062 - spacy_lefff.melt_tagger - INFO -   TAGGER: POS Tagging...\n",
      "2020-07-01 10:54:24,128 - spacy_lefff.melt_tagger - INFO -   TAGGER: POS Tagging...\n",
      "2020-07-01 10:54:24,188 - spacy_lefff.melt_tagger - INFO -   TAGGER: POS Tagging...\n",
      "2020-07-01 10:54:24,242 - spacy_lefff.melt_tagger - INFO -   TAGGER: POS Tagging...\n",
      "2020-07-01 10:54:24,287 - spacy_lefff.melt_tagger - INFO -   TAGGER: POS Tagging...\n",
      "2020-07-01 10:54:24,343 - spacy_lefff.melt_tagger - INFO -   TAGGER: POS Tagging...\n",
      "2020-07-01 10:54:24,383 - spacy_lefff.melt_tagger - INFO -   TAGGER: POS Tagging...\n",
      "2020-07-01 10:54:24,415 - spacy_lefff.melt_tagger - INFO -   TAGGER: POS Tagging...\n",
      "2020-07-01 10:54:24,444 - spacy_lefff.melt_tagger - INFO -   TAGGER: POS Tagging...\n",
      "2020-07-01 10:54:24,474 - spacy_lefff.melt_tagger - INFO -   TAGGER: POS Tagging...\n",
      "2020-07-01 10:54:24,534 - spacy_lefff.melt_tagger - INFO -   TAGGER: POS Tagging...\n",
      "2020-07-01 10:54:24,607 - spacy_lefff.melt_tagger - INFO -   TAGGER: POS Tagging...\n",
      "2020-07-01 10:54:24,640 - spacy_lefff.melt_tagger - INFO -   TAGGER: POS Tagging...\n",
      "2020-07-01 10:54:24,670 - spacy_lefff.melt_tagger - INFO -   TAGGER: POS Tagging...\n",
      "2020-07-01 10:54:24,696 - spacy_lefff.melt_tagger - INFO -   TAGGER: POS Tagging...\n",
      "2020-07-01 10:54:24,737 - spacy_lefff.melt_tagger - INFO -   TAGGER: POS Tagging...\n",
      "2020-07-01 10:54:24,772 - spacy_lefff.melt_tagger - INFO -   TAGGER: POS Tagging...\n",
      "2020-07-01 10:54:24,811 - spacy_lefff.melt_tagger - INFO -   TAGGER: POS Tagging...\n",
      "2020-07-01 10:54:24,861 - spacy_lefff.melt_tagger - INFO -   TAGGER: POS Tagging...\n",
      "2020-07-01 10:54:24,910 - spacy_lefff.melt_tagger - INFO -   TAGGER: POS Tagging...\n",
      "2020-07-01 10:54:24,968 - spacy_lefff.melt_tagger - INFO -   TAGGER: POS Tagging...\n",
      "2020-07-01 10:54:25,001 - spacy_lefff.melt_tagger - INFO -   TAGGER: POS Tagging...\n",
      "2020-07-01 10:54:25,058 - spacy_lefff.melt_tagger - INFO -   TAGGER: POS Tagging...\n",
      "2020-07-01 10:54:25,132 - spacy_lefff.melt_tagger - INFO -   TAGGER: POS Tagging...\n",
      "2020-07-01 10:54:25,172 - spacy_lefff.melt_tagger - INFO -   TAGGER: POS Tagging...\n",
      "2020-07-01 10:54:25,229 - spacy_lefff.melt_tagger - INFO -   TAGGER: POS Tagging...\n",
      "2020-07-01 10:54:25,286 - spacy_lefff.melt_tagger - INFO -   TAGGER: POS Tagging...\n",
      "2020-07-01 10:54:25,330 - spacy_lefff.melt_tagger - INFO -   TAGGER: POS Tagging...\n",
      "2020-07-01 10:54:25,358 - spacy_lefff.melt_tagger - INFO -   TAGGER: POS Tagging...\n",
      "2020-07-01 10:54:25,386 - spacy_lefff.melt_tagger - INFO -   TAGGER: POS Tagging...\n",
      "2020-07-01 10:54:25,425 - spacy_lefff.melt_tagger - INFO -   TAGGER: POS Tagging...\n",
      "2020-07-01 10:54:25,455 - spacy_lefff.melt_tagger - INFO -   TAGGER: POS Tagging...\n",
      "2020-07-01 10:54:25,497 - spacy_lefff.melt_tagger - INFO -   TAGGER: POS Tagging...\n",
      "2020-07-01 10:54:25,522 - spacy_lefff.melt_tagger - INFO -   TAGGER: POS Tagging...\n",
      "2020-07-01 10:54:25,544 - spacy_lefff.melt_tagger - INFO -   TAGGER: POS Tagging...\n",
      "2020-07-01 10:54:25,564 - spacy_lefff.melt_tagger - INFO -   TAGGER: POS Tagging...\n",
      "2020-07-01 10:54:25,600 - spacy_lefff.melt_tagger - INFO -   TAGGER: POS Tagging...\n",
      "2020-07-01 10:54:25,643 - spacy_lefff.melt_tagger - INFO -   TAGGER: POS Tagging...\n",
      "2020-07-01 10:54:25,664 - spacy_lefff.melt_tagger - INFO -   TAGGER: POS Tagging...\n",
      "2020-07-01 10:54:25,710 - spacy_lefff.melt_tagger - INFO -   TAGGER: POS Tagging...\n",
      "2020-07-01 10:54:25,810 - spacy_lefff.melt_tagger - INFO -   TAGGER: POS Tagging...\n"
     ]
    },
    {
     "name": "stdout",
     "output_type": "stream",
     "text": [
      "2020-07-01 10:54:25,908 - spacy_lefff.melt_tagger - INFO -   TAGGER: POS Tagging...\n",
      "2020-07-01 10:54:25,939 - spacy_lefff.melt_tagger - INFO -   TAGGER: POS Tagging...\n",
      "2020-07-01 10:54:25,980 - spacy_lefff.melt_tagger - INFO -   TAGGER: POS Tagging...\n",
      "Confusion matrix:\n",
      " [[48  9]\n",
      " [11 33]]\n",
      "\n",
      "Logistic Regression Accuracy: 0.801980198019802\n"
     ]
    }
   ],
   "source": [
    "from sklearn import metrics\n",
    "# Predicting avec un dataset de test\n",
    "predicted = pipe.predict(X_test)\n",
    "\n",
    "# Précision du modèle\n",
    "print(\"Confusion matrix:\\n\",metrics.confusion_matrix(y_test, predicted))\n",
    "print(\"\\nLogistic Regression Accuracy:\",metrics.accuracy_score(y_test, predicted))"
   ]
  },
  {
   "cell_type": "markdown",
   "metadata": {},
   "source": [
    "**Remarque**\n",
    "\n",
    "La qualité des données initiales a un rôle fondamental.\n",
    "\n",
    "*Exemple*\n",
    "- `' '.join(sentences)` --> 75% accuracy\n",
    "- `'. '.join(sentences)` --> 80% accuracy"
   ]
  },
  {
   "cell_type": "markdown",
   "metadata": {},
   "source": [
    "## T-SNE sur TF-IDF"
   ]
  },
  {
   "cell_type": "code",
   "execution_count": 165,
   "metadata": {},
   "outputs": [
    {
     "name": "stdout",
     "output_type": "stream",
     "text": [
      "                                                 texte  label_3\n",
      "0    Un service passable .. Des plats surcuits, des...        0\n",
      "1    Nous avons bien aimé l'ambiance, sur la promen...        2\n",
      "2    on s'attendait à mieux (attente, qualité moyen...        0\n",
      "3    Une adresse à garder pour soi vue imprenable s...        2\n",
      "4    Une petite dame nous accueille sans le sourire...        0\n",
      "..                                                 ...      ...\n",
      "330  des problèmes digestifs aprés le repas!. j'ai ...        0\n",
      "331  Alors là, si vous voulez un resto classe, une ...        2\n",
      "332  Les amis voulaient manger des crêpes mais ... ...        2\n",
      "333  Dés que nous sommes rentrés dans l’établissent...        0\n",
      "334  la salle de restaurant fait cantine,la déco es...        0\n",
      "\n",
      "[335 rows x 2 columns]\n"
     ]
    }
   ],
   "source": [
    "X = df['texte'] # les données que l'on veut analyser\n",
    "ylabels = df['label_3'] # les labels, ou réponses, pour lesquels on veut tester notre modèle\n",
    "print(df.loc[:, ['texte','label_3']])"
   ]
  },
  {
   "cell_type": "code",
   "execution_count": 166,
   "metadata": {},
   "outputs": [
    {
     "name": "stdout",
     "output_type": "stream",
     "text": [
      "2020-07-01 10:42:18,479 - spacy_lefff.melt_tagger - INFO -   TAGGER: POS Tagging...\n",
      "2020-07-01 10:42:18,508 - spacy_lefff.melt_tagger - INFO -   TAGGER: POS Tagging...\n",
      "2020-07-01 10:42:18,526 - spacy_lefff.melt_tagger - INFO -   TAGGER: POS Tagging...\n",
      "2020-07-01 10:42:18,548 - spacy_lefff.melt_tagger - INFO -   TAGGER: POS Tagging...\n",
      "2020-07-01 10:42:18,583 - spacy_lefff.melt_tagger - INFO -   TAGGER: POS Tagging...\n",
      "2020-07-01 10:42:18,634 - spacy_lefff.melt_tagger - INFO -   TAGGER: POS Tagging...\n",
      "2020-07-01 10:42:18,673 - spacy_lefff.melt_tagger - INFO -   TAGGER: POS Tagging...\n",
      "2020-07-01 10:42:18,697 - spacy_lefff.melt_tagger - INFO -   TAGGER: POS Tagging...\n",
      "2020-07-01 10:42:18,731 - spacy_lefff.melt_tagger - INFO -   TAGGER: POS Tagging...\n",
      "2020-07-01 10:42:18,779 - spacy_lefff.melt_tagger - INFO -   TAGGER: POS Tagging...\n",
      "2020-07-01 10:42:18,808 - spacy_lefff.melt_tagger - INFO -   TAGGER: POS Tagging...\n",
      "2020-07-01 10:42:18,835 - spacy_lefff.melt_tagger - INFO -   TAGGER: POS Tagging...\n",
      "2020-07-01 10:42:18,868 - spacy_lefff.melt_tagger - INFO -   TAGGER: POS Tagging...\n",
      "2020-07-01 10:42:18,915 - spacy_lefff.melt_tagger - INFO -   TAGGER: POS Tagging...\n",
      "2020-07-01 10:42:18,973 - spacy_lefff.melt_tagger - INFO -   TAGGER: POS Tagging...\n",
      "2020-07-01 10:42:19,033 - spacy_lefff.melt_tagger - INFO -   TAGGER: POS Tagging...\n",
      "2020-07-01 10:42:19,062 - spacy_lefff.melt_tagger - INFO -   TAGGER: POS Tagging...\n",
      "2020-07-01 10:42:19,091 - spacy_lefff.melt_tagger - INFO -   TAGGER: POS Tagging...\n",
      "2020-07-01 10:42:19,128 - spacy_lefff.melt_tagger - INFO -   TAGGER: POS Tagging...\n",
      "2020-07-01 10:42:19,158 - spacy_lefff.melt_tagger - INFO -   TAGGER: POS Tagging...\n",
      "2020-07-01 10:42:19,202 - spacy_lefff.melt_tagger - INFO -   TAGGER: POS Tagging...\n",
      "2020-07-01 10:42:19,266 - spacy_lefff.melt_tagger - INFO -   TAGGER: POS Tagging...\n",
      "2020-07-01 10:42:19,317 - spacy_lefff.melt_tagger - INFO -   TAGGER: POS Tagging...\n",
      "2020-07-01 10:42:19,337 - spacy_lefff.melt_tagger - INFO -   TAGGER: POS Tagging...\n",
      "2020-07-01 10:42:19,369 - spacy_lefff.melt_tagger - INFO -   TAGGER: POS Tagging...\n",
      "2020-07-01 10:42:19,426 - spacy_lefff.melt_tagger - INFO -   TAGGER: POS Tagging...\n",
      "2020-07-01 10:42:19,463 - spacy_lefff.melt_tagger - INFO -   TAGGER: POS Tagging...\n",
      "2020-07-01 10:42:19,510 - spacy_lefff.melt_tagger - INFO -   TAGGER: POS Tagging...\n",
      "2020-07-01 10:42:19,566 - spacy_lefff.melt_tagger - INFO -   TAGGER: POS Tagging...\n",
      "2020-07-01 10:42:19,589 - spacy_lefff.melt_tagger - INFO -   TAGGER: POS Tagging...\n",
      "2020-07-01 10:42:19,613 - spacy_lefff.melt_tagger - INFO -   TAGGER: POS Tagging...\n",
      "2020-07-01 10:42:19,653 - spacy_lefff.melt_tagger - INFO -   TAGGER: POS Tagging...\n",
      "2020-07-01 10:42:19,717 - spacy_lefff.melt_tagger - INFO -   TAGGER: POS Tagging...\n",
      "2020-07-01 10:42:19,735 - spacy_lefff.melt_tagger - INFO -   TAGGER: POS Tagging...\n",
      "2020-07-01 10:42:19,762 - spacy_lefff.melt_tagger - INFO -   TAGGER: POS Tagging...\n",
      "2020-07-01 10:42:19,808 - spacy_lefff.melt_tagger - INFO -   TAGGER: POS Tagging...\n",
      "2020-07-01 10:42:19,866 - spacy_lefff.melt_tagger - INFO -   TAGGER: POS Tagging...\n",
      "2020-07-01 10:42:19,896 - spacy_lefff.melt_tagger - INFO -   TAGGER: POS Tagging...\n",
      "2020-07-01 10:42:19,942 - spacy_lefff.melt_tagger - INFO -   TAGGER: POS Tagging...\n",
      "2020-07-01 10:42:19,986 - spacy_lefff.melt_tagger - INFO -   TAGGER: POS Tagging...\n",
      "2020-07-01 10:42:20,048 - spacy_lefff.melt_tagger - INFO -   TAGGER: POS Tagging...\n",
      "2020-07-01 10:42:20,130 - spacy_lefff.melt_tagger - INFO -   TAGGER: POS Tagging...\n",
      "2020-07-01 10:42:20,180 - spacy_lefff.melt_tagger - INFO -   TAGGER: POS Tagging...\n",
      "2020-07-01 10:42:20,222 - spacy_lefff.melt_tagger - INFO -   TAGGER: POS Tagging...\n",
      "2020-07-01 10:42:20,260 - spacy_lefff.melt_tagger - INFO -   TAGGER: POS Tagging...\n",
      "2020-07-01 10:42:20,331 - spacy_lefff.melt_tagger - INFO -   TAGGER: POS Tagging...\n",
      "2020-07-01 10:42:20,368 - spacy_lefff.melt_tagger - INFO -   TAGGER: POS Tagging...\n",
      "2020-07-01 10:42:20,389 - spacy_lefff.melt_tagger - INFO -   TAGGER: POS Tagging...\n",
      "2020-07-01 10:42:20,411 - spacy_lefff.melt_tagger - INFO -   TAGGER: POS Tagging...\n",
      "2020-07-01 10:42:20,434 - spacy_lefff.melt_tagger - INFO -   TAGGER: POS Tagging...\n",
      "2020-07-01 10:42:20,474 - spacy_lefff.melt_tagger - INFO -   TAGGER: POS Tagging...\n",
      "2020-07-01 10:42:20,520 - spacy_lefff.melt_tagger - INFO -   TAGGER: POS Tagging...\n",
      "2020-07-01 10:42:20,566 - spacy_lefff.melt_tagger - INFO -   TAGGER: POS Tagging...\n",
      "2020-07-01 10:42:20,618 - spacy_lefff.melt_tagger - INFO -   TAGGER: POS Tagging...\n",
      "2020-07-01 10:42:20,648 - spacy_lefff.melt_tagger - INFO -   TAGGER: POS Tagging...\n",
      "2020-07-01 10:42:20,690 - spacy_lefff.melt_tagger - INFO -   TAGGER: POS Tagging...\n",
      "2020-07-01 10:42:20,735 - spacy_lefff.melt_tagger - INFO -   TAGGER: POS Tagging...\n",
      "2020-07-01 10:42:20,776 - spacy_lefff.melt_tagger - INFO -   TAGGER: POS Tagging...\n",
      "2020-07-01 10:42:20,804 - spacy_lefff.melt_tagger - INFO -   TAGGER: POS Tagging...\n",
      "2020-07-01 10:42:20,842 - spacy_lefff.melt_tagger - INFO -   TAGGER: POS Tagging...\n",
      "2020-07-01 10:42:20,871 - spacy_lefff.melt_tagger - INFO -   TAGGER: POS Tagging...\n",
      "2020-07-01 10:42:20,905 - spacy_lefff.melt_tagger - INFO -   TAGGER: POS Tagging...\n",
      "2020-07-01 10:42:20,946 - spacy_lefff.melt_tagger - INFO -   TAGGER: POS Tagging...\n",
      "2020-07-01 10:42:21,001 - spacy_lefff.melt_tagger - INFO -   TAGGER: POS Tagging...\n",
      "2020-07-01 10:42:21,043 - spacy_lefff.melt_tagger - INFO -   TAGGER: POS Tagging...\n",
      "2020-07-01 10:42:21,093 - spacy_lefff.melt_tagger - INFO -   TAGGER: POS Tagging...\n",
      "2020-07-01 10:42:21,123 - spacy_lefff.melt_tagger - INFO -   TAGGER: POS Tagging...\n",
      "2020-07-01 10:42:21,153 - spacy_lefff.melt_tagger - INFO -   TAGGER: POS Tagging...\n",
      "2020-07-01 10:42:21,202 - spacy_lefff.melt_tagger - INFO -   TAGGER: POS Tagging...\n",
      "2020-07-01 10:42:21,247 - spacy_lefff.melt_tagger - INFO -   TAGGER: POS Tagging...\n",
      "2020-07-01 10:42:21,277 - spacy_lefff.melt_tagger - INFO -   TAGGER: POS Tagging...\n",
      "2020-07-01 10:42:21,337 - spacy_lefff.melt_tagger - INFO -   TAGGER: POS Tagging...\n",
      "2020-07-01 10:42:21,379 - spacy_lefff.melt_tagger - INFO -   TAGGER: POS Tagging...\n",
      "2020-07-01 10:42:21,425 - spacy_lefff.melt_tagger - INFO -   TAGGER: POS Tagging...\n",
      "2020-07-01 10:42:21,455 - spacy_lefff.melt_tagger - INFO -   TAGGER: POS Tagging...\n",
      "2020-07-01 10:42:21,489 - spacy_lefff.melt_tagger - INFO -   TAGGER: POS Tagging...\n",
      "2020-07-01 10:42:21,536 - spacy_lefff.melt_tagger - INFO -   TAGGER: POS Tagging...\n",
      "2020-07-01 10:42:21,589 - spacy_lefff.melt_tagger - INFO -   TAGGER: POS Tagging...\n",
      "2020-07-01 10:42:21,623 - spacy_lefff.melt_tagger - INFO -   TAGGER: POS Tagging...\n",
      "2020-07-01 10:42:21,664 - spacy_lefff.melt_tagger - INFO -   TAGGER: POS Tagging...\n",
      "2020-07-01 10:42:21,704 - spacy_lefff.melt_tagger - INFO -   TAGGER: POS Tagging...\n",
      "2020-07-01 10:42:21,764 - spacy_lefff.melt_tagger - INFO -   TAGGER: POS Tagging...\n",
      "2020-07-01 10:42:21,802 - spacy_lefff.melt_tagger - INFO -   TAGGER: POS Tagging...\n",
      "2020-07-01 10:42:21,837 - spacy_lefff.melt_tagger - INFO -   TAGGER: POS Tagging...\n",
      "2020-07-01 10:42:21,873 - spacy_lefff.melt_tagger - INFO -   TAGGER: POS Tagging...\n",
      "2020-07-01 10:42:21,900 - spacy_lefff.melt_tagger - INFO -   TAGGER: POS Tagging...\n",
      "2020-07-01 10:42:21,929 - spacy_lefff.melt_tagger - INFO -   TAGGER: POS Tagging...\n",
      "2020-07-01 10:42:21,980 - spacy_lefff.melt_tagger - INFO -   TAGGER: POS Tagging...\n",
      "2020-07-01 10:42:22,043 - spacy_lefff.melt_tagger - INFO -   TAGGER: POS Tagging...\n",
      "2020-07-01 10:42:22,101 - spacy_lefff.melt_tagger - INFO -   TAGGER: POS Tagging...\n",
      "2020-07-01 10:42:22,127 - spacy_lefff.melt_tagger - INFO -   TAGGER: POS Tagging...\n",
      "2020-07-01 10:42:22,150 - spacy_lefff.melt_tagger - INFO -   TAGGER: POS Tagging...\n",
      "2020-07-01 10:42:22,176 - spacy_lefff.melt_tagger - INFO -   TAGGER: POS Tagging...\n",
      "2020-07-01 10:42:22,216 - spacy_lefff.melt_tagger - INFO -   TAGGER: POS Tagging...\n",
      "2020-07-01 10:42:22,249 - spacy_lefff.melt_tagger - INFO -   TAGGER: POS Tagging...\n",
      "2020-07-01 10:42:22,277 - spacy_lefff.melt_tagger - INFO -   TAGGER: POS Tagging...\n",
      "2020-07-01 10:42:22,305 - spacy_lefff.melt_tagger - INFO -   TAGGER: POS Tagging...\n",
      "2020-07-01 10:42:22,348 - spacy_lefff.melt_tagger - INFO -   TAGGER: POS Tagging...\n"
     ]
    },
    {
     "name": "stdout",
     "output_type": "stream",
     "text": [
      "2020-07-01 10:42:22,394 - spacy_lefff.melt_tagger - INFO -   TAGGER: POS Tagging...\n",
      "2020-07-01 10:42:22,463 - spacy_lefff.melt_tagger - INFO -   TAGGER: POS Tagging...\n",
      "2020-07-01 10:42:22,496 - spacy_lefff.melt_tagger - INFO -   TAGGER: POS Tagging...\n",
      "2020-07-01 10:42:22,528 - spacy_lefff.melt_tagger - INFO -   TAGGER: POS Tagging...\n",
      "2020-07-01 10:42:22,561 - spacy_lefff.melt_tagger - INFO -   TAGGER: POS Tagging...\n",
      "2020-07-01 10:42:22,586 - spacy_lefff.melt_tagger - INFO -   TAGGER: POS Tagging...\n",
      "2020-07-01 10:42:22,619 - spacy_lefff.melt_tagger - INFO -   TAGGER: POS Tagging...\n",
      "2020-07-01 10:42:22,665 - spacy_lefff.melt_tagger - INFO -   TAGGER: POS Tagging...\n",
      "2020-07-01 10:42:22,691 - spacy_lefff.melt_tagger - INFO -   TAGGER: POS Tagging...\n",
      "2020-07-01 10:42:22,720 - spacy_lefff.melt_tagger - INFO -   TAGGER: POS Tagging...\n",
      "2020-07-01 10:42:22,746 - spacy_lefff.melt_tagger - INFO -   TAGGER: POS Tagging...\n",
      "2020-07-01 10:42:22,777 - spacy_lefff.melt_tagger - INFO -   TAGGER: POS Tagging...\n",
      "2020-07-01 10:42:22,818 - spacy_lefff.melt_tagger - INFO -   TAGGER: POS Tagging...\n",
      "2020-07-01 10:42:22,881 - spacy_lefff.melt_tagger - INFO -   TAGGER: POS Tagging...\n",
      "2020-07-01 10:42:22,958 - spacy_lefff.melt_tagger - INFO -   TAGGER: POS Tagging...\n",
      "2020-07-01 10:42:23,011 - spacy_lefff.melt_tagger - INFO -   TAGGER: POS Tagging...\n",
      "2020-07-01 10:42:23,085 - spacy_lefff.melt_tagger - INFO -   TAGGER: POS Tagging...\n",
      "2020-07-01 10:42:23,106 - spacy_lefff.melt_tagger - INFO -   TAGGER: POS Tagging...\n",
      "2020-07-01 10:42:23,131 - spacy_lefff.melt_tagger - INFO -   TAGGER: POS Tagging...\n",
      "2020-07-01 10:42:23,170 - spacy_lefff.melt_tagger - INFO -   TAGGER: POS Tagging...\n",
      "2020-07-01 10:42:23,215 - spacy_lefff.melt_tagger - INFO -   TAGGER: POS Tagging...\n",
      "2020-07-01 10:42:23,235 - spacy_lefff.melt_tagger - INFO -   TAGGER: POS Tagging...\n",
      "2020-07-01 10:42:23,266 - spacy_lefff.melt_tagger - INFO -   TAGGER: POS Tagging...\n",
      "2020-07-01 10:42:23,308 - spacy_lefff.melt_tagger - INFO -   TAGGER: POS Tagging...\n",
      "2020-07-01 10:42:23,346 - spacy_lefff.melt_tagger - INFO -   TAGGER: POS Tagging...\n",
      "2020-07-01 10:42:23,387 - spacy_lefff.melt_tagger - INFO -   TAGGER: POS Tagging...\n",
      "2020-07-01 10:42:23,435 - spacy_lefff.melt_tagger - INFO -   TAGGER: POS Tagging...\n",
      "2020-07-01 10:42:23,483 - spacy_lefff.melt_tagger - INFO -   TAGGER: POS Tagging...\n",
      "2020-07-01 10:42:23,534 - spacy_lefff.melt_tagger - INFO -   TAGGER: POS Tagging...\n",
      "2020-07-01 10:42:23,562 - spacy_lefff.melt_tagger - INFO -   TAGGER: POS Tagging...\n",
      "2020-07-01 10:42:23,594 - spacy_lefff.melt_tagger - INFO -   TAGGER: POS Tagging...\n",
      "2020-07-01 10:42:23,636 - spacy_lefff.melt_tagger - INFO -   TAGGER: POS Tagging...\n",
      "2020-07-01 10:42:23,682 - spacy_lefff.melt_tagger - INFO -   TAGGER: POS Tagging...\n",
      "2020-07-01 10:42:23,733 - spacy_lefff.melt_tagger - INFO -   TAGGER: POS Tagging...\n",
      "2020-07-01 10:42:23,801 - spacy_lefff.melt_tagger - INFO -   TAGGER: POS Tagging...\n",
      "2020-07-01 10:42:23,861 - spacy_lefff.melt_tagger - INFO -   TAGGER: POS Tagging...\n",
      "2020-07-01 10:42:23,894 - spacy_lefff.melt_tagger - INFO -   TAGGER: POS Tagging...\n",
      "2020-07-01 10:42:23,932 - spacy_lefff.melt_tagger - INFO -   TAGGER: POS Tagging...\n",
      "2020-07-01 10:42:23,967 - spacy_lefff.melt_tagger - INFO -   TAGGER: POS Tagging...\n",
      "2020-07-01 10:42:24,010 - spacy_lefff.melt_tagger - INFO -   TAGGER: POS Tagging...\n",
      "2020-07-01 10:42:24,038 - spacy_lefff.melt_tagger - INFO -   TAGGER: POS Tagging...\n",
      "2020-07-01 10:42:24,057 - spacy_lefff.melt_tagger - INFO -   TAGGER: POS Tagging...\n",
      "2020-07-01 10:42:24,075 - spacy_lefff.melt_tagger - INFO -   TAGGER: POS Tagging...\n",
      "2020-07-01 10:42:24,098 - spacy_lefff.melt_tagger - INFO -   TAGGER: POS Tagging...\n",
      "2020-07-01 10:42:24,128 - spacy_lefff.melt_tagger - INFO -   TAGGER: POS Tagging...\n",
      "2020-07-01 10:42:24,170 - spacy_lefff.melt_tagger - INFO -   TAGGER: POS Tagging...\n",
      "2020-07-01 10:42:24,211 - spacy_lefff.melt_tagger - INFO -   TAGGER: POS Tagging...\n",
      "2020-07-01 10:42:24,252 - spacy_lefff.melt_tagger - INFO -   TAGGER: POS Tagging...\n",
      "2020-07-01 10:42:24,279 - spacy_lefff.melt_tagger - INFO -   TAGGER: POS Tagging...\n",
      "2020-07-01 10:42:24,302 - spacy_lefff.melt_tagger - INFO -   TAGGER: POS Tagging...\n",
      "2020-07-01 10:42:24,326 - spacy_lefff.melt_tagger - INFO -   TAGGER: POS Tagging...\n",
      "2020-07-01 10:42:24,355 - spacy_lefff.melt_tagger - INFO -   TAGGER: POS Tagging...\n",
      "2020-07-01 10:42:24,379 - spacy_lefff.melt_tagger - INFO -   TAGGER: POS Tagging...\n",
      "2020-07-01 10:42:24,415 - spacy_lefff.melt_tagger - INFO -   TAGGER: POS Tagging...\n",
      "2020-07-01 10:42:24,466 - spacy_lefff.melt_tagger - INFO -   TAGGER: POS Tagging...\n",
      "2020-07-01 10:42:24,532 - spacy_lefff.melt_tagger - INFO -   TAGGER: POS Tagging...\n",
      "2020-07-01 10:42:24,578 - spacy_lefff.melt_tagger - INFO -   TAGGER: POS Tagging...\n",
      "2020-07-01 10:42:24,609 - spacy_lefff.melt_tagger - INFO -   TAGGER: POS Tagging...\n",
      "2020-07-01 10:42:24,632 - spacy_lefff.melt_tagger - INFO -   TAGGER: POS Tagging...\n",
      "2020-07-01 10:42:24,667 - spacy_lefff.melt_tagger - INFO -   TAGGER: POS Tagging...\n",
      "2020-07-01 10:42:24,717 - spacy_lefff.melt_tagger - INFO -   TAGGER: POS Tagging...\n",
      "2020-07-01 10:42:24,753 - spacy_lefff.melt_tagger - INFO -   TAGGER: POS Tagging...\n",
      "2020-07-01 10:42:24,788 - spacy_lefff.melt_tagger - INFO -   TAGGER: POS Tagging...\n",
      "2020-07-01 10:42:24,816 - spacy_lefff.melt_tagger - INFO -   TAGGER: POS Tagging...\n",
      "2020-07-01 10:42:24,848 - spacy_lefff.melt_tagger - INFO -   TAGGER: POS Tagging...\n",
      "2020-07-01 10:42:24,888 - spacy_lefff.melt_tagger - INFO -   TAGGER: POS Tagging...\n",
      "2020-07-01 10:42:24,928 - spacy_lefff.melt_tagger - INFO -   TAGGER: POS Tagging...\n",
      "2020-07-01 10:42:25,012 - spacy_lefff.melt_tagger - INFO -   TAGGER: POS Tagging...\n",
      "2020-07-01 10:42:25,062 - spacy_lefff.melt_tagger - INFO -   TAGGER: POS Tagging...\n",
      "2020-07-01 10:42:25,108 - spacy_lefff.melt_tagger - INFO -   TAGGER: POS Tagging...\n",
      "2020-07-01 10:42:25,130 - spacy_lefff.melt_tagger - INFO -   TAGGER: POS Tagging...\n",
      "2020-07-01 10:42:25,154 - spacy_lefff.melt_tagger - INFO -   TAGGER: POS Tagging...\n",
      "2020-07-01 10:42:25,191 - spacy_lefff.melt_tagger - INFO -   TAGGER: POS Tagging...\n",
      "2020-07-01 10:42:25,239 - spacy_lefff.melt_tagger - INFO -   TAGGER: POS Tagging...\n",
      "2020-07-01 10:42:25,269 - spacy_lefff.melt_tagger - INFO -   TAGGER: POS Tagging...\n",
      "2020-07-01 10:42:25,323 - spacy_lefff.melt_tagger - INFO -   TAGGER: POS Tagging...\n",
      "2020-07-01 10:42:25,396 - spacy_lefff.melt_tagger - INFO -   TAGGER: POS Tagging...\n",
      "2020-07-01 10:42:25,434 - spacy_lefff.melt_tagger - INFO -   TAGGER: POS Tagging...\n",
      "2020-07-01 10:42:25,456 - spacy_lefff.melt_tagger - INFO -   TAGGER: POS Tagging...\n",
      "2020-07-01 10:42:25,493 - spacy_lefff.melt_tagger - INFO -   TAGGER: POS Tagging...\n",
      "2020-07-01 10:42:25,541 - spacy_lefff.melt_tagger - INFO -   TAGGER: POS Tagging...\n",
      "2020-07-01 10:42:25,563 - spacy_lefff.melt_tagger - INFO -   TAGGER: POS Tagging...\n",
      "2020-07-01 10:42:25,601 - spacy_lefff.melt_tagger - INFO -   TAGGER: POS Tagging...\n",
      "2020-07-01 10:42:25,636 - spacy_lefff.melt_tagger - INFO -   TAGGER: POS Tagging...\n",
      "2020-07-01 10:42:25,679 - spacy_lefff.melt_tagger - INFO -   TAGGER: POS Tagging...\n",
      "2020-07-01 10:42:25,718 - spacy_lefff.melt_tagger - INFO -   TAGGER: POS Tagging...\n",
      "2020-07-01 10:42:25,753 - spacy_lefff.melt_tagger - INFO -   TAGGER: POS Tagging...\n",
      "2020-07-01 10:42:25,793 - spacy_lefff.melt_tagger - INFO -   TAGGER: POS Tagging...\n",
      "2020-07-01 10:42:25,838 - spacy_lefff.melt_tagger - INFO -   TAGGER: POS Tagging...\n",
      "2020-07-01 10:42:25,874 - spacy_lefff.melt_tagger - INFO -   TAGGER: POS Tagging...\n",
      "2020-07-01 10:42:25,915 - spacy_lefff.melt_tagger - INFO -   TAGGER: POS Tagging...\n",
      "2020-07-01 10:42:25,947 - spacy_lefff.melt_tagger - INFO -   TAGGER: POS Tagging...\n",
      "2020-07-01 10:42:25,980 - spacy_lefff.melt_tagger - INFO -   TAGGER: POS Tagging...\n",
      "2020-07-01 10:42:26,010 - spacy_lefff.melt_tagger - INFO -   TAGGER: POS Tagging...\n",
      "2020-07-01 10:42:26,053 - spacy_lefff.melt_tagger - INFO -   TAGGER: POS Tagging...\n",
      "2020-07-01 10:42:26,156 - spacy_lefff.melt_tagger - INFO -   TAGGER: POS Tagging...\n",
      "2020-07-01 10:42:26,197 - spacy_lefff.melt_tagger - INFO -   TAGGER: POS Tagging...\n",
      "2020-07-01 10:42:26,216 - spacy_lefff.melt_tagger - INFO -   TAGGER: POS Tagging...\n"
     ]
    },
    {
     "name": "stdout",
     "output_type": "stream",
     "text": [
      "2020-07-01 10:42:26,260 - spacy_lefff.melt_tagger - INFO -   TAGGER: POS Tagging...\n",
      "2020-07-01 10:42:26,350 - spacy_lefff.melt_tagger - INFO -   TAGGER: POS Tagging...\n",
      "2020-07-01 10:42:26,405 - spacy_lefff.melt_tagger - INFO -   TAGGER: POS Tagging...\n",
      "2020-07-01 10:42:26,522 - spacy_lefff.melt_tagger - INFO -   TAGGER: POS Tagging...\n",
      "2020-07-01 10:42:26,563 - spacy_lefff.melt_tagger - INFO -   TAGGER: POS Tagging...\n",
      "2020-07-01 10:42:26,600 - spacy_lefff.melt_tagger - INFO -   TAGGER: POS Tagging...\n",
      "2020-07-01 10:42:26,645 - spacy_lefff.melt_tagger - INFO -   TAGGER: POS Tagging...\n",
      "2020-07-01 10:42:26,679 - spacy_lefff.melt_tagger - INFO -   TAGGER: POS Tagging...\n",
      "2020-07-01 10:42:26,742 - spacy_lefff.melt_tagger - INFO -   TAGGER: POS Tagging...\n",
      "2020-07-01 10:42:26,780 - spacy_lefff.melt_tagger - INFO -   TAGGER: POS Tagging...\n",
      "2020-07-01 10:42:26,808 - spacy_lefff.melt_tagger - INFO -   TAGGER: POS Tagging...\n",
      "2020-07-01 10:42:26,836 - spacy_lefff.melt_tagger - INFO -   TAGGER: POS Tagging...\n",
      "2020-07-01 10:42:26,865 - spacy_lefff.melt_tagger - INFO -   TAGGER: POS Tagging...\n",
      "2020-07-01 10:42:26,898 - spacy_lefff.melt_tagger - INFO -   TAGGER: POS Tagging...\n",
      "2020-07-01 10:42:26,944 - spacy_lefff.melt_tagger - INFO -   TAGGER: POS Tagging...\n",
      "2020-07-01 10:42:26,977 - spacy_lefff.melt_tagger - INFO -   TAGGER: POS Tagging...\n",
      "2020-07-01 10:42:27,009 - spacy_lefff.melt_tagger - INFO -   TAGGER: POS Tagging...\n",
      "2020-07-01 10:42:27,035 - spacy_lefff.melt_tagger - INFO -   TAGGER: POS Tagging...\n",
      "2020-07-01 10:42:27,098 - spacy_lefff.melt_tagger - INFO -   TAGGER: POS Tagging...\n",
      "2020-07-01 10:42:27,205 - spacy_lefff.melt_tagger - INFO -   TAGGER: POS Tagging...\n",
      "2020-07-01 10:42:27,296 - spacy_lefff.melt_tagger - INFO -   TAGGER: POS Tagging...\n",
      "2020-07-01 10:42:27,354 - spacy_lefff.melt_tagger - INFO -   TAGGER: POS Tagging...\n",
      "2020-07-01 10:42:27,389 - spacy_lefff.melt_tagger - INFO -   TAGGER: POS Tagging...\n",
      "2020-07-01 10:42:27,430 - spacy_lefff.melt_tagger - INFO -   TAGGER: POS Tagging...\n",
      "2020-07-01 10:42:27,466 - spacy_lefff.melt_tagger - INFO -   TAGGER: POS Tagging...\n",
      "2020-07-01 10:42:27,513 - spacy_lefff.melt_tagger - INFO -   TAGGER: POS Tagging...\n",
      "2020-07-01 10:42:27,551 - spacy_lefff.melt_tagger - INFO -   TAGGER: POS Tagging...\n",
      "2020-07-01 10:42:27,584 - spacy_lefff.melt_tagger - INFO -   TAGGER: POS Tagging...\n",
      "2020-07-01 10:42:27,624 - spacy_lefff.melt_tagger - INFO -   TAGGER: POS Tagging...\n",
      "2020-07-01 10:42:27,650 - spacy_lefff.melt_tagger - INFO -   TAGGER: POS Tagging...\n",
      "2020-07-01 10:42:27,668 - spacy_lefff.melt_tagger - INFO -   TAGGER: POS Tagging...\n",
      "2020-07-01 10:42:27,704 - spacy_lefff.melt_tagger - INFO -   TAGGER: POS Tagging...\n",
      "2020-07-01 10:42:27,783 - spacy_lefff.melt_tagger - INFO -   TAGGER: POS Tagging...\n",
      "2020-07-01 10:42:27,817 - spacy_lefff.melt_tagger - INFO -   TAGGER: POS Tagging...\n",
      "2020-07-01 10:42:27,842 - spacy_lefff.melt_tagger - INFO -   TAGGER: POS Tagging...\n",
      "2020-07-01 10:42:27,875 - spacy_lefff.melt_tagger - INFO -   TAGGER: POS Tagging...\n",
      "2020-07-01 10:42:27,905 - spacy_lefff.melt_tagger - INFO -   TAGGER: POS Tagging...\n",
      "2020-07-01 10:42:27,934 - spacy_lefff.melt_tagger - INFO -   TAGGER: POS Tagging...\n",
      "2020-07-01 10:42:27,976 - spacy_lefff.melt_tagger - INFO -   TAGGER: POS Tagging...\n",
      "2020-07-01 10:42:28,022 - spacy_lefff.melt_tagger - INFO -   TAGGER: POS Tagging...\n",
      "2020-07-01 10:42:28,046 - spacy_lefff.melt_tagger - INFO -   TAGGER: POS Tagging...\n",
      "2020-07-01 10:42:28,069 - spacy_lefff.melt_tagger - INFO -   TAGGER: POS Tagging...\n",
      "2020-07-01 10:42:28,096 - spacy_lefff.melt_tagger - INFO -   TAGGER: POS Tagging...\n",
      "2020-07-01 10:42:28,168 - spacy_lefff.melt_tagger - INFO -   TAGGER: POS Tagging...\n",
      "2020-07-01 10:42:28,317 - spacy_lefff.melt_tagger - INFO -   TAGGER: POS Tagging...\n",
      "2020-07-01 10:42:28,398 - spacy_lefff.melt_tagger - INFO -   TAGGER: POS Tagging...\n",
      "2020-07-01 10:42:28,479 - spacy_lefff.melt_tagger - INFO -   TAGGER: POS Tagging...\n",
      "2020-07-01 10:42:28,598 - spacy_lefff.melt_tagger - INFO -   TAGGER: POS Tagging...\n",
      "2020-07-01 10:42:28,652 - spacy_lefff.melt_tagger - INFO -   TAGGER: POS Tagging...\n",
      "2020-07-01 10:42:28,705 - spacy_lefff.melt_tagger - INFO -   TAGGER: POS Tagging...\n",
      "2020-07-01 10:42:28,747 - spacy_lefff.melt_tagger - INFO -   TAGGER: POS Tagging...\n",
      "2020-07-01 10:42:28,796 - spacy_lefff.melt_tagger - INFO -   TAGGER: POS Tagging...\n",
      "2020-07-01 10:42:28,840 - spacy_lefff.melt_tagger - INFO -   TAGGER: POS Tagging...\n",
      "2020-07-01 10:42:28,905 - spacy_lefff.melt_tagger - INFO -   TAGGER: POS Tagging...\n",
      "2020-07-01 10:42:28,974 - spacy_lefff.melt_tagger - INFO -   TAGGER: POS Tagging...\n",
      "2020-07-01 10:42:29,033 - spacy_lefff.melt_tagger - INFO -   TAGGER: POS Tagging...\n",
      "2020-07-01 10:42:29,101 - spacy_lefff.melt_tagger - INFO -   TAGGER: POS Tagging...\n",
      "2020-07-01 10:42:29,169 - spacy_lefff.melt_tagger - INFO -   TAGGER: POS Tagging...\n",
      "2020-07-01 10:42:29,212 - spacy_lefff.melt_tagger - INFO -   TAGGER: POS Tagging...\n",
      "2020-07-01 10:42:29,259 - spacy_lefff.melt_tagger - INFO -   TAGGER: POS Tagging...\n",
      "2020-07-01 10:42:29,302 - spacy_lefff.melt_tagger - INFO -   TAGGER: POS Tagging...\n",
      "2020-07-01 10:42:29,353 - spacy_lefff.melt_tagger - INFO -   TAGGER: POS Tagging...\n",
      "2020-07-01 10:42:29,429 - spacy_lefff.melt_tagger - INFO -   TAGGER: POS Tagging...\n",
      "2020-07-01 10:42:29,505 - spacy_lefff.melt_tagger - INFO -   TAGGER: POS Tagging...\n",
      "2020-07-01 10:42:29,593 - spacy_lefff.melt_tagger - INFO -   TAGGER: POS Tagging...\n",
      "2020-07-01 10:42:29,635 - spacy_lefff.melt_tagger - INFO -   TAGGER: POS Tagging...\n",
      "2020-07-01 10:42:29,704 - spacy_lefff.melt_tagger - INFO -   TAGGER: POS Tagging...\n",
      "2020-07-01 10:42:29,767 - spacy_lefff.melt_tagger - INFO -   TAGGER: POS Tagging...\n",
      "2020-07-01 10:42:29,825 - spacy_lefff.melt_tagger - INFO -   TAGGER: POS Tagging...\n",
      "2020-07-01 10:42:29,879 - spacy_lefff.melt_tagger - INFO -   TAGGER: POS Tagging...\n",
      "2020-07-01 10:42:29,951 - spacy_lefff.melt_tagger - INFO -   TAGGER: POS Tagging...\n",
      "2020-07-01 10:42:30,044 - spacy_lefff.melt_tagger - INFO -   TAGGER: POS Tagging...\n",
      "2020-07-01 10:42:30,097 - spacy_lefff.melt_tagger - INFO -   TAGGER: POS Tagging...\n",
      "2020-07-01 10:42:30,149 - spacy_lefff.melt_tagger - INFO -   TAGGER: POS Tagging...\n",
      "2020-07-01 10:42:30,172 - spacy_lefff.melt_tagger - INFO -   TAGGER: POS Tagging...\n",
      "2020-07-01 10:42:30,202 - spacy_lefff.melt_tagger - INFO -   TAGGER: POS Tagging...\n",
      "2020-07-01 10:42:30,246 - spacy_lefff.melt_tagger - INFO -   TAGGER: POS Tagging...\n",
      "2020-07-01 10:42:30,297 - spacy_lefff.melt_tagger - INFO -   TAGGER: POS Tagging...\n",
      "2020-07-01 10:42:30,352 - spacy_lefff.melt_tagger - INFO -   TAGGER: POS Tagging...\n",
      "2020-07-01 10:42:30,405 - spacy_lefff.melt_tagger - INFO -   TAGGER: POS Tagging...\n",
      "2020-07-01 10:42:30,499 - spacy_lefff.melt_tagger - INFO -   TAGGER: POS Tagging...\n",
      "2020-07-01 10:42:30,568 - spacy_lefff.melt_tagger - INFO -   TAGGER: POS Tagging...\n",
      "2020-07-01 10:42:30,603 - spacy_lefff.melt_tagger - INFO -   TAGGER: POS Tagging...\n",
      "2020-07-01 10:42:30,633 - spacy_lefff.melt_tagger - INFO -   TAGGER: POS Tagging...\n",
      "2020-07-01 10:42:30,682 - spacy_lefff.melt_tagger - INFO -   TAGGER: POS Tagging...\n",
      "2020-07-01 10:42:30,733 - spacy_lefff.melt_tagger - INFO -   TAGGER: POS Tagging...\n",
      "2020-07-01 10:42:30,782 - spacy_lefff.melt_tagger - INFO -   TAGGER: POS Tagging...\n",
      "2020-07-01 10:42:30,820 - spacy_lefff.melt_tagger - INFO -   TAGGER: POS Tagging...\n",
      "2020-07-01 10:42:30,867 - spacy_lefff.melt_tagger - INFO -   TAGGER: POS Tagging...\n",
      "2020-07-01 10:42:30,923 - spacy_lefff.melt_tagger - INFO -   TAGGER: POS Tagging...\n",
      "2020-07-01 10:42:30,950 - spacy_lefff.melt_tagger - INFO -   TAGGER: POS Tagging...\n",
      "2020-07-01 10:42:30,993 - spacy_lefff.melt_tagger - INFO -   TAGGER: POS Tagging...\n",
      "2020-07-01 10:42:31,014 - spacy_lefff.melt_tagger - INFO -   TAGGER: POS Tagging...\n",
      "2020-07-01 10:42:31,042 - spacy_lefff.melt_tagger - INFO -   TAGGER: POS Tagging...\n",
      "2020-07-01 10:42:31,070 - spacy_lefff.melt_tagger - INFO -   TAGGER: POS Tagging...\n",
      "2020-07-01 10:42:31,116 - spacy_lefff.melt_tagger - INFO -   TAGGER: POS Tagging...\n",
      "2020-07-01 10:42:31,142 - spacy_lefff.melt_tagger - INFO -   TAGGER: POS Tagging...\n",
      "2020-07-01 10:42:31,159 - spacy_lefff.melt_tagger - INFO -   TAGGER: POS Tagging...\n"
     ]
    },
    {
     "name": "stdout",
     "output_type": "stream",
     "text": [
      "2020-07-01 10:42:31,181 - spacy_lefff.melt_tagger - INFO -   TAGGER: POS Tagging...\n",
      "2020-07-01 10:42:31,215 - spacy_lefff.melt_tagger - INFO -   TAGGER: POS Tagging...\n",
      "2020-07-01 10:42:31,234 - spacy_lefff.melt_tagger - INFO -   TAGGER: POS Tagging...\n",
      "2020-07-01 10:42:31,253 - spacy_lefff.melt_tagger - INFO -   TAGGER: POS Tagging...\n",
      "2020-07-01 10:42:31,287 - spacy_lefff.melt_tagger - INFO -   TAGGER: POS Tagging...\n",
      "2020-07-01 10:42:31,320 - spacy_lefff.melt_tagger - INFO -   TAGGER: POS Tagging...\n",
      "2020-07-01 10:42:31,366 - spacy_lefff.melt_tagger - INFO -   TAGGER: POS Tagging...\n",
      "2020-07-01 10:42:31,412 - spacy_lefff.melt_tagger - INFO -   TAGGER: POS Tagging...\n",
      "2020-07-01 10:42:31,450 - spacy_lefff.melt_tagger - INFO -   TAGGER: POS Tagging...\n",
      "2020-07-01 10:42:31,499 - spacy_lefff.melt_tagger - INFO -   TAGGER: POS Tagging...\n",
      "2020-07-01 10:42:31,526 - spacy_lefff.melt_tagger - INFO -   TAGGER: POS Tagging...\n",
      "2020-07-01 10:42:31,562 - spacy_lefff.melt_tagger - INFO -   TAGGER: POS Tagging...\n",
      "2020-07-01 10:42:31,629 - spacy_lefff.melt_tagger - INFO -   TAGGER: POS Tagging...\n",
      "2020-07-01 10:42:31,660 - spacy_lefff.melt_tagger - INFO -   TAGGER: POS Tagging...\n",
      "2020-07-01 10:42:31,693 - spacy_lefff.melt_tagger - INFO -   TAGGER: POS Tagging...\n",
      "2020-07-01 10:42:31,729 - spacy_lefff.melt_tagger - INFO -   TAGGER: POS Tagging...\n",
      "2020-07-01 10:42:31,751 - spacy_lefff.melt_tagger - INFO -   TAGGER: POS Tagging...\n",
      "2020-07-01 10:42:31,783 - spacy_lefff.melt_tagger - INFO -   TAGGER: POS Tagging...\n",
      "2020-07-01 10:42:31,810 - spacy_lefff.melt_tagger - INFO -   TAGGER: POS Tagging...\n",
      "2020-07-01 10:42:31,868 - spacy_lefff.melt_tagger - INFO -   TAGGER: POS Tagging...\n",
      "2020-07-01 10:42:31,940 - spacy_lefff.melt_tagger - INFO -   TAGGER: POS Tagging...\n",
      "2020-07-01 10:42:32,009 - spacy_lefff.melt_tagger - INFO -   TAGGER: POS Tagging...\n",
      "2020-07-01 10:42:32,029 - spacy_lefff.melt_tagger - INFO -   TAGGER: POS Tagging...\n",
      "2020-07-01 10:42:32,060 - spacy_lefff.melt_tagger - INFO -   TAGGER: POS Tagging...\n",
      "2020-07-01 10:42:32,082 - spacy_lefff.melt_tagger - INFO -   TAGGER: POS Tagging...\n",
      "2020-07-01 10:42:32,108 - spacy_lefff.melt_tagger - INFO -   TAGGER: POS Tagging...\n",
      "2020-07-01 10:42:32,137 - spacy_lefff.melt_tagger - INFO -   TAGGER: POS Tagging...\n",
      "2020-07-01 10:42:32,174 - spacy_lefff.melt_tagger - INFO -   TAGGER: POS Tagging...\n",
      "2020-07-01 10:42:32,245 - spacy_lefff.melt_tagger - INFO -   TAGGER: POS Tagging...\n",
      "2020-07-01 10:42:32,305 - spacy_lefff.melt_tagger - INFO -   TAGGER: POS Tagging...\n",
      "2020-07-01 10:42:32,339 - spacy_lefff.melt_tagger - INFO -   TAGGER: POS Tagging...\n",
      "2020-07-01 10:42:32,372 - spacy_lefff.melt_tagger - INFO -   TAGGER: POS Tagging...\n",
      "2020-07-01 10:42:32,397 - spacy_lefff.melt_tagger - INFO -   TAGGER: POS Tagging...\n",
      "2020-07-01 10:42:32,427 - spacy_lefff.melt_tagger - INFO -   TAGGER: POS Tagging...\n",
      "2020-07-01 10:42:32,453 - spacy_lefff.melt_tagger - INFO -   TAGGER: POS Tagging...\n",
      "2020-07-01 10:42:32,491 - spacy_lefff.melt_tagger - INFO -   TAGGER: POS Tagging...\n",
      "2020-07-01 10:42:32,513 - spacy_lefff.melt_tagger - INFO -   TAGGER: POS Tagging...\n",
      "2020-07-01 10:42:32,534 - spacy_lefff.melt_tagger - INFO -   TAGGER: POS Tagging...\n",
      "2020-07-01 10:42:32,562 - spacy_lefff.melt_tagger - INFO -   TAGGER: POS Tagging...\n",
      "2020-07-01 10:42:32,598 - spacy_lefff.melt_tagger - INFO -   TAGGER: POS Tagging...\n",
      "2020-07-01 10:42:32,642 - spacy_lefff.melt_tagger - INFO -   TAGGER: POS Tagging...\n",
      "  (0, 2108)\t0.22621462074436308\n",
      "  (0, 841)\t0.22886025288552864\n",
      "  (0, 2072)\t0.33759571537509775\n",
      "  (0, 1200)\t0.21234335429816198\n",
      "  (0, 671)\t0.19142723990259058\n",
      "  (0, 1914)\t0.14405034879818315\n",
      "  (0, 2254)\t0.19142723990259058\n",
      "  (0, 2380)\t0.19142723990259058\n",
      "  (0, 757)\t0.21234335429816198\n",
      "  (0, 1884)\t0.3237244489288966\n",
      "  (0, 1076)\t0.3554788881366306\n",
      "  (0, 2214)\t0.22886025288552864\n",
      "  (0, 2352)\t0.3806838045058536\n",
      "  (0, 1843)\t0.11884543242896015\n",
      "  (0, 1767)\t0.3237244489288966\n",
      "  (0, 2250)\t0.11930761279229458\n"
     ]
    }
   ],
   "source": [
    "# On calcule le tf-idf pour chaque mot de chaque texte\n",
    "tfidf = tfidf_vector.fit_transform(X)\n",
    "print(tfidf[0])"
   ]
  },
  {
   "cell_type": "code",
   "execution_count": 167,
   "metadata": {},
   "outputs": [
    {
     "name": "stdout",
     "output_type": "stream",
     "text": [
      "Un service passable .. Des plats surcuits, des sauces figées dans leur pot (on se demande si elles n'étaient pas sur d'autres tables avant de nous être servies) , le prix est correct mais le goût n'est pas au rendez vous ... très déçu par ce resto\n"
     ]
    },
    {
     "data": {
      "text/html": [
       "<div>\n",
       "<style scoped>\n",
       "    .dataframe tbody tr th:only-of-type {\n",
       "        vertical-align: middle;\n",
       "    }\n",
       "\n",
       "    .dataframe tbody tr th {\n",
       "        vertical-align: top;\n",
       "    }\n",
       "\n",
       "    .dataframe thead th {\n",
       "        text-align: right;\n",
       "    }\n",
       "</style>\n",
       "<table border=\"1\" class=\"dataframe\">\n",
       "  <thead>\n",
       "    <tr style=\"text-align: right;\">\n",
       "      <th></th>\n",
       "      <th>tf_idf</th>\n",
       "    </tr>\n",
       "  </thead>\n",
       "  <tbody>\n",
       "    <tr>\n",
       "      <th>surcuits</th>\n",
       "      <td>0.380684</td>\n",
       "    </tr>\n",
       "    <tr>\n",
       "      <th>figer</th>\n",
       "      <td>0.355479</td>\n",
       "    </tr>\n",
       "    <tr>\n",
       "      <th>rendez</th>\n",
       "      <td>0.337596</td>\n",
       "    </tr>\n",
       "    <tr>\n",
       "      <th>pot</th>\n",
       "      <td>0.323724</td>\n",
       "    </tr>\n",
       "    <tr>\n",
       "      <th>passable</th>\n",
       "      <td>0.323724</td>\n",
       "    </tr>\n",
       "    <tr>\n",
       "      <th>...</th>\n",
       "      <td>...</td>\n",
       "    </tr>\n",
       "    <tr>\n",
       "      <th>démarquer</th>\n",
       "      <td>0.000000</td>\n",
       "    </tr>\n",
       "    <tr>\n",
       "      <th>démonter</th>\n",
       "      <td>0.000000</td>\n",
       "    </tr>\n",
       "    <tr>\n",
       "      <th>départ</th>\n",
       "      <td>0.000000</td>\n",
       "    </tr>\n",
       "    <tr>\n",
       "      <th>dépasser</th>\n",
       "      <td>0.000000</td>\n",
       "    </tr>\n",
       "    <tr>\n",
       "      <th>€</th>\n",
       "      <td>0.000000</td>\n",
       "    </tr>\n",
       "  </tbody>\n",
       "</table>\n",
       "<p>2658 rows × 1 columns</p>\n",
       "</div>"
      ],
      "text/plain": [
       "             tf_idf\n",
       "surcuits   0.380684\n",
       "figer      0.355479\n",
       "rendez     0.337596\n",
       "pot        0.323724\n",
       "passable   0.323724\n",
       "...             ...\n",
       "démarquer  0.000000\n",
       "démonter   0.000000\n",
       "départ     0.000000\n",
       "dépasser   0.000000\n",
       "€          0.000000\n",
       "\n",
       "[2658 rows x 1 columns]"
      ]
     },
     "execution_count": 167,
     "metadata": {},
     "output_type": "execute_result"
    }
   ],
   "source": [
    "# Affichage des résultats pour le premier commentaire\n",
    "\n",
    "# Premier commentaire\n",
    "print(df.loc[0, 'texte'])\n",
    "\n",
    "# TF-IDF pour le premier commentaire\n",
    "df_tfidf = pd.DataFrame(tfidf[0].T.todense(), index = tfidf_vector.get_feature_names(), columns=[\"tf_idf\"])\n",
    "df_tfidf.sort_values(by=[\"tf_idf\"],ascending=False)"
   ]
  },
  {
   "cell_type": "code",
   "execution_count": 168,
   "metadata": {},
   "outputs": [
    {
     "name": "stdout",
     "output_type": "stream",
     "text": [
      "       +  -en  -là  -plat   -t  .repas    0  0,50   00    1  ...  éviter!!!!.  \\\n",
      "0    0.0  0.0  0.0    0.0  0.0     0.0  0.0   0.0  0.0  0.0  ...          0.0   \n",
      "1    0.0  0.0  0.0    0.0  0.0     0.0  0.0   0.0  0.0  0.0  ...          0.0   \n",
      "2    0.0  0.0  0.0    0.0  0.0     0.0  0.0   0.0  0.0  0.0  ...          0.0   \n",
      "3    0.0  0.0  0.0    0.0  0.0     0.0  0.0   0.0  0.0  0.0  ...          0.0   \n",
      "4    0.0  0.0  0.0    0.0  0.0     0.0  0.0   0.0  0.0  0.0  ...          0.0   \n",
      "..   ...  ...  ...    ...  ...     ...  ...   ...  ...  ...  ...          ...   \n",
      "330  0.0  0.0  0.0    0.0  0.0     0.0  0.0   0.0  0.0  0.0  ...          0.0   \n",
      "331  0.0  0.0  0.0    0.0  0.0     0.0  0.0   0.0  0.0  0.0  ...          0.0   \n",
      "332  0.0  0.0  0.0    0.0  0.0     0.0  0.0   0.0  0.0  0.0  ...          0.0   \n",
      "333  0.0  0.0  0.0    0.0  0.0     0.0  0.0   0.0  0.0  0.0  ...          0.0   \n",
      "334  0.0  0.0  0.0    0.0  0.0     0.0  0.0   0.0  0.0  0.0  ...          0.0   \n",
      "\n",
      "     évolution  évoquer  êtes      être  île  œuf  œufs    €  label_3  \n",
      "0          0.0      0.0   0.0  0.000000  0.0  0.0   0.0  0.0        0  \n",
      "1          0.0      0.0   0.0  0.000000  0.0  0.0   0.0  0.0        2  \n",
      "2          0.0      0.0   0.0  0.000000  0.0  0.0   0.0  0.0        0  \n",
      "3          0.0      0.0   0.0  0.000000  0.0  0.0   0.0  0.0        2  \n",
      "4          0.0      0.0   0.0  0.000000  0.0  0.0   0.0  0.0        0  \n",
      "..         ...      ...   ...       ...  ...  ...   ...  ...      ...  \n",
      "330        0.0      0.0   0.0  0.000000  0.0  0.0   0.0  0.0        0  \n",
      "331        0.0      0.0   0.0  0.000000  0.0  0.0   0.0  0.0        2  \n",
      "332        0.0      0.0   0.0  0.169101  0.0  0.0   0.0  0.0        2  \n",
      "333        0.0      0.0   0.0  0.000000  0.0  0.0   0.0  0.0        0  \n",
      "334        0.0      0.0   0.0  0.000000  0.0  0.0   0.0  0.0        0  \n",
      "\n",
      "[335 rows x 2659 columns]\n"
     ]
    }
   ],
   "source": [
    "# Création d'un dataframe regroupant les tf-idf et les labels\n",
    "df_tfidf = pd.DataFrame(tfidf.todense(), columns = tfidf_vector.get_feature_names())\n",
    "df_tfidf = pd.concat([df_tfidf, ylabels], axis=1)\n",
    "print(df_tfidf)"
   ]
  },
  {
   "cell_type": "code",
   "execution_count": 169,
   "metadata": {},
   "outputs": [
    {
     "name": "stdout",
     "output_type": "stream",
     "text": [
      "2020-07-01 10:42:39,715 - matplotlib - DEBUG - $HOME=C:\\Users\\Datalyo-38\n",
      "2020-07-01 10:42:39,715 - matplotlib - DEBUG - CONFIGDIR=C:\\Users\\Datalyo-38\\.matplotlib\n",
      "2020-07-01 10:42:39,715 - matplotlib - DEBUG - matplotlib data path: C:\\Users\\Datalyo-38\\Anaconda3\\lib\\site-packages\\matplotlib\\mpl-data\n",
      "2020-07-01 10:42:39,726 - matplotlib - DEBUG - loaded rc file C:\\Users\\Datalyo-38\\Anaconda3\\lib\\site-packages\\matplotlib\\mpl-data\\matplotlibrc\n",
      "2020-07-01 10:42:39,728 - matplotlib - DEBUG - matplotlib version 3.1.1\n",
      "2020-07-01 10:42:39,729 - matplotlib - DEBUG - interactive is False\n",
      "2020-07-01 10:42:39,730 - matplotlib - DEBUG - platform is win32\n",
      "2020-07-01 10:42:39,730 - matplotlib - DEBUG - loaded modules: ['sys', 'builtins', '_frozen_importlib', '_imp', '_thread', '_warnings', '_weakref', 'zipimport', '_frozen_importlib_external', '_io', 'marshal', 'nt', 'winreg', 'encodings', 'codecs', '_codecs', 'encodings.aliases', 'encodings.utf_8', '_signal', '__main__', 'encodings.latin_1', 'io', 'abc', '_abc', '_bootlocale', '_locale', 'encodings.cp1252', 'site', 'os', 'stat', '_stat', 'ntpath', 'genericpath', 'os.path', '_collections_abc', '_sitebuiltins', 'types', 'importlib', 'importlib._bootstrap', 'importlib._bootstrap_external', 'warnings', 'importlib.util', 'importlib.abc', 'importlib.machinery', 'contextlib', 'collections', 'operator', '_operator', 'keyword', 'heapq', '_heapq', 'itertools', 'reprlib', '_collections', 'functools', '_functools', 'mpl_toolkits', 'sphinxcontrib', 'runpy', 'pkgutil', 'weakref', '_weakrefset', 'ipykernel', 'ipykernel._version', 'ipykernel.connect', '__future__', 'json', 'json.decoder', 're', 'enum', 'sre_compile', '_sre', 'sre_parse', 'sre_constants', 'copyreg', 'json.scanner', '_json', 'json.encoder', 'subprocess', 'time', 'signal', 'errno', 'threading', 'traceback', 'linecache', 'tokenize', 'token', 'msvcrt', '_winapi', 'IPython', 'IPython.core', 'IPython.core.getipython', 'IPython.core.release', 'IPython.core.application', 'atexit', 'copy', 'glob', 'fnmatch', 'posixpath', 'logging', 'collections.abc', 'string', '_string', 'shutil', 'zlib', 'bz2', '_compression', '_bz2', 'lzma', '_lzma', 'traitlets', 'traitlets.traitlets', 'inspect', 'dis', 'opcode', '_opcode', 'six', 'struct', '_struct', 'traitlets.utils', 'traitlets.utils.getargspec', 'traitlets.utils.importstring', 'ipython_genutils', 'ipython_genutils._version', 'ipython_genutils.py3compat', 'ipython_genutils.encoding', 'locale', 'platform', 'traitlets.utils.sentinel', 'traitlets.utils.bunch', 'traitlets._version', 'traitlets.config', 'traitlets.config.application', 'decorator', 'traitlets.config.configurable', 'traitlets.config.loader', 'argparse', 'gettext', 'ast', '_ast', 'ipython_genutils.path', 'random', 'math', 'hashlib', '_hashlib', '_blake2', '_sha3', 'bisect', '_bisect', '_random', 'ipython_genutils.text', 'textwrap', 'ipython_genutils.importstring', 'IPython.core.crashhandler', 'pprint', 'IPython.core.ultratb', 'pydoc', 'urllib', 'urllib.parse', 'IPython.core.debugger', 'bdb', 'IPython.utils', 'IPython.utils.PyColorize', 'IPython.utils.coloransi', 'IPython.utils.ipstruct', 'IPython.utils.colorable', 'pygments', 'pygments.util', 'IPython.utils.py3compat', 'IPython.utils.encoding', 'IPython.core.excolors', 'IPython.testing', 'IPython.testing.skipdoctest', 'pdb', 'cmd', 'code', 'codeop', 'IPython.core.display_trap', 'IPython.utils.path', 'IPython.utils.process', 'IPython.utils._process_win32', 'ctypes', '_ctypes', 'ctypes._endian', 'ctypes.wintypes', 'IPython.utils._process_common', 'shlex', 'IPython.utils.decorators', 'IPython.utils.data', 'IPython.utils.terminal', 'IPython.utils.sysinfo', 'IPython.utils._sysinfo', 'IPython.core.profiledir', 'IPython.paths', 'tempfile', 'IPython.utils.importstring', 'IPython.terminal', 'IPython.terminal.embed', 'IPython.core.compilerop', 'IPython.core.magic_arguments', 'IPython.core.error', 'IPython.utils.text', 'pathlib', 'IPython.core.magic', 'getopt', 'IPython.core.oinspect', 'IPython.core.page', 'IPython.core.display', 'binascii', 'mimetypes', 'IPython.lib', 'IPython.lib.security', 'getpass', 'IPython.lib.pretty', 'datetime', '_datetime', 'IPython.utils.openpy', 'IPython.utils.dir2', 'IPython.utils.wildcard', 'pygments.lexers', 'pygments.lexers._mapping', 'pygments.modeline', 'pygments.plugin', 'pygments.lexers.python', 'pygments.lexer', 'pygments.filter', 'pygments.filters', 'pygments.token', 'pygments.regexopt', 'pygments.unistring', 'pygments.formatters', 'pygments.formatters._mapping', 'pygments.formatters.html', 'pygments.formatter', 'pygments.styles', 'IPython.core.inputtransformer2', 'typing', 'typing.io', 'typing.re', 'IPython.core.interactiveshell', 'asyncio', 'asyncio.base_events', 'concurrent', 'concurrent.futures', 'concurrent.futures._base', 'socket', '_socket', 'selectors', 'select', 'ssl', '_ssl', 'base64', 'asyncio.constants', 'asyncio.coroutines', 'asyncio.base_futures', 'asyncio.format_helpers', 'asyncio.log', 'asyncio.events', 'contextvars', '_contextvars', 'asyncio.base_tasks', '_asyncio', 'asyncio.futures', 'asyncio.protocols', 'asyncio.sslproto', 'asyncio.transports', 'asyncio.tasks', 'asyncio.locks', 'asyncio.runners', 'asyncio.queues', 'asyncio.streams', 'asyncio.subprocess', 'asyncio.windows_events', '_overlapped', 'asyncio.base_subprocess', 'asyncio.proactor_events', 'asyncio.selector_events', 'asyncio.windows_utils', 'pickleshare', 'pickle', '_compat_pickle', '_pickle', 'IPython.core.prefilter', 'IPython.core.autocall', 'IPython.core.macro', 'IPython.core.splitinput', 'IPython.core.alias', 'IPython.core.builtin_trap', 'IPython.core.events', 'backcall', 'backcall.backcall', 'IPython.core.displayhook', 'IPython.core.displaypub', 'IPython.core.extensions', 'IPython.core.formatters', 'IPython.utils.sentinel', 'IPython.core.history', 'sqlite3', 'sqlite3.dbapi2', '_sqlite3', 'IPython.core.logger', 'IPython.core.payload', 'IPython.core.usage', 'IPython.display', 'IPython.lib.display', 'html', 'html.entities', 'IPython.utils.io', 'IPython.utils.capture', 'IPython.utils.strdispatch', 'IPython.core.hooks', 'IPython.utils.syspathcontext', 'IPython.utils.tempdir', 'IPython.utils.contexts', 'IPython.core.async_helpers', 'IPython.terminal.interactiveshell', 'prompt_toolkit', 'prompt_toolkit.application', 'prompt_toolkit.application.application', 'prompt_toolkit.buffer', 'six.moves', 'prompt_toolkit.application.current', 'prompt_toolkit.eventloop', 'prompt_toolkit.eventloop.async_generator', 'queue', '_queue', 'six.moves.queue', 'prompt_toolkit.eventloop.coroutine', 'prompt_toolkit.eventloop.defaults', 'prompt_toolkit.utils', 'wcwidth', 'wcwidth.wcwidth', 'wcwidth.table_wide', 'wcwidth.table_zero', 'prompt_toolkit.cache', 'prompt_toolkit.eventloop.base', 'prompt_toolkit.log', 'prompt_toolkit.eventloop.future', 'prompt_toolkit.eventloop.context', 'prompt_toolkit.eventloop.event', 'prompt_toolkit.application.run_in_terminal', 'prompt_toolkit.auto_suggest', 'prompt_toolkit.filters', 'prompt_toolkit.filters.app', 'prompt_toolkit.enums', 'prompt_toolkit.filters.base', 'prompt_toolkit.filters.cli', 'prompt_toolkit.filters.utils', 'prompt_toolkit.clipboard', 'prompt_toolkit.clipboard.base', 'prompt_toolkit.selection', 'prompt_toolkit.clipboard.in_memory', 'prompt_toolkit.completion', 'prompt_toolkit.completion.base', 'prompt_toolkit.completion.filesystem', 'prompt_toolkit.completion.fuzzy_completer', 'prompt_toolkit.document', 'prompt_toolkit.completion.word_completer', 'prompt_toolkit.history', 'prompt_toolkit.search', 'prompt_toolkit.key_binding', 'prompt_toolkit.key_binding.key_bindings', 'prompt_toolkit.keys', 'prompt_toolkit.key_binding.vi_state', 'prompt_toolkit.validation', 'prompt_toolkit.input', 'prompt_toolkit.input.base', 'prompt_toolkit.input.defaults', 'prompt_toolkit.input.typeahead', 'prompt_toolkit.key_binding.bindings', 'prompt_toolkit.key_binding.bindings.page_navigation', 'prompt_toolkit.key_binding.bindings.scroll', 'prompt_toolkit.key_binding.defaults', 'prompt_toolkit.key_binding.bindings.basic', 'prompt_toolkit.key_binding.key_processor', 'prompt_toolkit.key_binding.bindings.named_commands', 'prompt_toolkit.key_binding.bindings.completion', 'prompt_toolkit.key_binding.bindings.cpr', 'prompt_toolkit.key_binding.bindings.emacs', 'prompt_toolkit.key_binding.bindings.mouse', 'prompt_toolkit.layout', 'prompt_toolkit.layout.containers', 'prompt_toolkit.formatted_text', 'prompt_toolkit.formatted_text.ansi', 'prompt_toolkit.output', 'prompt_toolkit.output.base', 'prompt_toolkit.layout.screen', 'prompt_toolkit.output.color_depth', 'prompt_toolkit.output.defaults', 'prompt_toolkit.output.vt100', 'array', 'prompt_toolkit.styles', 'prompt_toolkit.styles.base', 'prompt_toolkit.styles.defaults', 'prompt_toolkit.styles.named_colors', 'prompt_toolkit.styles.style', 'prompt_toolkit.styles.pygments', 'prompt_toolkit.styles.style_transformation', 'colorsys', 'prompt_toolkit.formatted_text.base', 'prompt_toolkit.formatted_text.html', 'xml', 'xml.dom', 'xml.dom.domreg', 'xml.dom.minidom', 'xml.dom.minicompat', 'xml.dom.xmlbuilder', 'xml.dom.NodeFilter', 'prompt_toolkit.formatted_text.pygments', 'prompt_toolkit.formatted_text.utils', 'prompt_toolkit.mouse_events', 'prompt_toolkit.layout.controls', 'prompt_toolkit.lexers', 'prompt_toolkit.lexers.base', 'prompt_toolkit.lexers.pygments', 'prompt_toolkit.layout.processors', 'prompt_toolkit.layout.utils', 'prompt_toolkit.layout.dimension', 'prompt_toolkit.layout.margins', 'prompt_toolkit.layout.layout', 'prompt_toolkit.layout.menus', 'prompt_toolkit.renderer', 'prompt_toolkit.layout.mouse_handlers', 'prompt_toolkit.key_binding.bindings.vi', 'prompt_toolkit.input.vt100_parser', 'prompt_toolkit.input.ansi_escape_sequences', 'prompt_toolkit.key_binding.digraphs', 'prompt_toolkit.key_binding.emacs_state', 'prompt_toolkit.layout.dummy', 'prompt_toolkit.application.dummy', 'prompt_toolkit.shortcuts', 'prompt_toolkit.shortcuts.dialogs', 'prompt_toolkit.key_binding.bindings.focus', 'prompt_toolkit.widgets', 'prompt_toolkit.widgets.base', 'prompt_toolkit.widgets.toolbars', 'prompt_toolkit.widgets.dialogs', 'prompt_toolkit.widgets.menus', 'prompt_toolkit.shortcuts.progress_bar', 'prompt_toolkit.shortcuts.progress_bar.base', 'prompt_toolkit.shortcuts.progress_bar.formatters', 'prompt_toolkit.shortcuts.prompt', 'prompt_toolkit.key_binding.bindings.auto_suggest', 'prompt_toolkit.key_binding.bindings.open_in_editor', 'prompt_toolkit.shortcuts.utils', 'prompt_toolkit.patch_stdout', 'pygments.style', 'IPython.terminal.debugger', 'IPython.core.completer', 'unicodedata', 'IPython.core.latex_symbols', 'IPython.utils.generics', 'jedi', 'jedi.api', 'parso', 'parso.parser', 'parso.tree', 'parso._compatibility', 'parso.utils', 'parso.pgen2', 'parso.pgen2.generator', 'parso.pgen2.grammar_parser', 'parso.python', 'parso.python.tokenize', 'parso.python.token', 'parso.grammar', 'parso.python.diff', 'difflib', 'parso.python.parser', 'parso.python.tree', 'parso.python.prefix', 'parso.cache', 'gc', 'parso.python.errors', 'parso.normalizer', 'parso.python.pep8', 'parso.file_io', 'jedi._compatibility', 'jedi.file_io', 'jedi.parser_utils', 'jedi.debug', 'jedi.settings', 'jedi.cache', 'jedi.api.classes', 'jedi.evaluate', 'jedi.evaluate.utils', 'jedi.evaluate.imports', 'jedi.evaluate.sys_path', 'jedi.evaluate.cache', 'jedi.evaluate.base_context', 'jedi.common', 'jedi.common.context', 'jedi.evaluate.helpers', 'jedi.common.utils', 'jedi.evaluate.compiled', 'jedi.evaluate.compiled.context', 'jedi.evaluate.filters', 'jedi.evaluate.flow_analysis', 'jedi.evaluate.recursion', 'jedi.evaluate.names', 'jedi.evaluate.lazy_context', 'jedi.evaluate.compiled.access', 'jedi.evaluate.compiled.getattr_static', 'jedi.evaluate.signature', 'jedi.evaluate.analysis', 'jedi.evaluate.gradual', 'jedi.evaluate.gradual.typeshed', 'jedi.evaluate.gradual.stub_context', 'jedi.evaluate.context', 'jedi.evaluate.context.module', 'jedi.evaluate.context.klass', 'jedi.evaluate.arguments', 'jedi.evaluate.context.iterable', 'jedi.evaluate.param', 'jedi.evaluate.docstrings', 'jedi.evaluate.context.function', 'jedi.evaluate.parser_cache', 'jedi.plugins', 'jedi.evaluate.context.instance', 'jedi.evaluate.gradual.typing', 'jedi.evaluate.syntax_tree', 'jedi.evaluate.finder', 'jedi.evaluate.gradual.conversion', 'jedi.evaluate.gradual.annotation', 'jedi.evaluate.context.decorator', 'jedi.api.keywords', 'pydoc_data', 'pydoc_data.topics', 'jedi.api.interpreter', 'jedi.evaluate.compiled.mixed', 'jedi.api.helpers', 'jedi.api.completion', 'jedi.api.file_name', 'jedi.api.environment', 'filecmp', 'jedi.evaluate.compiled.subprocess', 'jedi.evaluate.compiled.subprocess.functions', 'jedi.api.exceptions', 'jedi.api.project', 'jedi.evaluate.usages', 'jedi.evaluate.gradual.utils', 'jedi.plugins.registry', 'jedi.plugins.stdlib', 'jedi.plugins.flask', 'IPython.terminal.ptutils', 'IPython.terminal.shortcuts', 'IPython.lib.clipboard', 'IPython.terminal.magics', 'IPython.terminal.pt_inputhooks', 'IPython.terminal.prompts', 'IPython.terminal.ipapp', 'IPython.core.magics', 'IPython.core.magics.auto', 'IPython.core.magics.basic', 'IPython.core.magics.code', 'urllib.request', 'email', 'http', 'http.client', 'email.parser', 'email.feedparser', 'email.errors', 'email._policybase', 'email.header', 'email.quoprimime', 'email.base64mime', 'email.charset', 'email.encoders', 'quopri', 'email.utils', 'email._parseaddr', 'calendar', 'email.message', 'uu', 'email._encoded_words', 'email.iterators', 'urllib.error', 'urllib.response', 'nturl2path', 'IPython.core.magics.config', 'IPython.core.magics.display', 'IPython.core.magics.execution', 'timeit', 'cProfile', '_lsprof', 'profile', 'pstats', 'IPython.utils.module_paths', 'IPython.utils.timing', 'IPython.core.magics.extension', 'IPython.core.magics.history', 'IPython.core.magics.logging', 'IPython.core.magics.namespace', 'IPython.core.magics.osm', 'IPython.core.magics.packaging', 'IPython.core.magics.pylab', 'IPython.core.pylabtools', 'IPython.core.magics.script', 'IPython.lib.backgroundjobs', 'IPython.core.shellapp', 'IPython.extensions', 'IPython.extensions.storemagic', 'IPython.utils.frame', 'jupyter_client', 'jupyter_client._version', 'jupyter_client.connect', 'zmq', 'zmq.backend', 'zmq.backend.select', 'zmq.backend.cython', 'zmq.backend.cython.constants', 'cython_runtime', 'zmq.backend.cython.error', '_cython_0_29_13', 'zmq.backend.cython.message', 'zmq.error', 'zmq.backend.cython.context', 'zmq.backend.cython.socket', 'zmq.backend.cython.utils', 'zmq.backend.cython._poll', 'zmq.backend.cython._version', 'zmq.backend.cython._device', 'zmq.backend.cython._proxy_steerable', 'zmq.sugar', 'zmq.sugar.constants', 'zmq.utils', 'zmq.utils.constant_names', 'zmq.sugar.context', 'zmq.sugar.attrsettr', 'zmq.sugar.socket', 'zmq.sugar.poll', 'zmq.utils.jsonapi', 'zmq.utils.strtypes', 'zmq.sugar.frame', 'zmq.sugar.tracker', 'zmq.sugar.version', 'zmq.sugar.stopwatch', 'jupyter_client.localinterfaces', 'jupyter_core', 'jupyter_core.version', 'jupyter_core.paths', 'jupyter_client.launcher', 'traitlets.log', 'jupyter_client.client', 'jupyter_client.channels', 'jupyter_client.channelsabc', 'jupyter_client.clientabc', 'jupyter_client.manager', 'jupyter_client.kernelspec', 'jupyter_client.managerabc', 'jupyter_client.blocking', 'jupyter_client.blocking.client', 'jupyter_client.blocking.channels', 'jupyter_client.multikernelmanager', 'uuid', 'ipykernel.kernelapp', 'tornado', 'tornado.ioloop', 'numbers', 'tornado.concurrent', 'tornado.log', 'logging.handlers', 'tornado.escape', 'tornado.util', 'tornado.speedups', 'colorama', 'colorama.initialise', 'colorama.ansitowin32', 'colorama.ansi', 'colorama.winterm', 'colorama.win32', 'zmq.eventloop', 'zmq.eventloop.ioloop', 'tornado.platform', 'tornado.platform.asyncio', 'tornado.gen', 'zmq.eventloop.zmqstream', 'ipykernel.iostream', 'imp', 'jupyter_client.session', 'hmac', 'jupyter_client.jsonutil', 'dateutil', 'dateutil._version', 'dateutil.parser', 'dateutil.parser._parser', 'decimal', '_decimal', 'dateutil.relativedelta', 'dateutil._common', 'dateutil.tz', 'dateutil.tz.tz', 'dateutil.tz._common', 'dateutil.tz._factories', 'dateutil.tz.win', 'dateutil.parser.isoparser', '_strptime', 'jupyter_client.adapter', 'ipykernel.heartbeat', 'ipykernel.ipkernel', 'IPython.utils.tokenutil', 'ipykernel.comm', 'ipykernel.comm.manager', 'ipykernel.comm.comm', 'ipykernel.kernelbase', 'tornado.queues', 'tornado.locks', 'ipykernel.jsonutil', 'ipykernel.zmqshell', 'IPython.core.payloadpage', 'ipykernel.displayhook', 'ipykernel.parentpoller', 'encodings.idna', 'stringprep', 'win32api', 'win32security', 'ntsecuritycon', 'faulthandler', 'ipykernel.datapub', 'ipykernel.serialize', 'ipykernel.pickleutil', 'ipykernel.codeutil', 'IPython.core.completerlib', 'storemagic', 'ipywidgets', 'ipywidgets._version', 'ipywidgets.widgets', 'ipywidgets.widgets.widget', 'ipywidgets.widgets.domwidget', 'ipywidgets.widgets.trait_types', 'ipywidgets.widgets.util', 'ipywidgets.widgets.widget_layout', 'ipywidgets.widgets.widget_style', 'ipywidgets.widgets.valuewidget', 'ipywidgets.widgets.widget_core', 'ipywidgets.widgets.widget_bool', 'ipywidgets.widgets.widget_description', 'ipywidgets.widgets.widget_button', 'ipywidgets.widgets.widget_box', 'ipywidgets.widgets.docutils', 'ipywidgets.widgets.widget_float', 'ipywidgets.widgets.widget_int', 'ipywidgets.widgets.widget_color', 'ipywidgets.widgets.widget_date', 'ipywidgets.widgets.widget_output', 'ipywidgets.widgets.widget_selection', 'ipywidgets.widgets.widget_selectioncontainer', 'ipywidgets.widgets.widget_string', 'ipywidgets.widgets.widget_controller', 'ipywidgets.widgets.interaction', 'ipywidgets.widgets.widget_link', 'ipywidgets.widgets.widget_media', 'ipywidgets.widgets.widget_templates', 'ipywidgets.widgets.widget_upload', 'spacy', 'thinc', 'numpy', 'numpy._globals', 'numpy.__config__', 'numpy.version', 'numpy._distributor_init', 'numpy.core', 'numpy.core.multiarray', 'numpy.core.overrides', 'numpy.core._multiarray_umath', 'numpy.compat', 'numpy.compat._inspect', 'numpy.compat.py3k', 'numpy.core.umath', 'numpy.core.numerictypes', 'numpy.core._string_helpers', 'numpy.core._type_aliases', 'numpy.core._dtype', 'numpy.core.numeric', 'numpy.core.shape_base', 'numpy.core._asarray', 'numpy.core.fromnumeric', 'numpy.core._methods', 'numpy.core._exceptions', 'numpy.core._ufunc_config', 'numpy.core.arrayprint', 'numpy.core.defchararray', 'numpy.core.records', 'numpy.core.memmap', 'numpy.core.function_base', 'numpy.core.machar', 'numpy.core.getlimits', 'numpy.core.einsumfunc', 'numpy.core._add_newdocs', 'numpy.core._multiarray_tests', 'numpy.core._dtype_ctypes', 'numpy.core._internal', 'numpy._pytesttester', 'numpy.lib', 'numpy.lib.mixins', 'numpy.lib.scimath', 'numpy.lib.type_check', 'numpy.lib.ufunclike', 'numpy.lib.index_tricks', 'numpy.matrixlib', 'numpy.matrixlib.defmatrix', 'numpy.linalg', 'numpy.linalg.linalg', 'numpy.lib.twodim_base', 'numpy.linalg.lapack_lite', 'numpy.linalg._umath_linalg', 'numpy.lib.function_base', 'numpy.lib.histograms', 'numpy.lib.stride_tricks', 'numpy.lib.nanfunctions', 'numpy.lib.shape_base', 'numpy.lib.polynomial', 'numpy.lib.utils', 'numpy.lib.arraysetops', 'numpy.lib.npyio', 'numpy.lib.format', 'numpy.lib._datasource', 'numpy.lib._iotools', 'numpy.lib.financial', 'numpy.lib.arrayterator', 'numpy.lib.arraypad', 'numpy.lib._version', 'numpy.fft', 'numpy.fft._pocketfft', 'numpy.fft._pocketfft_internal', 'numpy.fft.helper', 'numpy.polynomial', 'numpy.polynomial.polynomial', 'numpy.polynomial.polyutils', 'numpy.polynomial._polybase', 'numpy.polynomial.chebyshev', 'numpy.polynomial.legendre', 'numpy.polynomial.hermite', 'numpy.polynomial.hermite_e', 'numpy.polynomial.laguerre', 'numpy.random', 'numpy.random._pickle', 'numpy.random.mtrand', 'numpy.random._bit_generator', '_cython_0_29_17', 'numpy.random._common', 'secrets', 'numpy.random._bounded_integers', 'numpy.random._mt19937', 'numpy.random._philox', 'numpy.random._pcg64', 'numpy.random._sfc64', 'numpy.random._generator', 'numpy.ctypeslib', 'numpy.ma', 'numpy.ma.core', 'numpy.ma.extras', 'thinc.about', 'thinc._registry', 'catalogue', 'importlib_metadata', 'csv', '_csv', 'zipp', 'zipfile', 'more_itertools', 'more_itertools.more', 'more_itertools.recipes', 'importlib_metadata._compat', 'configparser', 'thinc.neural', 'thinc.neural._classes', 'thinc.neural._classes.model', 'srsly', 'srsly._json_api', 'gzip', 'srsly.ujson', 'srsly.ujson.ujson', 'srsly.util', 'srsly._msgpack_api', 'srsly.msgpack', 'srsly.msgpack._version', 'srsly.msgpack.exceptions', 'srsly.msgpack._packer', 'srsly.msgpack._ext_type', 'srsly.msgpack.util', 'srsly.msgpack._unpacker', 'srsly.msgpack._msgpack_numpy', 'srsly._pickle_api', 'srsly.cloudpickle', 'srsly.cloudpickle.cloudpickle', 'thinc.neural.util', 'thinc.neural.train', 'tqdm', 'tqdm.std', 'tqdm.utils', 'tqdm._monitor', 'tqdm.gui', 'tqdm._tqdm_pandas', 'tqdm.cli', 'tqdm._version', 'thinc.neural.optimizers', '_cython_0_29_19', 'thinc.neural.ops', 'cymem', 'cymem.about', 'cymem.cymem', 'preshed', 'preshed.about', 'preshed.maps', 'thinc.linalg', 'blis', 'blis.cy', 'blis.py', 'murmurhash', 'murmurhash.about', 'murmurhash.mrmr', 'thinc.neural._custom_kernels', 'numpy.testing', 'unittest', 'unittest.result', 'unittest.util', 'unittest.case', 'unittest.suite', 'unittest.loader', 'unittest.main', 'unittest.runner', 'unittest.signals', 'numpy.testing._private', 'numpy.testing._private.utils', 'numpy.testing._private.decorators', 'numpy.testing._private.nosetester', 'thinc.neural._aligned_alloc', 'thinc.compat', 'thinc.neural.mem', 'thinc.check', 'thinc.extra', 'thinc.extra.wrapt', 'thinc.extra.wrapt.wrappers', 'thinc.extra.wrapt._wrappers', 'thinc.extra.wrapt.decorators', 'thinc.extra.wrapt.importer', 'thinc.exceptions', 'wasabi', 'wasabi.printer', 'multiprocessing', 'multiprocessing.context', 'multiprocessing.process', 'multiprocessing.reduction', '__mp_main__', 'wasabi.tables', 'wasabi.util', 'wasabi.traceback_printer', 'spacy.pipeline', 'spacy.pipeline.pipes', '_cython_0_29_20', 'spacy.syntax', 'spacy.syntax.nn_parser', 'spacy.strings', 'spacy.compat', 'spacy.symbols', 'spacy.errors', 'spacy.util', 'spacy.about', 'jsonschema', 'jsonschema.exceptions', 'attr', 'attr.converters', 'attr._make', 'attr._config', 'attr._compat', 'attr.exceptions', 'attr.filters', 'attr.validators', 'attr._funcs', 'attr._version', 'jsonschema._utils', 'jsonschema.compat', 'jsonschema._format', 'idna', 'idna.package_data', 'idna.core', 'idna.idnadata', 'idna.intranges', 'jsonschema._types', 'pyrsistent', 'pyrsistent._pmap', 'pyrsistent._compat', 'pyrsistent._pvector', 'pyrsistent._transformations', 'pvectorc', 'pyrsistent._pset', 'pyrsistent._pbag', 'pyrsistent._plist', 'pyrsistent._pdeque', 'pyrsistent._checked_types', 'pyrsistent._field_common', 'pyrsistent._precord', 'pyrsistent._pclass', 'pyrsistent._immutable', 'pyrsistent._helpers', 'pyrsistent._toolz', 'jsonschema.validators', 'jsonschema._legacy_validators', 'jsonschema._validators', 'pkg_resources', 'plistlib', 'xml.parsers', 'xml.parsers.expat', 'pyexpat.errors', 'pyexpat.model', 'pyexpat', 'xml.parsers.expat.model', 'xml.parsers.expat.errors', 'pkg_resources.extern', 'pkg_resources._vendor', 'pkg_resources.extern.six', 'pkg_resources._vendor.six', 'pkg_resources.extern.six.moves', 'pkg_resources._vendor.six.moves', 'pkg_resources.py31compat', 'win32com', 'pythoncom', 'pywintypes', '_win32sysloader', 'win32com.gen_py', 'win32com.shell', 'pkg_resources.extern.appdirs', 'pkg_resources._vendor.packaging.__about__', 'pkg_resources.extern.packaging', 'pkg_resources.extern.packaging.version', 'pkg_resources.extern.packaging._structures', 'pkg_resources.extern.packaging.specifiers', 'pkg_resources.extern.packaging._compat', 'pkg_resources.extern.packaging.requirements', 'pkg_resources.extern.pyparsing', 'pkg_resources.extern.six.moves.urllib', 'pkg_resources.extern.packaging.markers', 'sysconfig', 'spacy.morphology', 'spacy.vocab', 'spacy.lexeme', 'spacy.attrs', 'spacy.tokens', 'spacy.tokens.doc', 'spacy.tokens.span', 'spacy.tokens.token', 'spacy.tokens.morphanalysis', 'spacy.parts_of_speech', 'spacy.tokens.underscore', 'spacy.tokens._retokenize', 'spacy.tokens._serialize', 'spacy.lemmatizer', 'spacy.lookups', 'preshed.bloom', 'spacy.vectors', 'spacy._ml', 'thinc.v2v', 'thinc.neural._classes.affine', 'thinc.describe', 'thinc.neural._classes.relu', 'thinc.neural._classes.maxout', 'thinc.neural._classes.softmax', 'thinc.neural._classes.selu', 'thinc.neural._classes.mish', 'thinc.t2t', 'thinc.neural._classes.convolution', 'thinc.neural._classes.attention', 'thinc.neural._classes.rnn', 'thinc.api', 'thinc.neural._classes.function_layer', 'thinc.neural._classes.feed_forward', 'thinc.neural._lsuv', 'thinc.neural._classes.multiheaded_attention', 'thinc.t2v', 'thinc.neural.pooling', 'thinc.i2v', 'thinc.neural._classes.hash_embed', 'thinc.neural._classes.embed', 'thinc.neural._classes.static_vectors', 'thinc.extra.load_nlp', 'thinc.misc', 'thinc.neural._classes.batchnorm', 'thinc.neural._classes.layernorm', 'thinc.neural._classes.resnet', 'thinc.neural._classes.feature_extracter', 'thinc.linear', 'thinc.linear.linear', 'spacy.ml', 'spacy.ml.tok2vec', 'spacy.ml._wire', 'spacy.ml.common', 'spacy.ml._legacy_tok2vec', 'spacy.lang', 'spacy.lang.norm_exceptions', 'spacy.lang.lex_attrs', 'spacy.syntax.stateclass', 'spacy.gold', 'spacy.syntax.transition_system', 'thinc.extra.search', 'spacy.syntax._beam_utils', 'spacy.syntax.nonproj', 'spacy.syntax.arc_eager', 'spacy.syntax._parser_model', 'spacy.syntax.ner', 'spacy.pipeline.functions', 'spacy.language', 'spacy.tokenizer', 'spacy.analysis', 'spacy.scorer', 'spacy.lang.punctuation', 'spacy.lang.char_classes', 'spacy.lang.tokenizer_exceptions', 'spacy.lang.tag_map', 'spacy.matcher', 'spacy.matcher.matcher', 'spacy.matcher._schemas', 'spacy.matcher.phrasematcher', 'spacy.matcher.dependencymatcher', 'spacy.kb', 'spacy.pipeline.morphologizer', 'spacy.pipeline.entityruler', 'spacy.pipeline.hooks', 'thinc.neural._classes.difference', 'spacy.cli', 'spacy.cli.download', 'plac', 'plac_core', 'plac_ext', 'asyncore', 'asynchat', 'requests', 'urllib3', 'urllib3.connectionpool', 'urllib3.exceptions', 'urllib3.packages', 'urllib3.packages.ssl_match_hostname', 'urllib3.packages.six', 'urllib3.packages.six.moves', 'urllib3.packages.six.moves.http_client', 'urllib3.connection', 'urllib3.util', 'urllib3.util.connection', 'urllib3.util.wait', 'urllib3.contrib', 'urllib3.contrib._appengine_environ', 'urllib3.util.request', 'urllib3.util.response', 'urllib3.util.ssl_', 'urllib3.util.url', 'urllib3.util.timeout', 'urllib3.util.retry', 'urllib3._collections', 'urllib3.request', 'urllib3.filepost', 'urllib3.fields', 'urllib3.packages.six.moves.urllib', 'urllib3.packages.six.moves.urllib.parse', 'urllib3.response', 'urllib3.util.queue', 'urllib3.poolmanager', 'chardet', 'chardet.compat', 'chardet.universaldetector', 'chardet.charsetgroupprober', 'chardet.enums', 'chardet.charsetprober', 'chardet.escprober', 'chardet.codingstatemachine', 'chardet.escsm', 'chardet.latin1prober', 'chardet.mbcsgroupprober', 'chardet.utf8prober', 'chardet.mbcssm', 'chardet.sjisprober', 'chardet.mbcharsetprober', 'chardet.chardistribution', 'chardet.euctwfreq', 'chardet.euckrfreq', 'chardet.gb2312freq', 'chardet.big5freq', 'chardet.jisfreq', 'chardet.jpcntx', 'chardet.eucjpprober', 'chardet.gb2312prober', 'chardet.euckrprober', 'chardet.cp949prober', 'chardet.big5prober', 'chardet.euctwprober', 'chardet.sbcsgroupprober', 'chardet.sbcharsetprober', 'chardet.langcyrillicmodel', 'chardet.langgreekmodel', 'chardet.langbulgarianmodel', 'chardet.langthaimodel', 'chardet.langhebrewmodel', 'chardet.hebrewprober', 'chardet.langturkishmodel', 'chardet.version', 'requests.exceptions', 'urllib3.contrib.pyopenssl', 'OpenSSL', 'OpenSSL.crypto', 'cryptography', 'cryptography.__about__', 'cryptography.x509', 'cryptography.x509.certificate_transparency', 'cryptography.x509.base', 'cryptography.utils', 'cryptography.hazmat', 'cryptography.hazmat.primitives', 'cryptography.hazmat.primitives.asymmetric', 'cryptography.hazmat.primitives.asymmetric.dsa', 'cryptography.hazmat.primitives.asymmetric.ec', 'cryptography.hazmat._oid', 'cryptography.hazmat.primitives.asymmetric.rsa', 'cryptography.exceptions', 'cryptography.hazmat.backends', 'cryptography.hazmat.backends.interfaces', 'cryptography.x509.extensions', 'ipaddress', 'asn1crypto', 'asn1crypto.version', 'asn1crypto.keys', 'asn1crypto._errors', 'asn1crypto._types', 'asn1crypto.algos', 'asn1crypto._int', 'asn1crypto.util', 'asn1crypto._iri', 'asn1crypto._ordereddict', 'asn1crypto._inet', 'asn1crypto.core', 'fractions', 'asn1crypto._teletex_codec', 'asn1crypto.parser', 'cryptography.hazmat.primitives.constant_time', 'cryptography.hazmat.bindings', '_cffi_backend', '_constant_time.lib', '_constant_time', 'cryptography.hazmat.bindings._constant_time', 'cryptography.hazmat.primitives.serialization', 'cryptography.hazmat.primitives.serialization.base', 'cryptography.hazmat.primitives.serialization.ssh', 'cryptography.hazmat.primitives.asymmetric.ed25519', 'cryptography.x509.general_name', 'cryptography.x509.name', 'cryptography.x509.oid', 'cryptography.hazmat.primitives.hashes', 'OpenSSL._util', 'cryptography.hazmat.bindings.openssl', 'cryptography.hazmat.bindings.openssl.binding', '_openssl.lib', '_openssl', 'cryptography.hazmat.bindings._openssl', 'cryptography.hazmat.bindings.openssl._conditional', 'OpenSSL.SSL', 'OpenSSL.version', 'cryptography.hazmat.backends.openssl', 'cryptography.hazmat.backends.openssl.backend', 'cryptography.hazmat.backends.openssl.aead', 'cryptography.hazmat.backends.openssl.ciphers', 'cryptography.hazmat.primitives.ciphers', 'cryptography.hazmat.primitives.ciphers.base', 'cryptography.hazmat.primitives.ciphers.modes', 'cryptography.hazmat.backends.openssl.cmac', 'cryptography.hazmat.backends.openssl.decode_asn1', 'cryptography.hazmat.backends.openssl.dh', 'cryptography.hazmat.primitives.asymmetric.dh', 'cryptography.hazmat.backends.openssl.dsa', 'cryptography.hazmat.backends.openssl.utils', 'cryptography.hazmat.primitives.asymmetric.utils', 'cryptography.hazmat.backends.openssl.ec', 'cryptography.hazmat.backends.openssl.ed25519', 'cryptography.hazmat.backends.openssl.ed448', 'cryptography.hazmat.primitives.asymmetric.ed448', 'cryptography.hazmat.backends.openssl.encode_asn1', 'cryptography.hazmat.backends.openssl.hashes', 'cryptography.hazmat.backends.openssl.hmac', 'cryptography.hazmat.backends.openssl.ocsp', 'cryptography.hazmat.backends.openssl.x509', 'cryptography.x509.ocsp', 'cryptography.hazmat.backends.openssl.poly1305', 'cryptography.hazmat.backends.openssl.rsa', 'cryptography.hazmat.primitives.asymmetric.padding', 'cryptography.hazmat.backends.openssl.x25519', 'cryptography.hazmat.primitives.asymmetric.x25519', 'cryptography.hazmat.backends.openssl.x448', 'cryptography.hazmat.primitives.asymmetric.x448', 'cryptography.hazmat.primitives.ciphers.algorithms', 'cryptography.hazmat.primitives.kdf', 'cryptography.hazmat.primitives.kdf.scrypt', 'urllib3.packages.backports', 'urllib3.packages.backports.makefile', 'requests.__version__', 'requests.utils', 'requests.certs', 'certifi', 'certifi.core', 'importlib.resources', 'requests._internal_utils', 'requests.compat', 'http.cookiejar', 'http.cookies', 'requests.cookies', 'requests.structures', 'requests.packages', 'requests.packages.urllib3', 'requests.packages.urllib3.connectionpool', 'requests.packages.urllib3.exceptions', 'requests.packages.urllib3.packages', 'requests.packages.urllib3.packages.ssl_match_hostname', 'requests.packages.urllib3.packages.six', 'requests.packages.urllib3.packages.six.moves', 'requests.packages.urllib3.packages.six.moves.http_client', 'requests.packages.urllib3.connection', 'requests.packages.urllib3.util', 'requests.packages.urllib3.util.connection', 'requests.packages.urllib3.util.wait', 'requests.packages.urllib3.contrib', 'requests.packages.urllib3.contrib._appengine_environ', 'requests.packages.urllib3.util.request', 'requests.packages.urllib3.util.response', 'requests.packages.urllib3.util.ssl_', 'requests.packages.urllib3.util.url', 'requests.packages.urllib3.util.timeout', 'requests.packages.urllib3.util.retry', 'requests.packages.urllib3._collections', 'requests.packages.urllib3.request', 'requests.packages.urllib3.filepost', 'requests.packages.urllib3.fields', 'requests.packages.urllib3.packages.six.moves.urllib', 'requests.packages.urllib3.packages.six.moves.urllib.parse', 'requests.packages.urllib3.response', 'requests.packages.urllib3.util.queue', 'requests.packages.urllib3.poolmanager', 'requests.packages.urllib3.contrib.pyopenssl', 'requests.packages.urllib3.packages.backports', 'requests.packages.urllib3.packages.backports.makefile', 'requests.packages.idna', 'requests.packages.idna.package_data', 'requests.packages.idna.core', 'requests.packages.idna.idnadata', 'requests.packages.idna.intranges', 'requests.packages.chardet', 'requests.packages.chardet.compat', 'requests.packages.chardet.universaldetector', 'requests.packages.chardet.charsetgroupprober', 'requests.packages.chardet.enums', 'requests.packages.chardet.charsetprober', 'requests.packages.chardet.escprober', 'requests.packages.chardet.codingstatemachine', 'requests.packages.chardet.escsm', 'requests.packages.chardet.latin1prober', 'requests.packages.chardet.mbcsgroupprober', 'requests.packages.chardet.utf8prober', 'requests.packages.chardet.mbcssm', 'requests.packages.chardet.sjisprober', 'requests.packages.chardet.mbcharsetprober', 'requests.packages.chardet.chardistribution', 'requests.packages.chardet.euctwfreq', 'requests.packages.chardet.euckrfreq', 'requests.packages.chardet.gb2312freq', 'requests.packages.chardet.big5freq', 'requests.packages.chardet.jisfreq', 'requests.packages.chardet.jpcntx', 'requests.packages.chardet.eucjpprober', 'requests.packages.chardet.gb2312prober', 'requests.packages.chardet.euckrprober', 'requests.packages.chardet.cp949prober', 'requests.packages.chardet.big5prober', 'requests.packages.chardet.euctwprober', 'requests.packages.chardet.sbcsgroupprober', 'requests.packages.chardet.sbcharsetprober', 'requests.packages.chardet.langcyrillicmodel', 'requests.packages.chardet.langgreekmodel', 'requests.packages.chardet.langbulgarianmodel', 'requests.packages.chardet.langthaimodel', 'requests.packages.chardet.langhebrewmodel', 'requests.packages.chardet.hebrewprober', 'requests.packages.chardet.langturkishmodel', 'requests.packages.chardet.version', 'requests.models', 'requests.hooks', 'requests.auth', 'requests.status_codes', 'requests.api', 'requests.sessions', 'requests.adapters', 'urllib3.contrib.socks', 'socks', 'spacy.cli.link', 'spacy.cli.info', 'spacy.cli.package', 'spacy.cli.profile', 'thinc.extra.datasets', 'thinc.extra._vendorized', 'thinc.extra._vendorized.keras_data_utils', 'tarfile', 'thinc.extra._vendorized.keras_generic_utils', 'spacy.cli.train', 'spacy.cli.pretrain', 'spacy.cli.debug_data', 'spacy.cli.evaluate', 'spacy.displacy', 'spacy.displacy.render', 'spacy.displacy.templates', 'spacy.cli.convert', 'spacy.cli.converters', 'spacy.cli.converters.conllu2json', 'spacy.cli.converters.iob2json', 'spacy.cli.converters.conll_ner2json', 'spacy.lang.xx', 'spacy.cli.converters.jsonl2json', 'spacy.cli.init_model', 'preshed.counter', 'spacy.cli.validate', 'spacy.glossary', 'pandas', 'pytz', 'pytz.exceptions', 'pytz.lazy', 'pytz.tzinfo', 'pytz.tzfile', 'pandas.compat', 'pandas.compat.numpy', 'distutils', 'distutils.version', 'pandas._libs', 'pandas._libs.tslibs', 'pandas._libs.tslibs.conversion', 'pandas._libs.tslibs.c_timestamp', 'pandas._libs.tslibs.nattype', 'pandas._libs.missing', 'pandas._libs.tslibs.np_datetime', 'pandas._libs.ops_dispatch', 'pandas._libs.tslibs.timezones', 'pandas._libs.tslibs.tzconversion', 'pandas._libs.tslibs.timedeltas', 'pandas._libs.tslibs.offsets', 'pandas._libs.tslibs.ccalendar', 'pandas._config', 'pandas._config.config', 'pandas._config.dates', 'pandas._config.display', 'pandas._config.localization', 'pandas._libs.tslibs.strptime', 'pandas._libs.tslibs.fields', 'pandas._libs.tslibs.parsing', 'pandas._libs.tslibs.frequencies', 'pandas._libs.tslibs.period', 'pandas._libs.tslibs.timestamps', 'pandas._libs.tslibs.resolution', 'pandas._libs.hashtable', 'pandas._libs.lib', 'pandas._libs.tslib', 'pandas.core', 'pandas.core.config_init', 'pandas.core.api', 'pandas.core.dtypes', 'pandas.core.dtypes.dtypes', 'pandas._libs.interval', 'pandas._libs.algos', 'pandas._typing', 'pandas.core.dtypes.base', 'pandas.errors', 'pandas.core.dtypes.generic', 'pandas.core.dtypes.inference', 'pandas.core.dtypes.missing', 'pandas.core.dtypes.common', 'pandas.core.algorithms', 'pandas.util', 'pandas.util._decorators', 'pandas._libs.properties', 'pandas.core.util', 'pandas.core.util.hashing', 'pandas._libs.hashing', 'pandas.core.dtypes.cast', 'pandas.util._validators', 'pandas.core.common', 'pandas.core.construction', 'pandas.core.indexers', 'pandas.core.arrays', 'pandas.core.arrays.base', 'pandas.compat.numpy.function', 'pandas.core.ops', 'pandas.core.ops.array_ops', 'pandas._libs.ops', 'pandas.core.ops.missing', 'pandas.core.ops.roperator', 'pandas.core.ops.dispatch', 'pandas.core.ops.invalid', 'pandas.core.ops.common', 'pandas.core.ops.docstrings', 'pandas.core.ops.mask_ops', 'pandas.core.ops.methods', 'pandas.core.missing', 'pandas.compat._optional', 'pandas.core.sorting', 'pandas.core.arrays.boolean', 'pandas.core.nanops', 'bottleneck', 'bottleneck.reduce', 'bottleneck.nonreduce', 'bottleneck.nonreduce_axis', 'bottleneck.move', 'bottleneck.slow', 'bottleneck.slow.reduce', 'bottleneck.slow.nonreduce', 'bottleneck.slow.nonreduce_axis', 'bottleneck.slow.move', 'bottleneck.version', 'bottleneck.benchmark', 'bottleneck.benchmark.bench', 'bottleneck.benchmark.autotimeit', 'bottleneck.benchmark.bench_detailed', 'bottleneck.tests', 'bottleneck.tests.util', 'pandas.core.arrays.masked', 'pandas.core.arrays.categorical', 'pandas.core.accessor', 'pandas.core.base', 'pandas.io', 'pandas.io.formats', 'pandas.io.formats.console', 'pandas.core.arrays.datetimes', 'pandas.core.arrays.datetimelike', 'pandas.tseries', 'pandas.tseries.frequencies', 'pandas.tseries.offsets', 'dateutil.easter', 'pandas.core.arrays._ranges', 'pandas.core.arrays.integer', 'pandas.core.tools', 'pandas.core.tools.numeric', 'pandas.core.arrays.interval', 'pandas.core.indexes', 'pandas.core.indexes.base', 'pandas._libs.index', 'pandas._libs.join', 'pandas.core.dtypes.concat', 'pandas.core.indexes.frozen', 'pandas.io.formats.printing', 'pandas.core.strings', 'pandas.core.arrays.numpy_', 'pandas.core.arrays.period', 'pandas.core.arrays.sparse', 'pandas.core.arrays.sparse.accessor', 'pandas.core.arrays.sparse.array', 'pandas._libs.sparse', 'pandas.core.arrays.sparse.dtype', 'pandas.core.arrays.string_', 'pandas.core.arrays.timedeltas', 'pandas.core.groupby', 'pandas.core.groupby.generic', 'pandas.core.frame', 'pandas.core.generic', 'pandas.core.indexes.api', 'pandas.core.indexes.category', 'pandas.core.indexes.extension', 'pandas.core.indexes.datetimes', 'pandas.core.indexes.datetimelike', 'pandas.core.indexes.numeric', 'pandas.core.tools.timedeltas', 'pandas.core.tools.datetimes', 'pandas.arrays', 'pandas.core.indexes.interval', 'pandas.util._exceptions', 'pandas.core.indexes.multi', 'pandas.core.indexes.timedeltas', 'pandas.core.indexes.period', 'pandas.core.indexes.range', 'pandas.core.indexing', 'pandas._libs.indexing', 'pandas.core.internals', 'pandas.core.internals.blocks', 'pandas._libs.writers', 'pandas._libs.internals', 'pandas.core.internals.managers', 'pandas.core.internals.concat', 'pandas.io.formats.format', 'pandas.io.common', 'mmap', 'pandas.core.internals.construction', 'pandas.core.series', 'pandas._libs.reshape', 'pandas.core.indexes.accessors', 'pandas.plotting', 'pandas.plotting._core', 'pandas.plotting._misc', 'pandas.core.window', 'pandas.core.window.ewm', 'pandas._libs.window', 'pandas._libs.window.aggregations', 'pandas.core.window.common', 'pandas.core.groupby.base', 'pandas.core.window.rolling', 'pandas.core.window.indexers', 'pandas._libs.window.indexers', 'pandas.core.window.numba_', 'pandas.core.window.expanding', 'pandas.core.groupby.groupby', 'pandas._libs.groupby', 'pandas.core.groupby.ops', 'pandas._libs.reduction', 'pandas.core.groupby.grouper', 'pandas.core.groupby.categorical', 'pandas.tseries.api', 'pandas.core.computation', 'pandas.core.computation.api', 'pandas.core.computation.eval', 'pandas.core.computation.engines', 'pandas.core.computation.align', 'pandas.core.computation.common', 'pandas.core.computation.ops', 'pandas.core.computation.scope', 'pandas.compat.chainmap', 'pandas.core.computation.expr', 'pandas.core.computation.parsing', 'pandas.core.reshape', 'pandas.core.reshape.api', 'pandas.core.reshape.concat', 'pandas.core.reshape.melt', 'pandas.core.reshape.merge', 'pandas.core.reshape.pivot', 'pandas.core.reshape.util', 'pandas.core.reshape.reshape', 'pandas.core.reshape.tile', 'pandas.api', 'pandas.api.extensions', 'pandas.api.indexers', 'pandas.api.types', 'pandas.core.dtypes.api', 'pandas.util._print_versions', 'pandas.io.api', 'pandas.io.clipboards', 'pandas.io.excel', 'pandas.io.excel._base', 'pandas._libs.parsers', 'pandas.io.excel._util', 'pandas.io.parsers', 'pandas.io.date_converters', 'pandas.io.excel._odfreader', 'pandas.io.excel._openpyxl', 'pandas.io.excel._xlrd', 'pandas.io.excel._pyxlsb', 'pandas.io.excel._xlsxwriter', 'pandas._libs.json', 'pandas.io.excel._xlwt', 'pandas.io.feather_format', 'pandas.io.gbq', 'pandas.io.html', 'pandas.io.json', 'pandas.io.json._json', 'pandas.io.json._normalize', 'pandas.io.json._table_schema', 'pandas.io.orc', 'pandas.io.parquet', 'pandas.io.pickle', 'pandas.compat.pickle_compat', 'pandas.io.pytables', 'pandas.core.computation.pytables', 'pandas.io.sas', 'pandas.io.sas.sasreader', 'pandas.io.spss', 'pandas.io.sql', 'pandas.io.stata', 'pandas.util._tester', 'pandas.testing', 'pandas._testing', 'pandas._libs.testing', 'pandas._version', 'sklearn', 'sklearn._config', 'sklearn.__check_build', 'sklearn.__check_build._check_build', 'sklearn.base', 'sklearn.utils', 'scipy', 'scipy._distributor_init', 'scipy.__config__', 'scipy.version', 'scipy._lib', 'scipy._lib._testutils', 'scipy._lib._version', 'scipy._lib.six', 'scipy._lib._ccallback', 'scipy._lib._ccallback_c', 'scipy.sparse', 'scipy.sparse.base', 'scipy._lib._numpy_compat', 'scipy.sparse.sputils', 'scipy.sparse.csr', 'scipy.sparse._sparsetools', 'scipy.sparse.compressed', 'scipy._lib._util', 'scipy.sparse.data', 'scipy.sparse.dia', 'scipy.sparse._index', 'scipy.sparse.csc', 'scipy.sparse.lil', 'scipy.sparse._csparsetools', 'scipy.sparse.dok', 'scipy.sparse.coo', 'scipy.sparse.bsr', 'scipy.sparse.construct', 'scipy.sparse.extract', 'scipy.sparse._matrix_io', 'scipy.sparse.csgraph', 'scipy.sparse.csgraph._laplacian', 'scipy.sparse.csgraph._shortest_path', '_cython_0_29_12', 'scipy.sparse.csgraph._validation', 'scipy.sparse.csgraph._tools', 'scipy.sparse.csgraph._traversal', 'scipy.sparse.csgraph._min_spanning_tree', 'scipy.sparse.csgraph._reordering', 'sklearn.utils.murmurhash', 'sklearn.utils.class_weight', 'sklearn.utils._joblib', 'joblib', 'joblib.memory', 'joblib.hashing', 'joblib._compat', 'joblib.func_inspect', 'joblib.logger', 'joblib.disk', 'joblib._memory_helpers', 'joblib._store_backends', 'joblib.backports', 'joblib.numpy_pickle', 'joblib.compressor', 'joblib.numpy_pickle_utils', 'joblib.numpy_pickle_compat', 'joblib.parallel', 'joblib._multiprocessing_helpers', 'multiprocessing.synchronize', '_multiprocessing', 'multiprocessing.util', 'joblib.format_stack', 'joblib.my_exceptions', 'joblib._parallel_backends', 'joblib.pool', 'joblib._memmapping_reducer', 'multiprocessing.pool', 'joblib.executor', 'joblib.externals', 'joblib.externals.loky', 'joblib.externals.loky._base', 'joblib.externals.loky.backend', 'joblib.externals.loky.backend.context', 'joblib.externals.loky.backend.process', 'joblib.externals.loky.backend.compat', 'joblib.externals.loky.backend.compat_win32', 'multiprocessing.popen_spawn_win32', 'multiprocessing.spawn', 'multiprocessing.connection', 'joblib.externals.loky.backend.reduction', 'joblib.externals.loky.backend._win_reduction', 'joblib.externals.cloudpickle', 'joblib.externals.cloudpickle.cloudpickle', 'joblib.externals.loky.reusable_executor', 'joblib.externals.loky.process_executor', 'joblib.externals.loky.backend.queues', 'multiprocessing.queues', 'joblib.externals.loky.backend.utils', 'psutil', 'psutil._common', 'psutil._compat', 'psutil._pswindows', 'psutil._psutil_windows', 'concurrent.futures.process', 'joblib.externals.loky.cloudpickle_wrapper', 'sklearn.exceptions', 'sklearn.utils.deprecation', 'sklearn.utils.validation', 'sklearn.utils.fixes', 'scipy.sparse.linalg', 'scipy.sparse.linalg.isolve', 'scipy.sparse.linalg.isolve.iterative', 'scipy.sparse.linalg.isolve._iterative', 'scipy.sparse.linalg.interface', 'scipy.sparse.linalg.isolve.utils', 'scipy._lib._threadsafety', 'scipy._lib.decorator', 'scipy.sparse.linalg.isolve.minres', 'scipy.sparse.linalg.isolve.lgmres', 'scipy.linalg', 'scipy.linalg.linalg_version', 'scipy.linalg.misc', 'scipy.linalg.blas', 'scipy.linalg._fblas', 'scipy.linalg.lapack', 'scipy.linalg._flapack', 'scipy.linalg.basic', 'scipy.linalg.flinalg', 'scipy.linalg._flinalg', 'scipy.linalg.decomp', 'scipy.linalg.decomp_svd', 'scipy.linalg._solve_toeplitz', 'scipy.linalg.decomp_lu', 'scipy.linalg._decomp_ldl', 'scipy.linalg.decomp_cholesky', 'scipy.linalg.decomp_qr', 'scipy.linalg._decomp_qz', 'scipy.linalg.decomp_schur', 'scipy.linalg._decomp_polar', 'scipy.linalg.matfuncs', 'scipy.linalg.special_matrices', 'scipy.linalg._expm_frechet', 'scipy.linalg._matfuncs_sqrtm', 'scipy.linalg._solvers', 'scipy.linalg._procrustes', 'scipy.linalg._decomp_update', 'scipy.linalg.cython_blas', 'scipy.linalg.cython_lapack', 'scipy.linalg._sketches', 'numpy.dual', 'scipy.sparse.linalg.isolve._gcrotmk', 'scipy.sparse.linalg.isolve.lsqr', 'scipy.sparse.linalg.isolve.lsmr', 'scipy.sparse.linalg.dsolve', 'scipy.sparse.linalg.dsolve.linsolve', 'scipy.sparse.linalg.dsolve._superlu', 'scipy.sparse.linalg.dsolve._add_newdocs', 'scipy.sparse.linalg.eigen', 'scipy.sparse.linalg.eigen.arpack', 'scipy.sparse.linalg.eigen.arpack.arpack', 'scipy.sparse.linalg.eigen.arpack._arpack', 'scipy.sparse.linalg.eigen.lobpcg', 'scipy.sparse.linalg.eigen.lobpcg.lobpcg', 'scipy.sparse.linalg.matfuncs', 'scipy.special', 'scipy.special.sf_error', 'scipy.special._ufuncs', 'scipy.special._ufuncs_cxx', 'scipy.special.basic', 'scipy.special.specfun', 'scipy.special.orthogonal', 'scipy.special._comb', 'scipy.special._logsumexp', 'scipy.special.spfun_stats', 'scipy.special._ellip_harm', 'scipy.special._ellip_harm_2', 'scipy.special.lambertw', 'scipy.special._spherical_bessel', 'scipy.sparse.linalg._onenormest', 'scipy.sparse.linalg._norm', 'scipy.sparse.linalg._expm_multiply', 'sklearn.externals', 'sklearn.externals._scipy_linalg', 'sklearn.utils._show_versions', 'sklearn.feature_extraction', 'sklearn.feature_extraction.dict_vectorizer', 'sklearn.feature_extraction.hashing', 'sklearn.feature_extraction._hashing', 'sklearn.feature_extraction.image', 'sklearn.feature_extraction.text', 'sklearn.preprocessing', 'sklearn.preprocessing._function_transformer', 'sklearn.utils.testing', 'scipy.io', 'scipy.io.matlab', 'scipy.io.matlab.mio', 'scipy.io.matlab.miobase', 'scipy._lib.doccer', 'scipy.io.matlab.byteordercodes', 'scipy.io.matlab.mio4', 'scipy.io.matlab.mio_utils', 'scipy.io.matlab.mio5', 'scipy.io.matlab.mio5_utils', 'scipy.io.matlab.streams', 'scipy.io.matlab.mio5_params', 'scipy.io.netcdf', 'scipy.io._fortran', 'scipy.io.mmio', 'scipy.io.idl', 'scipy.io.harwell_boeing', 'scipy.io.harwell_boeing.hb', 'scipy.io.harwell_boeing._fortran_format_parser', 'sklearn.utils._unittest_backport', 'nose', 'nose.core', 'nose.config', 'optparse', 'nose.util', 'nose.pyversion', 'nose.plugins', 'nose.plugins.base', 'nose.plugins.manager', 'nose.failure', 'nose.plugins.plugintest', 'nose.loader', 'nose.case', 'nose.importer', 'nose.selector', 'nose.suite', 'nose.proxy', 'nose.result', 'nose.exc', 'nose.plugins.skip', 'nose.plugins.errorclass', 'nose.plugins.deprecated', 'nose.tools', 'nose.tools.nontrivial', 'nose.tools.trivial', 'pytest', '_pytest', '_pytest._version', '_pytest.assertion', '_pytest.assertion.rewrite', 'atomicwrites', '_pytest._io', '_pytest._io.saferepr', '_pytest.assertion.util', '_pytest._code', '_pytest._code.code', 'pluggy', 'pluggy._version', 'pluggy.manager', 'pluggy._tracing', 'pluggy.callers', 'pluggy.hooks', 'py', 'py._error', 'py.error', 'py._vendored_packages', 'py._vendored_packages.apipkg', 'py._version', 'py.test', 'py.process', 'py.apipkg', 'py.iniconfig', 'py.path', 'py.code', 'py.builtin', 'py.io', 'py.xml', 'py.log', 'py._path', 'py._path.local', 'py._path.common', '_pytest._code.source', '_pytest.outcomes', 'packaging', 'packaging.__about__', 'packaging.version', 'packaging._structures', '_pytest.compat', '_pytest.pathlib', '_pytest.warning_types', '_pytest.assertion.truncate', '_pytest.config', '_pytest.deprecated', '_pytest.hookspec', '_pytest.config.exceptions', '_pytest.config.findpaths', '_pytest.debugging', 'doctest', '_pytest.fixtures', '_pytest.nodes', '_pytest.mark', '_pytest.mark.legacy', '_pytest.mark.structures', '_pytest.freeze_support', '_pytest.main', '_pytest.runner', '_pytest.reports', '_pytest.python', '_pytest.python_api', '_pytest.recwarn', 'sklearn.preprocessing.data', 'scipy.stats', 'scipy.stats.stats', 'scipy.stats.distributions', 'scipy.stats._distn_infrastructure', 'scipy.stats._distr_params', 'scipy.optimize', 'scipy.optimize.optimize', 'scipy.optimize.linesearch', 'scipy.optimize.minpack2', 'scipy.optimize._minimize', 'scipy.optimize._trustregion_dogleg', 'scipy.optimize._trustregion', 'scipy.optimize._trustregion_ncg', 'scipy.optimize._trustregion_krylov', 'scipy.optimize._trlib', 'scipy.optimize._trlib._trlib', 'scipy._lib.messagestream', 'scipy.optimize._trustregion_exact', 'scipy.optimize._trustregion_constr', 'scipy.optimize._trustregion_constr.minimize_trustregion_constr', 'scipy.optimize._differentiable_functions', 'scipy.optimize._numdiff', 'scipy.optimize._group_columns', 'scipy.optimize._hessian_update_strategy', 'scipy.optimize._constraints', 'scipy.optimize._trustregion_constr.equality_constrained_sqp', 'scipy.optimize._trustregion_constr.projections', 'scipy.optimize._trustregion_constr.qp_subproblem', 'scipy.optimize._trustregion_constr.canonical_constraint', 'scipy.optimize._trustregion_constr.tr_interior_point', 'scipy.optimize._trustregion_constr.report', 'scipy.optimize.lbfgsb', 'scipy.optimize._lbfgsb', 'scipy.optimize.tnc', 'scipy.optimize.moduleTNC', 'scipy.optimize.cobyla', 'scipy.optimize._cobyla', 'scipy.optimize.slsqp', 'scipy.optimize._slsqp', 'scipy.optimize._root', 'scipy.optimize.minpack', 'scipy.optimize._minpack', 'scipy.optimize._lsq', 'scipy.optimize._lsq.least_squares', 'scipy.optimize._lsq.trf', 'scipy.optimize._lsq.common', 'scipy.optimize._lsq.dogbox', 'scipy.optimize._lsq.lsq_linear', 'scipy.optimize._lsq.trf_linear', 'scipy.optimize._lsq.givens_elimination', 'scipy.optimize._lsq.bvls', 'scipy.optimize._spectral', 'scipy.optimize.nonlin', 'scipy.optimize._root_scalar', 'scipy.optimize.zeros', 'scipy.optimize._zeros', 'scipy.optimize.nnls', 'scipy.optimize._nnls', 'scipy.optimize._basinhopping', 'scipy.optimize._linprog', 'scipy.optimize._linprog_ip', 'scipy.optimize._linprog_util', 'scipy.optimize._remove_redundancy', 'scipy.optimize._linprog_simplex', 'scipy.optimize._linprog_rs', 'scipy.optimize._bglu_dense', 'scipy.optimize._hungarian', 'scipy.optimize._differentialevolution', 'scipy.optimize._shgo', 'scipy.spatial', 'scipy.spatial.kdtree', 'scipy.spatial.ckdtree', 'scipy.spatial.qhull', 'scipy.spatial._spherical_voronoi', 'scipy.spatial._voronoi', 'scipy.spatial.distance', 'scipy.spatial._distance_wrap', 'scipy.spatial._hausdorff', 'scipy.spatial._plotutils', 'scipy.spatial._procrustes', 'scipy.spatial.transform', 'scipy.spatial.transform.rotation', 'scipy.spatial.transform._rotation_spline', 'scipy.optimize._shgo_lib', 'scipy.optimize._shgo_lib.sobol_seq', 'scipy.optimize._shgo_lib.triangulation', 'scipy.optimize._dual_annealing', 'scipy.integrate', 'scipy.integrate.quadrature', 'scipy.integrate.odepack', 'scipy.integrate._odepack', 'scipy.integrate.quadpack', 'scipy.integrate._quadpack', 'scipy.integrate._ode', 'scipy.integrate.vode', 'scipy.integrate._dop', 'scipy.integrate.lsoda', 'scipy.integrate._bvp', 'scipy.integrate._ivp', 'scipy.integrate._ivp.ivp', 'scipy.integrate._ivp.bdf', 'scipy.integrate._ivp.common', 'scipy.integrate._ivp.base', 'scipy.integrate._ivp.radau', 'scipy.integrate._ivp.rk', 'scipy.integrate._ivp.lsoda', 'scipy.misc', 'scipy.misc.doccer', 'scipy.misc.common', 'scipy.stats._constants', 'scipy.stats._continuous_distns', 'scipy.interpolate', 'scipy.interpolate.interpolate', 'scipy.interpolate.fitpack', 'scipy.interpolate._fitpack_impl', 'scipy.interpolate._fitpack', 'scipy.interpolate.dfitpack', 'scipy.interpolate._bsplines', 'scipy.interpolate._bspl', 'scipy.interpolate.polyint', 'scipy.interpolate._ppoly', 'scipy.interpolate.fitpack2', 'scipy.interpolate.interpnd', 'scipy.interpolate.rbf', 'scipy.interpolate._cubic', 'scipy.interpolate.ndgriddata', 'scipy.interpolate._pade', 'scipy.stats._stats', 'scipy.stats._tukeylambda_stats', 'scipy.stats._discrete_distns', 'scipy.stats.mstats_basic', 'scipy.stats._stats_mstats_common', 'scipy.stats._rvs_sampling', 'scipy.stats._hypotests', 'scipy.stats.morestats', 'scipy.stats.statlib', 'scipy.stats.contingency', 'scipy.stats._binned_statistic', 'scipy.stats.kde', 'scipy.stats.mvn', 'scipy.stats.mstats', 'scipy.stats.mstats_extras', 'scipy.stats._multivariate', 'sklearn.utils.extmath', 'sklearn.utils._logistic_sigmoid', 'sklearn.utils.sparsefuncs_fast', 'sklearn.utils.sparsefuncs', 'sklearn.preprocessing._csr_polynomial_expansion', 'sklearn.preprocessing._encoders', 'sklearn.preprocessing.base', 'sklearn.preprocessing.label', 'sklearn.utils.multiclass', 'sklearn.preprocessing._discretization', 'sklearn.preprocessing.imputation', 'sklearn.feature_extraction.stop_words', 'sklearn.pipeline', 'sklearn.utils.metaestimators', 'spacy.lang.fr', 'spacy.lang.fr.tokenizer_exceptions', 'spacy.lang.fr.punctuation', 'spacy.lang.fr.tag_map', 'spacy.lang.fr.stop_words', 'spacy.lang.fr.lex_attrs', 'spacy.lang.fr.lemmatizer', 'spacy.lang.fr.syntax_iterators', 'sklearn.model_selection', 'sklearn.model_selection._split', 'sklearn.model_selection._validation', 'sklearn.metrics', 'sklearn.metrics.ranking', 'sklearn.metrics.base', 'sklearn.metrics.classification', 'sklearn.metrics.cluster', 'sklearn.metrics.cluster.supervised', 'sklearn.metrics.cluster.expected_mutual_info_fast', 'sklearn.utils.lgamma', 'sklearn.metrics.cluster.unsupervised', 'sklearn.metrics.pairwise', 'sklearn.metrics.pairwise_fast', 'sklearn.utils._cython_blas', 'sklearn.metrics.cluster.bicluster', 'sklearn.metrics.regression', 'sklearn.metrics.scorer', 'sklearn.model_selection._search', 'sklearn.utils.random', 'sklearn.utils._random', 'sklearn.linear_model', 'sklearn.linear_model.base', 'sklearn.utils.seq_dataset', 'sklearn.linear_model.bayes', 'sklearn.linear_model.least_angle', 'sklearn.utils.arrayfuncs', 'sklearn.linear_model.coordinate_descent', 'sklearn.linear_model.cd_fast', 'sklearn.linear_model.huber', 'sklearn.linear_model.sgd_fast', 'sklearn.utils.weight_vector', 'sklearn.linear_model.stochastic_gradient', 'sklearn.linear_model.ridge', 'sklearn.linear_model.sag', 'sklearn.linear_model.sag_fast', 'sklearn.linear_model.logistic', 'sklearn.svm', 'sklearn.svm.classes', 'sklearn.svm.base', 'sklearn.svm.libsvm', 'sklearn.svm.liblinear', 'sklearn.svm.libsvm_sparse', 'sklearn.svm.bounds', 'sklearn.utils.optimize', 'sklearn.linear_model.omp', 'sklearn.linear_model.passive_aggressive', 'sklearn.linear_model.perceptron', 'sklearn.linear_model.ransac', 'sklearn.linear_model.theil_sen', 'sklearn.utils._pprint', 'pygments.styles.default', 'pandas.io.formats.html', 'spacy_lefff', 'spacy_lefff.lefff', 'spacy_lefff.mappings', 'spacy_lefff.melt_tagger', 'spacy_lefff.downloader', 'jedi.evaluate.star_args', 'netrc', 'encodings.charmap', 'fr_core_news_md', 'sklearn.manifold', 'sklearn.manifold.locally_linear', 'sklearn.neighbors', 'sklearn.neighbors.ball_tree', 'sklearn.neighbors.dist_metrics', 'sklearn.neighbors.typedefs', 'sklearn.neighbors.kd_tree', 'sklearn.neighbors.graph', 'sklearn.neighbors.base', 'sklearn.neighbors.unsupervised', 'sklearn.neighbors.classification', 'sklearn.neighbors.regression', 'sklearn.neighbors.nearest_centroid', 'sklearn.neighbors.kde', 'sklearn.neighbors.lof', 'sklearn.neighbors.nca', 'sklearn.decomposition', 'sklearn.decomposition.nmf', 'sklearn.decomposition.cdnmf_fast', 'sklearn.decomposition.pca', 'sklearn.decomposition.base', 'sklearn.decomposition.incremental_pca', 'sklearn.decomposition.kernel_pca', 'sklearn.decomposition.sparse_pca', 'sklearn.decomposition.dict_learning', 'sklearn.decomposition.truncated_svd', 'sklearn.decomposition.fastica_', 'sklearn.decomposition.factor_analysis', 'sklearn.decomposition.online_lda', 'sklearn.decomposition._online_lda', 'sklearn.manifold.isomap', 'sklearn.utils.graph', 'sklearn.utils.graph_shortest_path', 'sklearn.manifold.mds', 'sklearn.isotonic', 'sklearn._isotonic', 'sklearn.manifold.spectral_embedding_', 'sklearn.manifold.t_sne', 'sklearn.manifold._utils', 'sklearn.manifold._barnes_hut_tsne', 'sklearn.neighbors.quad_tree', 'sklearn.tree', 'sklearn.tree.tree', 'sklearn.tree._criterion', 'sklearn.tree._splitter', 'sklearn.tree._tree', 'sklearn.tree._utils', 'sklearn.tree.export', 'sklearn.tree._reingold_tilford', 'matplotlib', 'matplotlib.cbook', 'matplotlib.cbook.deprecation', 'matplotlib.rcsetup', 'matplotlib.fontconfig_pattern', 'pyparsing', 'matplotlib.colors', 'matplotlib._color_data', 'cycler', 'matplotlib._version', 'matplotlib.ft2font', 'kiwisolver']\n"
     ]
    },
    {
     "name": "stdout",
     "output_type": "stream",
     "text": [
      "2020-07-01 10:42:39,795 - matplotlib - DEBUG - CACHEDIR=C:\\Users\\Datalyo-38\\.matplotlib\n",
      "2020-07-01 10:42:39,808 - matplotlib.font_manager - DEBUG - Using fontManager instance from C:\\Users\\Datalyo-38\\.matplotlib\\fontlist-v310.json\n",
      "2020-07-01 10:42:40,183 - matplotlib.pyplot - DEBUG - Loaded backend module://ipykernel.pylab.backend_inline version unknown.\n",
      "[t-SNE] Computing 22 nearest neighbors...\n",
      "[t-SNE] Indexed 335 samples in 0.016s...\n"
     ]
    },
    {
     "name": "stderr",
     "output_type": "stream",
     "text": [
      "C:\\Users\\Datalyo-38\\Anaconda3\\lib\\site-packages\\statsmodels\\tools\\_testing.py:19: FutureWarning: pandas.util.testing is deprecated. Use the functions in the public API at pandas.testing instead.\n",
      "  import pandas.util.testing as tm\n"
     ]
    },
    {
     "name": "stdout",
     "output_type": "stream",
     "text": [
      "[t-SNE] Computed neighbors for 335 samples in 0.475s...\n",
      "[t-SNE] Computed conditional probabilities for sample 335 / 335\n",
      "[t-SNE] Mean sigma: 0.185575\n",
      "[t-SNE] KL divergence after 250 iterations with early exaggeration: 89.091858\n",
      "[t-SNE] KL divergence after 1000 iterations: 1.914661\n",
      "2020-07-01 10:42:42,154 - matplotlib.pyplot - DEBUG - Loaded backend module://ipykernel.pylab.backend_inline version unknown.\n"
     ]
    }
   ],
   "source": [
    "# t-SNE sur les données\n",
    "from sklearn.manifold import TSNE\n",
    "import matplotlib.pyplot as plt\n",
    "import seaborn as sns\n",
    "\n",
    "tsne = TSNE(n_components=2, init = 'random', verbose=1, perplexity=7, n_iter=1000)\n",
    "tsne_results = tsne.fit_transform(df_tfidf.drop(['label_3'], axis=1))"
   ]
  },
  {
   "cell_type": "code",
   "execution_count": 170,
   "metadata": {
    "scrolled": true
   },
   "outputs": [
    {
     "data": {
      "text/plain": [
       "<matplotlib.axes._subplots.AxesSubplot at 0x22e2d711748>"
      ]
     },
     "execution_count": 170,
     "metadata": {},
     "output_type": "execute_result"
    },
    {
     "name": "stdout",
     "output_type": "stream",
     "text": [
      "2020-07-01 10:42:42,237 - matplotlib.font_manager - DEBUG - findfont: Matching :family=sans-serif:style=normal:variant=normal:weight=normal:stretch=normal:size=10.0.\n",
      "2020-07-01 10:42:42,237 - matplotlib.font_manager - DEBUG - findfont: score(<Font 'STIXNonUnicode' (STIXNonUniBol.ttf) normal normal bold normal>) = 10.335\n",
      "2020-07-01 10:42:42,237 - matplotlib.font_manager - DEBUG - findfont: score(<Font 'STIXGeneral' (STIXGeneral.ttf) normal normal regular normal>) = 10.05\n",
      "2020-07-01 10:42:42,237 - matplotlib.font_manager - DEBUG - findfont: score(<Font 'STIXSizeTwoSym' (STIXSizTwoSymReg.ttf) normal normal regular normal>) = 10.05\n",
      "2020-07-01 10:42:42,237 - matplotlib.font_manager - DEBUG - findfont: score(<Font 'STIXSizeOneSym' (STIXSizOneSymReg.ttf) normal normal regular normal>) = 10.05\n",
      "2020-07-01 10:42:42,243 - matplotlib.font_manager - DEBUG - findfont: score(<Font 'DejaVu Sans Mono' (DejaVuSansMono-Bold.ttf) normal normal bold normal>) = 10.335\n",
      "2020-07-01 10:42:42,243 - matplotlib.font_manager - DEBUG - findfont: score(<Font 'DejaVu Serif' (DejaVuSerif-Bold.ttf) normal normal bold normal>) = 10.335\n",
      "2020-07-01 10:42:42,244 - matplotlib.font_manager - DEBUG - findfont: score(<Font 'cmsy10' (cmsy10.ttf) normal normal 400 normal>) = 10.05\n",
      "2020-07-01 10:42:42,244 - matplotlib.font_manager - DEBUG - findfont: score(<Font 'STIXSizeFiveSym' (STIXSizFiveSymReg.ttf) normal normal regular normal>) = 10.05\n",
      "2020-07-01 10:42:42,245 - matplotlib.font_manager - DEBUG - findfont: score(<Font 'DejaVu Sans' (DejaVuSans-Oblique.ttf) oblique normal 400 normal>) = 1.05\n",
      "2020-07-01 10:42:42,245 - matplotlib.font_manager - DEBUG - findfont: score(<Font 'DejaVu Serif Display' (DejaVuSerifDisplay.ttf) normal normal 400 normal>) = 10.05\n",
      "2020-07-01 10:42:42,245 - matplotlib.font_manager - DEBUG - findfont: score(<Font 'DejaVu Serif' (DejaVuSerif-BoldItalic.ttf) italic normal bold normal>) = 11.335\n",
      "2020-07-01 10:42:42,246 - matplotlib.font_manager - DEBUG - findfont: score(<Font 'DejaVu Serif' (DejaVuSerif.ttf) normal normal 400 normal>) = 10.05\n",
      "2020-07-01 10:42:42,246 - matplotlib.font_manager - DEBUG - findfont: score(<Font 'cmr10' (cmr10.ttf) normal normal 400 normal>) = 10.05\n",
      "2020-07-01 10:42:42,247 - matplotlib.font_manager - DEBUG - findfont: score(<Font 'STIXGeneral' (STIXGeneralBolIta.ttf) italic normal bold normal>) = 11.335\n",
      "2020-07-01 10:42:42,247 - matplotlib.font_manager - DEBUG - findfont: score(<Font 'DejaVu Serif' (DejaVuSerif-Italic.ttf) italic normal 400 normal>) = 11.05\n",
      "2020-07-01 10:42:42,248 - matplotlib.font_manager - DEBUG - findfont: score(<Font 'STIXGeneral' (STIXGeneralItalic.ttf) italic normal 400 normal>) = 11.05\n",
      "2020-07-01 10:42:42,249 - matplotlib.font_manager - DEBUG - findfont: score(<Font 'DejaVu Sans' (DejaVuSans-BoldOblique.ttf) oblique normal bold normal>) = 1.335\n",
      "2020-07-01 10:42:42,249 - matplotlib.font_manager - DEBUG - findfont: score(<Font 'DejaVu Sans Mono' (DejaVuSansMono-Oblique.ttf) oblique normal 400 normal>) = 11.05\n",
      "2020-07-01 10:42:42,249 - matplotlib.font_manager - DEBUG - findfont: score(<Font 'DejaVu Sans Display' (DejaVuSansDisplay.ttf) normal normal 400 normal>) = 10.05\n",
      "2020-07-01 10:42:42,250 - matplotlib.font_manager - DEBUG - findfont: score(<Font 'DejaVu Sans Mono' (DejaVuSansMono.ttf) normal normal 400 normal>) = 10.05\n",
      "2020-07-01 10:42:42,250 - matplotlib.font_manager - DEBUG - findfont: score(<Font 'STIXSizeFourSym' (STIXSizFourSymBol.ttf) normal normal bold normal>) = 10.335\n",
      "2020-07-01 10:42:42,251 - matplotlib.font_manager - DEBUG - findfont: score(<Font 'DejaVu Sans Mono' (DejaVuSansMono-BoldOblique.ttf) oblique normal bold normal>) = 11.335\n",
      "2020-07-01 10:42:42,251 - matplotlib.font_manager - DEBUG - findfont: score(<Font 'cmmi10' (cmmi10.ttf) normal normal 400 normal>) = 10.05\n",
      "2020-07-01 10:42:42,252 - matplotlib.font_manager - DEBUG - findfont: score(<Font 'cmss10' (cmss10.ttf) normal normal 400 normal>) = 10.05\n",
      "2020-07-01 10:42:42,252 - matplotlib.font_manager - DEBUG - findfont: score(<Font 'STIXGeneral' (STIXGeneralBol.ttf) normal normal bold normal>) = 10.335\n",
      "2020-07-01 10:42:42,253 - matplotlib.font_manager - DEBUG - findfont: score(<Font 'DejaVu Sans' (DejaVuSans-Bold.ttf) normal normal bold normal>) = 0.33499999999999996\n",
      "2020-07-01 10:42:42,253 - matplotlib.font_manager - DEBUG - findfont: score(<Font 'STIXSizeThreeSym' (STIXSizThreeSymBol.ttf) normal normal bold normal>) = 10.335\n",
      "2020-07-01 10:42:42,253 - matplotlib.font_manager - DEBUG - findfont: score(<Font 'cmtt10' (cmtt10.ttf) normal normal 400 normal>) = 10.05\n",
      "2020-07-01 10:42:42,254 - matplotlib.font_manager - DEBUG - findfont: score(<Font 'STIXSizeOneSym' (STIXSizOneSymBol.ttf) normal normal bold normal>) = 10.335\n",
      "2020-07-01 10:42:42,254 - matplotlib.font_manager - DEBUG - findfont: score(<Font 'cmb10' (cmb10.ttf) normal normal 400 normal>) = 10.05\n",
      "2020-07-01 10:42:42,255 - matplotlib.font_manager - DEBUG - findfont: score(<Font 'STIXNonUnicode' (STIXNonUniBolIta.ttf) italic normal bold normal>) = 11.335\n",
      "2020-07-01 10:42:42,255 - matplotlib.font_manager - DEBUG - findfont: score(<Font 'STIXSizeThreeSym' (STIXSizThreeSymReg.ttf) normal normal regular normal>) = 10.05\n",
      "2020-07-01 10:42:42,256 - matplotlib.font_manager - DEBUG - findfont: score(<Font 'STIXNonUnicode' (STIXNonUni.ttf) normal normal regular normal>) = 10.05\n",
      "2020-07-01 10:42:42,256 - matplotlib.font_manager - DEBUG - findfont: score(<Font 'STIXSizeFourSym' (STIXSizFourSymReg.ttf) normal normal regular normal>) = 10.05\n",
      "2020-07-01 10:42:42,257 - matplotlib.font_manager - DEBUG - findfont: score(<Font 'STIXSizeTwoSym' (STIXSizTwoSymBol.ttf) normal normal bold normal>) = 10.335\n",
      "2020-07-01 10:42:42,257 - matplotlib.font_manager - DEBUG - findfont: score(<Font 'STIXNonUnicode' (STIXNonUniIta.ttf) italic normal 400 normal>) = 11.05\n",
      "2020-07-01 10:42:42,258 - matplotlib.font_manager - DEBUG - findfont: score(<Font 'cmex10' (cmex10.ttf) normal normal 400 normal>) = 10.05\n",
      "2020-07-01 10:42:42,259 - matplotlib.font_manager - DEBUG - findfont: score(<Font 'DejaVu Sans' (DejaVuSans.ttf) normal normal 400 normal>) = 0.05\n",
      "2020-07-01 10:42:42,260 - matplotlib.font_manager - DEBUG - findfont: score(<Font 'Microsoft JhengHei' (msjhbd.ttc) normal normal bold normal>) = 10.335\n",
      "2020-07-01 10:42:42,261 - matplotlib.font_manager - DEBUG - findfont: score(<Font 'Palatino Linotype' (palai.ttf) italic normal 400 normal>) = 11.05\n",
      "2020-07-01 10:42:42,262 - matplotlib.font_manager - DEBUG - findfont: score(<Font 'Palatino Linotype' (pala.ttf) normal normal 400 normal>) = 10.05\n",
      "2020-07-01 10:42:42,263 - matplotlib.font_manager - DEBUG - findfont: score(<Font 'Trebuchet MS' (trebucbd.ttf) normal normal bold normal>) = 10.335\n",
      "2020-07-01 10:42:42,264 - matplotlib.font_manager - DEBUG - findfont: score(<Font 'Corbel' (corbeli.ttf) italic normal 400 normal>) = 11.05\n",
      "2020-07-01 10:42:42,265 - matplotlib.font_manager - DEBUG - findfont: score(<Font 'Candara' (Candaraz.ttf) italic normal bold normal>) = 11.335\n",
      "2020-07-01 10:42:42,265 - matplotlib.font_manager - DEBUG - findfont: score(<Font 'Arial' (ariali.ttf) italic normal 400 normal>) = 7.413636363636363\n",
      "2020-07-01 10:42:42,266 - matplotlib.font_manager - DEBUG - findfont: score(<Font 'Calibri' (calibrili.ttf) italic normal light normal>) = 11.24\n",
      "2020-07-01 10:42:42,266 - matplotlib.font_manager - DEBUG - findfont: score(<Font 'Tahoma' (tahoma.ttf) normal normal 400 normal>) = 10.05\n",
      "2020-07-01 10:42:42,267 - matplotlib.font_manager - DEBUG - findfont: score(<Font 'Sitka Small' (SitkaZ.ttc) italic normal bold normal>) = 11.335\n",
      "2020-07-01 10:42:42,267 - matplotlib.font_manager - DEBUG - findfont: score(<Font 'Gadugi' (gadugi.ttf) normal normal 400 normal>) = 10.05\n",
      "2020-07-01 10:42:42,268 - matplotlib.font_manager - DEBUG - findfont: score(<Font 'Segoe Script' (segoescb.ttf) normal normal bold normal>) = 10.335\n",
      "2020-07-01 10:42:42,268 - matplotlib.font_manager - DEBUG - findfont: score(<Font 'Constantia' (constanb.ttf) normal normal bold normal>) = 10.335\n",
      "2020-07-01 10:42:42,269 - matplotlib.font_manager - DEBUG - findfont: score(<Font 'Corbel' (corbelz.ttf) italic normal bold normal>) = 11.335\n",
      "2020-07-01 10:42:42,271 - matplotlib.font_manager - DEBUG - findfont: score(<Font 'Segoe UI' (segoeuii.ttf) italic normal 400 normal>) = 11.05\n"
     ]
    },
    {
     "name": "stdout",
     "output_type": "stream",
     "text": [
      "2020-07-01 10:42:42,272 - matplotlib.font_manager - DEBUG - findfont: score(<Font 'Franklin Gothic Medium' (framd.ttf) normal normal medium normal>) = 10.145\n",
      "2020-07-01 10:42:42,272 - matplotlib.font_manager - DEBUG - findfont: score(<Font 'Lucida Console' (lucon.ttf) normal normal 400 normal>) = 10.05\n",
      "2020-07-01 10:42:42,274 - matplotlib.font_manager - DEBUG - findfont: score(<Font 'Candara' (Candarab.ttf) normal normal bold normal>) = 10.335\n",
      "2020-07-01 10:42:42,274 - matplotlib.font_manager - DEBUG - findfont: score(<Font 'Leelawadee UI' (LeelawUI.ttf) normal normal 400 normal>) = 10.05\n",
      "2020-07-01 10:42:42,275 - matplotlib.font_manager - DEBUG - findfont: score(<Font 'Microsoft Sans Serif' (micross.ttf) normal normal 400 normal>) = 10.05\n",
      "2020-07-01 10:42:42,275 - matplotlib.font_manager - DEBUG - findfont: score(<Font 'MV Boli' (mvboli.ttf) normal normal 400 normal>) = 10.05\n",
      "2020-07-01 10:42:42,275 - matplotlib.font_manager - DEBUG - findfont: score(<Font 'Malgun Gothic' (malgunbd.ttf) normal normal bold normal>) = 10.335\n",
      "2020-07-01 10:42:42,276 - matplotlib.font_manager - DEBUG - findfont: score(<Font 'Nirmala UI' (NirmalaS.ttf) normal normal light normal>) = 10.24\n",
      "2020-07-01 10:42:42,276 - matplotlib.font_manager - DEBUG - findfont: score(<Font 'Microsoft PhagsPa' (phagspab.ttf) normal normal bold normal>) = 10.335\n",
      "2020-07-01 10:42:42,277 - matplotlib.font_manager - DEBUG - findfont: score(<Font 'Segoe UI' (segoeuib.ttf) normal normal bold normal>) = 10.335\n",
      "2020-07-01 10:42:42,277 - matplotlib.font_manager - DEBUG - findfont: score(<Font 'Times New Roman' (timesbd.ttf) normal normal roman normal>) = 10.145\n",
      "2020-07-01 10:42:42,278 - matplotlib.font_manager - DEBUG - findfont: score(<Font 'Microsoft JhengHei' (msjhl.ttc) normal normal light normal>) = 10.24\n",
      "2020-07-01 10:42:42,278 - matplotlib.font_manager - DEBUG - findfont: score(<Font 'Trebuchet MS' (trebuc.ttf) normal normal 400 normal>) = 10.05\n",
      "2020-07-01 10:42:42,278 - matplotlib.font_manager - DEBUG - findfont: score(<Font 'Mongolian Baiti' (monbaiti.ttf) normal normal 400 normal>) = 10.05\n",
      "2020-07-01 10:42:42,279 - matplotlib.font_manager - DEBUG - findfont: score(<Font 'Segoe Print' (segoepr.ttf) normal normal 400 normal>) = 10.05\n",
      "2020-07-01 10:42:42,279 - matplotlib.font_manager - DEBUG - findfont: score(<Font 'Sitka Small' (SitkaB.ttc) normal normal bold normal>) = 10.335\n",
      "2020-07-01 10:42:42,280 - matplotlib.font_manager - DEBUG - findfont: score(<Font 'Microsoft PhagsPa' (phagspa.ttf) normal normal 400 normal>) = 10.05\n",
      "2020-07-01 10:42:42,280 - matplotlib.font_manager - DEBUG - findfont: score(<Font 'Microsoft Yi Baiti' (msyi.ttf) normal normal 400 normal>) = 10.05\n",
      "2020-07-01 10:42:42,280 - matplotlib.font_manager - DEBUG - findfont: score(<Font 'Courier New' (courbi.ttf) italic normal bold normal>) = 11.335\n",
      "2020-07-01 10:42:42,281 - matplotlib.font_manager - DEBUG - findfont: score(<Font 'HoloLens MDL2 Assets' (holomdl2.ttf) normal normal 400 normal>) = 10.05\n",
      "2020-07-01 10:42:42,282 - matplotlib.font_manager - DEBUG - findfont: score(<Font 'Sitka Small' (Sitka.ttc) normal normal 400 normal>) = 10.05\n",
      "2020-07-01 10:42:42,284 - matplotlib.font_manager - DEBUG - findfont: score(<Font 'Yu Gothic' (YuGothL.ttc) normal normal light normal>) = 10.24\n",
      "2020-07-01 10:42:42,285 - matplotlib.font_manager - DEBUG - findfont: score(<Font 'Cambria' (cambriai.ttf) italic normal 400 normal>) = 11.05\n",
      "2020-07-01 10:42:42,285 - matplotlib.font_manager - DEBUG - findfont: score(<Font 'Comic Sans MS' (comicz.ttf) italic normal bold normal>) = 11.335\n",
      "2020-07-01 10:42:42,286 - matplotlib.font_manager - DEBUG - findfont: score(<Font 'Calibri' (calibrii.ttf) italic normal 400 normal>) = 11.05\n",
      "2020-07-01 10:42:42,289 - matplotlib.font_manager - DEBUG - findfont: score(<Font 'Candara' (Candarali.ttf) italic normal light normal>) = 11.24\n",
      "2020-07-01 10:42:42,290 - matplotlib.font_manager - DEBUG - findfont: score(<Font 'Consolas' (consolab.ttf) normal normal bold normal>) = 10.335\n",
      "2020-07-01 10:42:42,290 - matplotlib.font_manager - DEBUG - findfont: score(<Font 'Georgia' (georgiab.ttf) normal normal bold normal>) = 10.335\n",
      "2020-07-01 10:42:42,291 - matplotlib.font_manager - DEBUG - findfont: score(<Font 'Segoe UI Emoji' (seguiemj.ttf) normal normal 400 normal>) = 10.05\n",
      "2020-07-01 10:42:42,291 - matplotlib.font_manager - DEBUG - findfont: score(<Font 'Lucida Sans Unicode' (l_10646.ttf) normal normal 400 normal>) = 10.05\n",
      "2020-07-01 10:42:42,292 - matplotlib.font_manager - DEBUG - findfont: score(<Font 'Arial' (ariblk.ttf) normal normal black normal>) = 6.888636363636364\n",
      "2020-07-01 10:42:42,293 - matplotlib.font_manager - DEBUG - findfont: score(<Font 'Yu Gothic' (YuGothM.ttc) normal normal medium normal>) = 10.145\n",
      "2020-07-01 10:42:42,293 - matplotlib.font_manager - DEBUG - findfont: score(<Font 'Segoe MDL2 Assets' (segmdl2.ttf) normal normal 400 normal>) = 10.05\n",
      "2020-07-01 10:42:42,294 - matplotlib.font_manager - DEBUG - findfont: score(<Font 'MingLiU-ExtB' (mingliub.ttc) normal normal 400 normal>) = 10.05\n",
      "2020-07-01 10:42:42,295 - matplotlib.font_manager - DEBUG - findfont: score(<Font 'Segoe Print' (segoeprb.ttf) normal normal bold normal>) = 10.335\n",
      "2020-07-01 10:42:42,296 - matplotlib.font_manager - DEBUG - findfont: score(<Font 'SimSun' (simsun.ttc) normal normal 400 normal>) = 10.05\n",
      "2020-07-01 10:42:42,296 - matplotlib.font_manager - DEBUG - findfont: score(<Font 'Georgia' (georgiai.ttf) italic normal 400 normal>) = 11.05\n",
      "2020-07-01 10:42:42,296 - matplotlib.font_manager - DEBUG - findfont: score(<Font 'Microsoft YaHei' (msyh.ttc) normal normal 400 normal>) = 10.05\n",
      "2020-07-01 10:42:42,297 - matplotlib.font_manager - DEBUG - findfont: score(<Font 'Malgun Gothic' (malgunsl.ttf) normal normal light normal>) = 10.24\n",
      "2020-07-01 10:42:42,297 - matplotlib.font_manager - DEBUG - findfont: score(<Font 'Segoe UI' (seguisli.ttf) italic normal light normal>) = 11.24\n",
      "2020-07-01 10:42:42,298 - matplotlib.font_manager - DEBUG - findfont: score(<Font 'MS Gothic' (msgothic.ttc) normal normal 400 normal>) = 10.05\n",
      "2020-07-01 10:42:42,298 - matplotlib.font_manager - DEBUG - findfont: score(<Font 'Microsoft New Tai Lue' (ntailub.ttf) normal normal bold normal>) = 10.335\n",
      "2020-07-01 10:42:42,299 - matplotlib.font_manager - DEBUG - findfont: score(<Font 'Cambria' (cambria.ttc) normal normal 400 normal>) = 10.05\n",
      "2020-07-01 10:42:42,299 - matplotlib.font_manager - DEBUG - findfont: score(<Font 'Gadugi' (gadugib.ttf) normal normal bold normal>) = 10.335\n",
      "2020-07-01 10:42:42,300 - matplotlib.font_manager - DEBUG - findfont: score(<Font 'Consolas' (consolai.ttf) italic normal 400 normal>) = 11.05\n",
      "2020-07-01 10:42:42,300 - matplotlib.font_manager - DEBUG - findfont: score(<Font 'Courier New' (courbd.ttf) normal normal bold normal>) = 10.335\n",
      "2020-07-01 10:42:42,304 - matplotlib.font_manager - DEBUG - findfont: score(<Font 'Comic Sans MS' (comici.ttf) italic normal 400 normal>) = 11.05\n",
      "2020-07-01 10:42:42,305 - matplotlib.font_manager - DEBUG - findfont: score(<Font 'Microsoft Himalaya' (himalaya.ttf) normal normal 400 normal>) = 10.05\n",
      "2020-07-01 10:42:42,305 - matplotlib.font_manager - DEBUG - findfont: score(<Font 'Verdana' (verdanaz.ttf) italic normal bold normal>) = 4.971363636363637\n",
      "2020-07-01 10:42:42,306 - matplotlib.font_manager - DEBUG - findfont: score(<Font 'Calibri' (calibri.ttf) normal normal 400 normal>) = 10.05\n",
      "2020-07-01 10:42:42,306 - matplotlib.font_manager - DEBUG - findfont: score(<Font 'Segoe UI' (seguisb.ttf) normal normal semibold normal>) = 10.24\n",
      "2020-07-01 10:42:42,307 - matplotlib.font_manager - DEBUG - findfont: score(<Font 'Symbol' (symbol.ttf) normal normal 400 normal>) = 10.05\n",
      "2020-07-01 10:42:42,307 - matplotlib.font_manager - DEBUG - findfont: score(<Font 'Microsoft Tai Le' (taileb.ttf) normal normal bold normal>) = 10.335\n",
      "2020-07-01 10:42:42,307 - matplotlib.font_manager - DEBUG - findfont: score(<Font 'Calibri' (calibril.ttf) normal normal light normal>) = 10.24\n",
      "2020-07-01 10:42:42,308 - matplotlib.font_manager - DEBUG - findfont: score(<Font 'Yu Gothic' (YuGothR.ttc) normal normal regular normal>) = 10.05\n",
      "2020-07-01 10:42:42,308 - matplotlib.font_manager - DEBUG - findfont: score(<Font 'Segoe UI Historic' (seguihis.ttf) normal normal 400 normal>) = 10.05\n"
     ]
    },
    {
     "name": "stdout",
     "output_type": "stream",
     "text": [
      "2020-07-01 10:42:42,310 - matplotlib.font_manager - DEBUG - findfont: score(<Font 'Segoe UI' (segoeuisl.ttf) normal normal light normal>) = 10.24\n",
      "2020-07-01 10:42:42,311 - matplotlib.font_manager - DEBUG - findfont: score(<Font 'Microsoft New Tai Lue' (ntailu.ttf) normal normal 400 normal>) = 10.05\n",
      "2020-07-01 10:42:42,311 - matplotlib.font_manager - DEBUG - findfont: score(<Font 'Leelawadee UI' (LeelUIsl.ttf) normal normal light normal>) = 10.24\n",
      "2020-07-01 10:42:42,312 - matplotlib.font_manager - DEBUG - findfont: score(<Font 'Constantia' (constani.ttf) italic normal 400 normal>) = 11.05\n",
      "2020-07-01 10:42:42,313 - matplotlib.font_manager - DEBUG - findfont: score(<Font 'Segoe UI' (seguili.ttf) italic normal light normal>) = 11.24\n",
      "2020-07-01 10:42:42,314 - matplotlib.font_manager - DEBUG - findfont: score(<Font 'Comic Sans MS' (comicbd.ttf) normal normal bold normal>) = 10.335\n",
      "2020-07-01 10:42:42,315 - matplotlib.font_manager - DEBUG - findfont: score(<Font 'Impact' (impact.ttf) normal normal 400 normal>) = 10.05\n",
      "2020-07-01 10:42:42,316 - matplotlib.font_manager - DEBUG - findfont: score(<Font 'Myanmar Text' (mmrtext.ttf) normal normal 400 normal>) = 10.05\n",
      "2020-07-01 10:42:42,317 - matplotlib.font_manager - DEBUG - findfont: score(<Font 'Corbel' (corbell.ttf) normal normal light normal>) = 10.24\n",
      "2020-07-01 10:42:42,317 - matplotlib.font_manager - DEBUG - findfont: score(<Font 'Ebrima' (ebrimabd.ttf) normal normal bold normal>) = 10.335\n",
      "2020-07-01 10:42:42,318 - matplotlib.font_manager - DEBUG - findfont: score(<Font 'Yu Gothic' (YuGothB.ttc) normal normal bold normal>) = 10.335\n",
      "2020-07-01 10:42:42,319 - matplotlib.font_manager - DEBUG - findfont: score(<Font 'Sylfaen' (sylfaen.ttf) normal normal 400 normal>) = 10.05\n",
      "2020-07-01 10:42:42,320 - matplotlib.font_manager - DEBUG - findfont: score(<Font 'Times New Roman' (timesi.ttf) italic normal roman normal>) = 11.145\n",
      "2020-07-01 10:42:42,321 - matplotlib.font_manager - DEBUG - findfont: score(<Font 'Trebuchet MS' (trebucbi.ttf) italic normal bold normal>) = 11.335\n",
      "2020-07-01 10:42:42,322 - matplotlib.font_manager - DEBUG - findfont: score(<Font 'Verdana' (verdanab.ttf) normal normal bold normal>) = 3.9713636363636367\n",
      "2020-07-01 10:42:42,322 - matplotlib.font_manager - DEBUG - findfont: score(<Font 'Candara' (Candara.ttf) normal normal 400 normal>) = 10.05\n",
      "2020-07-01 10:42:42,323 - matplotlib.font_manager - DEBUG - findfont: score(<Font 'Corbel' (corbel.ttf) normal normal 400 normal>) = 10.05\n",
      "2020-07-01 10:42:42,324 - matplotlib.font_manager - DEBUG - findfont: score(<Font 'Verdana' (verdanai.ttf) italic normal 400 normal>) = 4.6863636363636365\n",
      "2020-07-01 10:42:42,324 - matplotlib.font_manager - DEBUG - findfont: score(<Font 'Calibri' (calibrib.ttf) normal normal bold normal>) = 10.335\n",
      "2020-07-01 10:42:42,325 - matplotlib.font_manager - DEBUG - findfont: score(<Font 'MecSoft_Font-1' (MecSoft_Font-1.ttf) normal normal 400 normal>) = 10.05\n",
      "2020-07-01 10:42:42,325 - matplotlib.font_manager - DEBUG - findfont: score(<Font 'Arial' (arial.ttf) normal normal 400 normal>) = 6.413636363636363\n",
      "2020-07-01 10:42:42,326 - matplotlib.font_manager - DEBUG - findfont: score(<Font 'Trebuchet MS' (trebucit.ttf) italic normal 400 normal>) = 11.05\n",
      "2020-07-01 10:42:42,326 - matplotlib.font_manager - DEBUG - findfont: score(<Font 'Candara' (Candarai.ttf) italic normal 400 normal>) = 11.05\n",
      "2020-07-01 10:42:42,327 - matplotlib.font_manager - DEBUG - findfont: score(<Font 'Cambria' (cambriab.ttf) normal normal bold normal>) = 10.335\n",
      "2020-07-01 10:42:42,327 - matplotlib.font_manager - DEBUG - findfont: score(<Font 'Times New Roman' (timesbi.ttf) italic normal roman normal>) = 11.145\n",
      "2020-07-01 10:42:42,327 - matplotlib.font_manager - DEBUG - findfont: score(<Font 'Calibri' (calibriz.ttf) italic normal bold normal>) = 11.335\n",
      "2020-07-01 10:42:42,328 - matplotlib.font_manager - DEBUG - findfont: score(<Font 'Candara' (Candaral.ttf) normal normal light normal>) = 10.24\n",
      "2020-07-01 10:42:42,328 - matplotlib.font_manager - DEBUG - findfont: score(<Font 'Verdana' (verdana.ttf) normal normal 400 normal>) = 3.6863636363636365\n",
      "2020-07-01 10:42:42,329 - matplotlib.font_manager - DEBUG - findfont: score(<Font 'Microsoft YaHei' (msyhl.ttc) normal normal light normal>) = 10.24\n",
      "2020-07-01 10:42:42,330 - matplotlib.font_manager - DEBUG - findfont: score(<Font 'Segoe UI' (seguibli.ttf) italic normal black normal>) = 11.525\n",
      "2020-07-01 10:42:42,331 - matplotlib.font_manager - DEBUG - findfont: score(<Font 'Microsoft Tai Le' (taile.ttf) normal normal 400 normal>) = 10.05\n",
      "2020-07-01 10:42:42,331 - matplotlib.font_manager - DEBUG - findfont: score(<Font 'Segoe UI' (seguisbi.ttf) italic normal semibold normal>) = 11.24\n",
      "2020-07-01 10:42:42,332 - matplotlib.font_manager - DEBUG - findfont: score(<Font 'Palatino Linotype' (palabi.ttf) italic normal bold normal>) = 11.335\n",
      "2020-07-01 10:42:42,332 - matplotlib.font_manager - DEBUG - findfont: score(<Font 'Cambria' (cambriaz.ttf) italic normal bold normal>) = 11.335\n",
      "2020-07-01 10:42:42,332 - matplotlib.font_manager - DEBUG - findfont: score(<Font 'Georgia' (georgia.ttf) normal normal 400 normal>) = 10.05\n",
      "2020-07-01 10:42:42,333 - matplotlib.font_manager - DEBUG - findfont: score(<Font 'Sitka Small' (SitkaI.ttc) italic normal 400 normal>) = 11.05\n",
      "2020-07-01 10:42:42,333 - matplotlib.font_manager - DEBUG - findfont: score(<Font 'SimSun-ExtB' (simsunb.ttf) normal normal 400 normal>) = 10.05\n",
      "2020-07-01 10:42:42,334 - matplotlib.font_manager - DEBUG - findfont: score(<Font 'Wingdings' (wingding.ttf) normal normal 400 normal>) = 10.05\n",
      "2020-07-01 10:42:42,334 - matplotlib.font_manager - DEBUG - findfont: score(<Font 'Constantia' (constanz.ttf) italic normal bold normal>) = 11.335\n",
      "2020-07-01 10:42:42,336 - matplotlib.font_manager - DEBUG - findfont: score(<Font 'Times New Roman' (times.ttf) normal normal roman normal>) = 10.145\n",
      "2020-07-01 10:42:42,338 - matplotlib.font_manager - DEBUG - findfont: score(<Font 'Microsoft JhengHei' (msjh.ttc) normal normal 400 normal>) = 10.05\n",
      "2020-07-01 10:42:42,338 - matplotlib.font_manager - DEBUG - findfont: score(<Font 'Myanmar Text' (mmrtextb.ttf) normal normal bold normal>) = 10.335\n",
      "2020-07-01 10:42:42,339 - matplotlib.font_manager - DEBUG - findfont: score(<Font 'Arial' (arialbd.ttf) normal normal bold normal>) = 6.698636363636363\n",
      "2020-07-01 10:42:42,339 - matplotlib.font_manager - DEBUG - findfont: score(<Font 'Constantia' (constan.ttf) normal normal 400 normal>) = 10.05\n",
      "2020-07-01 10:42:42,340 - matplotlib.font_manager - DEBUG - findfont: score(<Font 'Tahoma' (tahomabd.ttf) normal normal bold normal>) = 10.335\n",
      "2020-07-01 10:42:42,340 - matplotlib.font_manager - DEBUG - findfont: score(<Font 'Courier New' (cour.ttf) normal normal 400 normal>) = 10.05\n",
      "2020-07-01 10:42:42,341 - matplotlib.font_manager - DEBUG - findfont: score(<Font 'Segoe UI' (seguibl.ttf) normal normal black normal>) = 10.525\n",
      "2020-07-01 10:42:42,341 - matplotlib.font_manager - DEBUG - findfont: score(<Font 'Segoe UI Symbol' (seguisym.ttf) normal normal 400 normal>) = 10.05\n",
      "2020-07-01 10:42:42,342 - matplotlib.font_manager - DEBUG - findfont: score(<Font 'Courier New' (couri.ttf) italic normal 400 normal>) = 11.05\n",
      "2020-07-01 10:42:42,342 - matplotlib.font_manager - DEBUG - findfont: score(<Font 'Arial' (arialbi.ttf) italic normal bold normal>) = 7.698636363636363\n",
      "2020-07-01 10:42:42,342 - matplotlib.font_manager - DEBUG - findfont: score(<Font 'Segoe UI' (segoeui.ttf) normal normal 400 normal>) = 10.05\n",
      "2020-07-01 10:42:42,343 - matplotlib.font_manager - DEBUG - findfont: score(<Font 'Segoe UI' (segoeuiz.ttf) italic normal bold normal>) = 11.335\n",
      "2020-07-01 10:42:42,343 - matplotlib.font_manager - DEBUG - findfont: score(<Font 'Ink Free' (Inkfree.ttf) normal normal 400 normal>) = 10.05\n",
      "2020-07-01 10:42:42,344 - matplotlib.font_manager - DEBUG - findfont: score(<Font 'ROG Fonts' (ROGFonts-Regular.otf) normal normal 400 normal>) = 10.05\n",
      "2020-07-01 10:42:42,345 - matplotlib.font_manager - DEBUG - findfont: score(<Font 'Comic Sans MS' (comic.ttf) normal normal 400 normal>) = 10.05\n",
      "2020-07-01 10:42:42,345 - matplotlib.font_manager - DEBUG - findfont: score(<Font 'Corbel' (corbelb.ttf) normal normal bold normal>) = 10.335\n"
     ]
    },
    {
     "name": "stdout",
     "output_type": "stream",
     "text": [
      "2020-07-01 10:42:42,346 - matplotlib.font_manager - DEBUG - findfont: score(<Font 'Georgia' (georgiaz.ttf) italic normal bold normal>) = 11.335\n",
      "2020-07-01 10:42:42,346 - matplotlib.font_manager - DEBUG - findfont: score(<Font 'Corbel' (corbelli.ttf) italic normal light normal>) = 11.24\n",
      "2020-07-01 10:42:42,347 - matplotlib.font_manager - DEBUG - findfont: score(<Font 'Nirmala UI' (NirmalaB.ttf) normal normal bold normal>) = 10.335\n",
      "2020-07-01 10:42:42,348 - matplotlib.font_manager - DEBUG - findfont: score(<Font 'Gabriola' (Gabriola.ttf) normal normal 400 normal>) = 10.05\n",
      "2020-07-01 10:42:42,349 - matplotlib.font_manager - DEBUG - findfont: score(<Font 'Palatino Linotype' (palab.ttf) normal normal bold normal>) = 10.335\n",
      "2020-07-01 10:42:42,350 - matplotlib.font_manager - DEBUG - findfont: score(<Font 'Consolas' (consola.ttf) normal normal 400 normal>) = 10.05\n",
      "2020-07-01 10:42:42,351 - matplotlib.font_manager - DEBUG - findfont: score(<Font 'Marlett' (marlett.ttf) normal normal 400 normal>) = 10.05\n",
      "2020-07-01 10:42:42,352 - matplotlib.font_manager - DEBUG - findfont: score(<Font 'Segoe Script' (segoesc.ttf) normal normal 400 normal>) = 10.05\n",
      "2020-07-01 10:42:42,353 - matplotlib.font_manager - DEBUG - findfont: score(<Font 'Nirmala UI' (Nirmala.ttf) normal normal 400 normal>) = 10.05\n",
      "2020-07-01 10:42:42,354 - matplotlib.font_manager - DEBUG - findfont: score(<Font 'Consolas' (consolaz.ttf) italic normal bold normal>) = 11.335\n",
      "2020-07-01 10:42:42,356 - matplotlib.font_manager - DEBUG - findfont: score(<Font 'Ebrima' (ebrima.ttf) normal normal 400 normal>) = 10.05\n",
      "2020-07-01 10:42:42,357 - matplotlib.font_manager - DEBUG - findfont: score(<Font 'Leelawadee UI' (LeelaUIb.ttf) normal normal bold normal>) = 10.335\n",
      "2020-07-01 10:42:42,358 - matplotlib.font_manager - DEBUG - findfont: score(<Font 'Javanese Text' (javatext.ttf) normal normal 400 normal>) = 10.05\n",
      "2020-07-01 10:42:42,358 - matplotlib.font_manager - DEBUG - findfont: score(<Font 'Segoe UI' (segoeuil.ttf) normal normal light normal>) = 10.24\n",
      "2020-07-01 10:42:42,358 - matplotlib.font_manager - DEBUG - findfont: score(<Font 'Franklin Gothic Medium' (framdit.ttf) italic normal medium normal>) = 11.145\n",
      "2020-07-01 10:42:42,359 - matplotlib.font_manager - DEBUG - findfont: score(<Font 'Microsoft YaHei' (msyhbd.ttc) normal normal bold normal>) = 10.335\n",
      "2020-07-01 10:42:42,359 - matplotlib.font_manager - DEBUG - findfont: score(<Font 'Bahnschrift' (bahnschrift.ttf) normal normal 400 normal>) = 10.05\n",
      "2020-07-01 10:42:42,360 - matplotlib.font_manager - DEBUG - findfont: score(<Font 'Malgun Gothic' (malgun.ttf) normal normal 400 normal>) = 10.05\n",
      "2020-07-01 10:42:42,361 - matplotlib.font_manager - DEBUG - findfont: score(<Font 'Webdings' (webdings.ttf) normal normal 400 normal>) = 10.05\n",
      "2020-07-01 10:42:42,361 - matplotlib.font_manager - DEBUG - findfont: Matching :family=sans-serif:style=normal:variant=normal:weight=normal:stretch=normal:size=10.0 to DejaVu Sans ('C:\\\\Users\\\\Datalyo-38\\\\Anaconda3\\\\lib\\\\site-packages\\\\matplotlib\\\\mpl-data\\\\fonts\\\\ttf\\\\DejaVuSans.ttf') with score of 0.050000.\n"
     ]
    },
    {
     "data": {
      "image/png": "[encoded data removed]",
      "text/plain": [
       "<Figure size 1152x720 with 1 Axes>"
      ]
     },
     "metadata": {
      "needs_background": "light"
     },
     "output_type": "display_data"
    }
   ],
   "source": [
    "# On considère les deux dimensions les plus importantes\n",
    "df_tfidf['Dim 1'] = tsne_results[:,0]\n",
    "df_tfidf['Dim 2'] = tsne_results[:,1]\n",
    "\n",
    "# On projette les données sur les deux axes, en colorant les points avec les labels\n",
    "plt.figure(figsize=(16,10))\n",
    "sns.scatterplot(\n",
    "    x = \"Dim 1\", y = \"Dim 2\",\n",
    "    hue = \"label_3\",\n",
    "    palette = sns.color_palette(\"hls\", 3),\n",
    "    data = df_tfidf,\n",
    "    legend = \"full\",\n",
    "    alpha = 1.0\n",
    ")"
   ]
  },
  {
   "cell_type": "code",
   "execution_count": null,
   "metadata": {},
   "outputs": [],
   "source": []
  }
 ],
 "metadata": {
  "kernelspec": {
   "display_name": "Python 3",
   "language": "python",
   "name": "python3"
  },
  "language_info": {
   "codemirror_mode": {
    "name": "ipython",
    "version": 3
   },
   "file_extension": ".py",
   "mimetype": "text/x-python",
   "name": "python",
   "nbconvert_exporter": "python",
   "pygments_lexer": "ipython3",
   "version": "3.7.4"
  },
  "toc": {
   "base_numbering": 1,
   "nav_menu": {},
   "number_sections": true,
   "sideBar": true,
   "skip_h1_title": false,
   "title_cell": "Table of Contents",
   "title_sidebar": "Contents",
   "toc_cell": false,
   "toc_position": {},
   "toc_section_display": true,
   "toc_window_display": false
  }
 },
 "nbformat": 4,
 "nbformat_minor": 2
}
